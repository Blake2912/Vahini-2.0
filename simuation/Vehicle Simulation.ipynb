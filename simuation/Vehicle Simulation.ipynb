{
  "cells": [
    {
      "cell_type": "markdown",
      "metadata": {
        "id": "view-in-github",
        "colab_type": "text"
      },
      "source": [
        "<a href=\"https://colab.research.google.com/github/Blake2912/Vahini-2.0/blob/simulation-main/simuation/Vehicle%20Simulation.ipynb\" target=\"_parent\"><img src=\"https://colab.research.google.com/assets/colab-badge.svg\" alt=\"Open In Colab\"/></a>"
      ]
    },
    {
      "cell_type": "markdown",
      "source": [
        "Open in Colab and Run for smooth functioning"
      ],
      "metadata": {
        "id": "W3FvqhMHl2ij"
      },
      "id": "W3FvqhMHl2ij"
    },
    {
      "cell_type": "code",
      "execution_count": 23,
      "id": "40fce532",
      "metadata": {
        "id": "40fce532",
        "outputId": "eb294825-ed87-4861-dc94-f6f51b305082",
        "colab": {
          "base_uri": "https://localhost:8080/"
        }
      },
      "outputs": [
        {
          "output_type": "stream",
          "name": "stdout",
          "text": [
            "Looking in indexes: https://pypi.org/simple, https://us-python.pkg.dev/colab-wheels/public/simple/\n",
            "Requirement already satisfied: osmnx in /usr/local/lib/python3.9/dist-packages (1.3.0)\n",
            "Requirement already satisfied: networkx in /usr/local/lib/python3.9/dist-packages (3.0)\n",
            "Requirement already satisfied: shapely in /usr/local/lib/python3.9/dist-packages (2.0.1)\n",
            "Requirement already satisfied: ipyleaflet in /usr/local/lib/python3.9/dist-packages (0.17.2)\n",
            "Requirement already satisfied: ipywidgets in /usr/local/lib/python3.9/dist-packages (7.7.1)\n",
            "Requirement already satisfied: numpy>=1.23 in /usr/local/lib/python3.9/dist-packages (from osmnx) (1.24.2)\n",
            "Requirement already satisfied: requests>=2.28 in /usr/local/lib/python3.9/dist-packages (from osmnx) (2.28.2)\n",
            "Requirement already satisfied: pandas>=1.5 in /usr/local/lib/python3.9/dist-packages (from osmnx) (2.0.0)\n",
            "Requirement already satisfied: pyproj>=3.4 in /usr/local/lib/python3.9/dist-packages (from osmnx) (3.5.0)\n",
            "Requirement already satisfied: geopandas>=0.12 in /usr/local/lib/python3.9/dist-packages (from osmnx) (0.12.2)\n",
            "Requirement already satisfied: matplotlib>=3.5 in /usr/local/lib/python3.9/dist-packages (from osmnx) (3.7.1)\n",
            "Requirement already satisfied: python-dateutil>=2.8 in /usr/local/lib/python3.9/dist-packages (from osmnx) (2.8.2)\n",
            "Requirement already satisfied: branca>=0.5.0 in /usr/local/lib/python3.9/dist-packages (from ipyleaflet) (0.6.0)\n",
            "Requirement already satisfied: xyzservices>=2021.8.1 in /usr/local/lib/python3.9/dist-packages (from ipyleaflet) (2023.2.0)\n",
            "Requirement already satisfied: traittypes<3,>=0.2.1 in /usr/local/lib/python3.9/dist-packages (from ipyleaflet) (0.2.1)\n",
            "Requirement already satisfied: ipython>=4.0.0 in /usr/local/lib/python3.9/dist-packages (from ipywidgets) (7.34.0)\n",
            "Requirement already satisfied: ipython-genutils~=0.2.0 in /usr/local/lib/python3.9/dist-packages (from ipywidgets) (0.2.0)\n",
            "Requirement already satisfied: traitlets>=4.3.1 in /usr/local/lib/python3.9/dist-packages (from ipywidgets) (5.7.1)\n",
            "Requirement already satisfied: jupyterlab-widgets>=1.0.0 in /usr/local/lib/python3.9/dist-packages (from ipywidgets) (3.0.7)\n",
            "Requirement already satisfied: ipykernel>=4.5.1 in /usr/local/lib/python3.9/dist-packages (from ipywidgets) (5.5.6)\n",
            "Requirement already satisfied: widgetsnbextension~=3.6.0 in /usr/local/lib/python3.9/dist-packages (from ipywidgets) (3.6.4)\n",
            "Requirement already satisfied: jinja2 in /usr/local/lib/python3.9/dist-packages (from branca>=0.5.0->ipyleaflet) (3.1.2)\n",
            "Requirement already satisfied: fiona>=1.8 in /usr/local/lib/python3.9/dist-packages (from geopandas>=0.12->osmnx) (1.9.3)\n",
            "Requirement already satisfied: packaging in /usr/local/lib/python3.9/dist-packages (from geopandas>=0.12->osmnx) (23.0)\n",
            "Requirement already satisfied: jupyter-client in /usr/local/lib/python3.9/dist-packages (from ipykernel>=4.5.1->ipywidgets) (6.1.12)\n",
            "Requirement already satisfied: tornado>=4.2 in /usr/local/lib/python3.9/dist-packages (from ipykernel>=4.5.1->ipywidgets) (6.2)\n",
            "Requirement already satisfied: pickleshare in /usr/local/lib/python3.9/dist-packages (from ipython>=4.0.0->ipywidgets) (0.7.5)\n",
            "Requirement already satisfied: pexpect>4.3 in /usr/local/lib/python3.9/dist-packages (from ipython>=4.0.0->ipywidgets) (4.8.0)\n",
            "Requirement already satisfied: decorator in /usr/local/lib/python3.9/dist-packages (from ipython>=4.0.0->ipywidgets) (4.4.2)\n",
            "Requirement already satisfied: matplotlib-inline in /usr/local/lib/python3.9/dist-packages (from ipython>=4.0.0->ipywidgets) (0.1.6)\n",
            "Requirement already satisfied: jedi>=0.16 in /usr/local/lib/python3.9/dist-packages (from ipython>=4.0.0->ipywidgets) (0.18.2)\n",
            "Requirement already satisfied: prompt-toolkit!=3.0.0,!=3.0.1,<3.1.0,>=2.0.0 in /usr/local/lib/python3.9/dist-packages (from ipython>=4.0.0->ipywidgets) (3.0.38)\n",
            "Requirement already satisfied: pygments in /usr/local/lib/python3.9/dist-packages (from ipython>=4.0.0->ipywidgets) (2.14.0)\n",
            "Requirement already satisfied: setuptools>=18.5 in /usr/local/lib/python3.9/dist-packages (from ipython>=4.0.0->ipywidgets) (67.6.1)\n",
            "Requirement already satisfied: backcall in /usr/local/lib/python3.9/dist-packages (from ipython>=4.0.0->ipywidgets) (0.2.0)\n",
            "Requirement already satisfied: pyparsing>=2.3.1 in /usr/local/lib/python3.9/dist-packages (from matplotlib>=3.5->osmnx) (3.0.9)\n",
            "Requirement already satisfied: kiwisolver>=1.0.1 in /usr/local/lib/python3.9/dist-packages (from matplotlib>=3.5->osmnx) (1.4.4)\n",
            "Requirement already satisfied: fonttools>=4.22.0 in /usr/local/lib/python3.9/dist-packages (from matplotlib>=3.5->osmnx) (4.39.3)\n",
            "Requirement already satisfied: importlib-resources>=3.2.0 in /usr/local/lib/python3.9/dist-packages (from matplotlib>=3.5->osmnx) (5.12.0)\n",
            "Requirement already satisfied: contourpy>=1.0.1 in /usr/local/lib/python3.9/dist-packages (from matplotlib>=3.5->osmnx) (1.0.7)\n",
            "Requirement already satisfied: cycler>=0.10 in /usr/local/lib/python3.9/dist-packages (from matplotlib>=3.5->osmnx) (0.11.0)\n",
            "Requirement already satisfied: pillow>=6.2.0 in /usr/local/lib/python3.9/dist-packages (from matplotlib>=3.5->osmnx) (8.4.0)\n",
            "Requirement already satisfied: pytz>=2020.1 in /usr/local/lib/python3.9/dist-packages (from pandas>=1.5->osmnx) (2022.7.1)\n",
            "Requirement already satisfied: tzdata>=2022.1 in /usr/local/lib/python3.9/dist-packages (from pandas>=1.5->osmnx) (2023.3)\n",
            "Requirement already satisfied: certifi in /usr/local/lib/python3.9/dist-packages (from pyproj>=3.4->osmnx) (2022.12.7)\n",
            "Requirement already satisfied: six>=1.5 in /usr/local/lib/python3.9/dist-packages (from python-dateutil>=2.8->osmnx) (1.16.0)\n",
            "Requirement already satisfied: idna<4,>=2.5 in /usr/local/lib/python3.9/dist-packages (from requests>=2.28->osmnx) (3.4)\n",
            "Requirement already satisfied: charset-normalizer<4,>=2 in /usr/local/lib/python3.9/dist-packages (from requests>=2.28->osmnx) (2.0.12)\n",
            "Requirement already satisfied: urllib3<1.27,>=1.21.1 in /usr/local/lib/python3.9/dist-packages (from requests>=2.28->osmnx) (1.26.15)\n",
            "Requirement already satisfied: notebook>=4.4.1 in /usr/local/lib/python3.9/dist-packages (from widgetsnbextension~=3.6.0->ipywidgets) (6.4.8)\n",
            "Requirement already satisfied: cligj>=0.5 in /usr/local/lib/python3.9/dist-packages (from fiona>=1.8->geopandas>=0.12->osmnx) (0.7.2)\n",
            "Requirement already satisfied: click-plugins>=1.0 in /usr/local/lib/python3.9/dist-packages (from fiona>=1.8->geopandas>=0.12->osmnx) (1.1.1)\n",
            "Requirement already satisfied: importlib-metadata in /usr/local/lib/python3.9/dist-packages (from fiona>=1.8->geopandas>=0.12->osmnx) (6.1.0)\n",
            "Requirement already satisfied: munch>=2.3.2 in /usr/local/lib/python3.9/dist-packages (from fiona>=1.8->geopandas>=0.12->osmnx) (2.5.0)\n",
            "Requirement already satisfied: click~=8.0 in /usr/local/lib/python3.9/dist-packages (from fiona>=1.8->geopandas>=0.12->osmnx) (8.1.3)\n",
            "Requirement already satisfied: attrs>=19.2.0 in /usr/local/lib/python3.9/dist-packages (from fiona>=1.8->geopandas>=0.12->osmnx) (22.2.0)\n",
            "Requirement already satisfied: zipp>=3.1.0 in /usr/local/lib/python3.9/dist-packages (from importlib-resources>=3.2.0->matplotlib>=3.5->osmnx) (3.15.0)\n",
            "Requirement already satisfied: parso<0.9.0,>=0.8.0 in /usr/local/lib/python3.9/dist-packages (from jedi>=0.16->ipython>=4.0.0->ipywidgets) (0.8.3)\n",
            "Requirement already satisfied: nbconvert in /usr/local/lib/python3.9/dist-packages (from notebook>=4.4.1->widgetsnbextension~=3.6.0->ipywidgets) (6.5.4)\n",
            "Requirement already satisfied: jupyter-core>=4.6.1 in /usr/local/lib/python3.9/dist-packages (from notebook>=4.4.1->widgetsnbextension~=3.6.0->ipywidgets) (5.3.0)\n",
            "Requirement already satisfied: nbformat in /usr/local/lib/python3.9/dist-packages (from notebook>=4.4.1->widgetsnbextension~=3.6.0->ipywidgets) (5.8.0)\n",
            "Requirement already satisfied: terminado>=0.8.3 in /usr/local/lib/python3.9/dist-packages (from notebook>=4.4.1->widgetsnbextension~=3.6.0->ipywidgets) (0.17.1)\n",
            "Requirement already satisfied: pyzmq>=17 in /usr/local/lib/python3.9/dist-packages (from notebook>=4.4.1->widgetsnbextension~=3.6.0->ipywidgets) (23.2.1)\n",
            "Requirement already satisfied: Send2Trash>=1.8.0 in /usr/local/lib/python3.9/dist-packages (from notebook>=4.4.1->widgetsnbextension~=3.6.0->ipywidgets) (1.8.0)\n",
            "Requirement already satisfied: prometheus-client in /usr/local/lib/python3.9/dist-packages (from notebook>=4.4.1->widgetsnbextension~=3.6.0->ipywidgets) (0.16.0)\n",
            "Requirement already satisfied: nest-asyncio>=1.5 in /usr/local/lib/python3.9/dist-packages (from notebook>=4.4.1->widgetsnbextension~=3.6.0->ipywidgets) (1.5.6)\n",
            "Requirement already satisfied: argon2-cffi in /usr/local/lib/python3.9/dist-packages (from notebook>=4.4.1->widgetsnbextension~=3.6.0->ipywidgets) (21.3.0)\n",
            "Requirement already satisfied: ptyprocess>=0.5 in /usr/local/lib/python3.9/dist-packages (from pexpect>4.3->ipython>=4.0.0->ipywidgets) (0.7.0)\n",
            "Requirement already satisfied: wcwidth in /usr/local/lib/python3.9/dist-packages (from prompt-toolkit!=3.0.0,!=3.0.1,<3.1.0,>=2.0.0->ipython>=4.0.0->ipywidgets) (0.2.6)\n",
            "Requirement already satisfied: MarkupSafe>=2.0 in /usr/local/lib/python3.9/dist-packages (from jinja2->branca>=0.5.0->ipyleaflet) (2.1.2)\n",
            "Requirement already satisfied: platformdirs>=2.5 in /usr/local/lib/python3.9/dist-packages (from jupyter-core>=4.6.1->notebook>=4.4.1->widgetsnbextension~=3.6.0->ipywidgets) (3.2.0)\n",
            "Requirement already satisfied: argon2-cffi-bindings in /usr/local/lib/python3.9/dist-packages (from argon2-cffi->notebook>=4.4.1->widgetsnbextension~=3.6.0->ipywidgets) (21.2.0)\n",
            "Requirement already satisfied: defusedxml in /usr/local/lib/python3.9/dist-packages (from nbconvert->notebook>=4.4.1->widgetsnbextension~=3.6.0->ipywidgets) (0.7.1)\n",
            "Requirement already satisfied: bleach in /usr/local/lib/python3.9/dist-packages (from nbconvert->notebook>=4.4.1->widgetsnbextension~=3.6.0->ipywidgets) (6.0.0)\n",
            "Requirement already satisfied: nbclient>=0.5.0 in /usr/local/lib/python3.9/dist-packages (from nbconvert->notebook>=4.4.1->widgetsnbextension~=3.6.0->ipywidgets) (0.7.3)\n",
            "Requirement already satisfied: tinycss2 in /usr/local/lib/python3.9/dist-packages (from nbconvert->notebook>=4.4.1->widgetsnbextension~=3.6.0->ipywidgets) (1.2.1)\n",
            "Requirement already satisfied: pandocfilters>=1.4.1 in /usr/local/lib/python3.9/dist-packages (from nbconvert->notebook>=4.4.1->widgetsnbextension~=3.6.0->ipywidgets) (1.5.0)\n",
            "Requirement already satisfied: beautifulsoup4 in /usr/local/lib/python3.9/dist-packages (from nbconvert->notebook>=4.4.1->widgetsnbextension~=3.6.0->ipywidgets) (4.11.2)\n",
            "Requirement already satisfied: jupyterlab-pygments in /usr/local/lib/python3.9/dist-packages (from nbconvert->notebook>=4.4.1->widgetsnbextension~=3.6.0->ipywidgets) (0.2.2)\n",
            "Requirement already satisfied: lxml in /usr/local/lib/python3.9/dist-packages (from nbconvert->notebook>=4.4.1->widgetsnbextension~=3.6.0->ipywidgets) (4.9.2)\n",
            "Requirement already satisfied: entrypoints>=0.2.2 in /usr/local/lib/python3.9/dist-packages (from nbconvert->notebook>=4.4.1->widgetsnbextension~=3.6.0->ipywidgets) (0.4)\n",
            "Requirement already satisfied: mistune<2,>=0.8.1 in /usr/local/lib/python3.9/dist-packages (from nbconvert->notebook>=4.4.1->widgetsnbextension~=3.6.0->ipywidgets) (0.8.4)\n",
            "Requirement already satisfied: jsonschema>=2.6 in /usr/local/lib/python3.9/dist-packages (from nbformat->notebook>=4.4.1->widgetsnbextension~=3.6.0->ipywidgets) (4.3.3)\n",
            "Requirement already satisfied: fastjsonschema in /usr/local/lib/python3.9/dist-packages (from nbformat->notebook>=4.4.1->widgetsnbextension~=3.6.0->ipywidgets) (2.16.3)\n",
            "Requirement already satisfied: pyrsistent!=0.17.0,!=0.17.1,!=0.17.2,>=0.14.0 in /usr/local/lib/python3.9/dist-packages (from jsonschema>=2.6->nbformat->notebook>=4.4.1->widgetsnbextension~=3.6.0->ipywidgets) (0.19.3)\n",
            "Requirement already satisfied: cffi>=1.0.1 in /usr/local/lib/python3.9/dist-packages (from argon2-cffi-bindings->argon2-cffi->notebook>=4.4.1->widgetsnbextension~=3.6.0->ipywidgets) (1.15.1)\n",
            "Requirement already satisfied: soupsieve>1.2 in /usr/local/lib/python3.9/dist-packages (from beautifulsoup4->nbconvert->notebook>=4.4.1->widgetsnbextension~=3.6.0->ipywidgets) (2.4)\n",
            "Requirement already satisfied: webencodings in /usr/local/lib/python3.9/dist-packages (from bleach->nbconvert->notebook>=4.4.1->widgetsnbextension~=3.6.0->ipywidgets) (0.5.1)\n",
            "Requirement already satisfied: pycparser in /usr/local/lib/python3.9/dist-packages (from cffi>=1.0.1->argon2-cffi-bindings->argon2-cffi->notebook>=4.4.1->widgetsnbextension~=3.6.0->ipywidgets) (2.21)\n"
          ]
        }
      ],
      "source": [
        "!pip install osmnx networkx shapely ipyleaflet ipywidgets"
      ]
    },
    {
      "cell_type": "code",
      "execution_count": 31,
      "id": "897be0cc",
      "metadata": {
        "id": "897be0cc"
      },
      "outputs": [],
      "source": [
        "import osmnx as ox\n",
        "import networkx as nx\n",
        "import ipyleaflet as ipl\n",
        "import pickle\n",
        "import shapely\n",
        "\n",
        "from shapely.geometry import Polygon\n",
        "from ipyleaflet import Map, Marker, FullScreenControl, AwesomeIcon\n",
        "from ipywidgets import interact\n",
        "from time import sleep"
      ]
    },
    {
      "cell_type": "code",
      "execution_count": 32,
      "id": "b0f58c5d",
      "metadata": {
        "id": "b0f58c5d",
        "outputId": "c376a89d-00c9-4868-b1b9-5dadb39d5115",
        "colab": {
          "base_uri": "https://localhost:8080/",
          "height": 653
        }
      },
      "outputs": [
        {
          "output_type": "display_data",
          "data": {
            "text/plain": [
              "<Figure size 800x800 with 1 Axes>"
            ],
            "image/png": "[encoded data removed]"
          },
          "metadata": {}
        }
      ],
      "source": [
        "filename = \"/content/Trees_Final.pkl\"\n",
        "\n",
        "with open(filename, \"rb\") as f:\n",
        "    G = pickle.load(f)\n",
        "\n",
        "# Plot the graph\n",
        "fig, ax = ox.plot_graph(G)"
      ]
    },
    {
      "cell_type": "code",
      "execution_count": 33,
      "id": "87a572a6",
      "metadata": {
        "id": "87a572a6",
        "outputId": "12036e78-3186-4aef-b138-95cdb64e2611",
        "colab": {
          "base_uri": "https://localhost:8080/",
          "height": 649
        }
      },
      "outputs": [
        {
          "output_type": "execute_result",
          "data": {
            "text/plain": [
              "<folium.folium.Map at 0x7fe0a269b1f0>"
            ],
            "text/html": [
              "<div style=\"width:100%;\"><div style=\"position:relative;width:100%;height:0;padding-bottom:60%;\"><span style=\"color:#565656\">Make this Notebook Trusted to load map: File -> Trust Notebook</span><iframe srcdoc=\"&lt;!DOCTYPE html&gt;\n",
              "&lt;html&gt;\n",
              "&lt;head&gt;\n",
              "    \n",
              "    &lt;meta http-equiv=&quot;content-type&quot; content=&quot;text/html; charset=UTF-8&quot; /&gt;\n",
              "    \n",
              "        &lt;script&gt;\n",
              "            L_NO_TOUCH = false;\n",
              "            L_DISABLE_3D = false;\n",
              "        &lt;/script&gt;\n",
              "    \n",
              "    &lt;style&gt;html, body {width: 100%;height: 100%;margin: 0;padding: 0;}&lt;/style&gt;\n",
              "    &lt;style&gt;#map {position:absolute;top:0;bottom:0;right:0;left:0;}&lt;/style&gt;\n",
              "    &lt;script src=&quot;https://cdn.jsdelivr.net/npm/leaflet@1.9.3/dist/leaflet.js&quot;&gt;&lt;/script&gt;\n",
              "    &lt;script src=&quot;https://code.jquery.com/jquery-1.12.4.min.js&quot;&gt;&lt;/script&gt;\n",
              "    &lt;script src=&quot;https://cdn.jsdelivr.net/npm/bootstrap@5.2.2/dist/js/bootstrap.bundle.min.js&quot;&gt;&lt;/script&gt;\n",
              "    &lt;script src=&quot;https://cdnjs.cloudflare.com/ajax/libs/Leaflet.awesome-markers/2.0.2/leaflet.awesome-markers.js&quot;&gt;&lt;/script&gt;\n",
              "    &lt;link rel=&quot;stylesheet&quot; href=&quot;https://cdn.jsdelivr.net/npm/leaflet@1.9.3/dist/leaflet.css&quot;/&gt;\n",
              "    &lt;link rel=&quot;stylesheet&quot; href=&quot;https://cdn.jsdelivr.net/npm/bootstrap@5.2.2/dist/css/bootstrap.min.css&quot;/&gt;\n",
              "    &lt;link rel=&quot;stylesheet&quot; href=&quot;https://netdna.bootstrapcdn.com/bootstrap/3.0.0/css/bootstrap.min.css&quot;/&gt;\n",
              "    &lt;link rel=&quot;stylesheet&quot; href=&quot;https://cdn.jsdelivr.net/npm/@fortawesome/fontawesome-free@6.2.0/css/all.min.css&quot;/&gt;\n",
              "    &lt;link rel=&quot;stylesheet&quot; href=&quot;https://cdnjs.cloudflare.com/ajax/libs/Leaflet.awesome-markers/2.0.2/leaflet.awesome-markers.css&quot;/&gt;\n",
              "    &lt;link rel=&quot;stylesheet&quot; href=&quot;https://cdn.jsdelivr.net/gh/python-visualization/folium/folium/templates/leaflet.awesome.rotate.min.css&quot;/&gt;\n",
              "    \n",
              "            &lt;meta name=&quot;viewport&quot; content=&quot;width=device-width,\n",
              "                initial-scale=1.0, maximum-scale=1.0, user-scalable=no&quot; /&gt;\n",
              "            &lt;style&gt;\n",
              "                #map_b45cf6a0340832b7d4415645de40930e {\n",
              "                    position: relative;\n",
              "                    width: 100.0%;\n",
              "                    height: 100.0%;\n",
              "                    left: 0.0%;\n",
              "                    top: 0.0%;\n",
              "                }\n",
              "                .leaflet-container { font-size: 1rem; }\n",
              "            &lt;/style&gt;\n",
              "        \n",
              "&lt;/head&gt;\n",
              "&lt;body&gt;\n",
              "    \n",
              "    \n",
              "            &lt;div class=&quot;folium-map&quot; id=&quot;map_b45cf6a0340832b7d4415645de40930e&quot; &gt;&lt;/div&gt;\n",
              "        \n",
              "&lt;/body&gt;\n",
              "&lt;script&gt;\n",
              "    \n",
              "    \n",
              "            var map_b45cf6a0340832b7d4415645de40930e = L.map(\n",
              "                &quot;map_b45cf6a0340832b7d4415645de40930e&quot;,\n",
              "                {\n",
              "                    center: [12.96632585306993, 77.7114849525969],\n",
              "                    crs: L.CRS.EPSG3857,\n",
              "                    zoom: 1,\n",
              "                    zoomControl: true,\n",
              "                    preferCanvas: false,\n",
              "                }\n",
              "            );\n",
              "\n",
              "            \n",
              "\n",
              "        \n",
              "    \n",
              "            var tile_layer_59794ca93f5cd3e62d8e4eb196f986a3 = L.tileLayer(\n",
              "                &quot;https://cartodb-basemaps-{s}.global.ssl.fastly.net/light_all/{z}/{x}/{y}.png&quot;,\n",
              "                {&quot;attribution&quot;: &quot;\\u0026copy; \\u003ca target=\\&quot;_blank\\&quot; href=\\&quot;http://www.openstreetmap.org/copyright\\&quot;\\u003eOpenStreetMap\\u003c/a\\u003e contributors \\u0026copy; \\u003ca target=\\&quot;_blank\\&quot; href=\\&quot;http://cartodb.com/attributions\\&quot;\\u003eCartoDB\\u003c/a\\u003e, CartoDB \\u003ca target=\\&quot;_blank\\&quot; href =\\&quot;http://cartodb.com/attributions\\&quot;\\u003eattributions\\u003c/a\\u003e&quot;, &quot;detectRetina&quot;: false, &quot;maxNativeZoom&quot;: 18, &quot;maxZoom&quot;: 18, &quot;minZoom&quot;: 0, &quot;noWrap&quot;: false, &quot;opacity&quot;: 1, &quot;subdomains&quot;: &quot;abc&quot;, &quot;tms&quot;: false}\n",
              "            ).addTo(map_b45cf6a0340832b7d4415645de40930e);\n",
              "        \n",
              "    \n",
              "            var poly_line_7a8ffd4dfbf99167df95dec579cc9568 = L.polyline(\n",
              "                [[12.96626, 77.71211], [12.9662, 77.71203]],\n",
              "                {&quot;bubblingMouseEvents&quot;: true, &quot;color&quot;: &quot;#3388ff&quot;, &quot;dashArray&quot;: null, &quot;dashOffset&quot;: null, &quot;fill&quot;: false, &quot;fillColor&quot;: &quot;#3388ff&quot;, &quot;fillOpacity&quot;: 0.2, &quot;fillRule&quot;: &quot;evenodd&quot;, &quot;lineCap&quot;: &quot;round&quot;, &quot;lineJoin&quot;: &quot;round&quot;, &quot;noClip&quot;: false, &quot;opacity&quot;: 1.0, &quot;smoothFactor&quot;: 1.0, &quot;stroke&quot;: true, &quot;weight&quot;: 3}\n",
              "            ).addTo(map_b45cf6a0340832b7d4415645de40930e);\n",
              "        \n",
              "    \n",
              "            var poly_line_ebe882de946692159ccf0a3363eeae47 = L.polyline(\n",
              "                [[12.9662, 77.71203], [12.96612, 77.71179]],\n",
              "                {&quot;bubblingMouseEvents&quot;: true, &quot;color&quot;: &quot;#3388ff&quot;, &quot;dashArray&quot;: null, &quot;dashOffset&quot;: null, &quot;fill&quot;: false, &quot;fillColor&quot;: &quot;#3388ff&quot;, &quot;fillOpacity&quot;: 0.2, &quot;fillRule&quot;: &quot;evenodd&quot;, &quot;lineCap&quot;: &quot;round&quot;, &quot;lineJoin&quot;: &quot;round&quot;, &quot;noClip&quot;: false, &quot;opacity&quot;: 1.0, &quot;smoothFactor&quot;: 1.0, &quot;stroke&quot;: true, &quot;weight&quot;: 3}\n",
              "            ).addTo(map_b45cf6a0340832b7d4415645de40930e);\n",
              "        \n",
              "    \n",
              "            var poly_line_e51da1aa4c47f612602289598b44d8bb = L.polyline(\n",
              "                [[12.96612, 77.71179], [12.96603, 77.71156]],\n",
              "                {&quot;bubblingMouseEvents&quot;: true, &quot;color&quot;: &quot;#3388ff&quot;, &quot;dashArray&quot;: null, &quot;dashOffset&quot;: null, &quot;fill&quot;: false, &quot;fillColor&quot;: &quot;#3388ff&quot;, &quot;fillOpacity&quot;: 0.2, &quot;fillRule&quot;: &quot;evenodd&quot;, &quot;lineCap&quot;: &quot;round&quot;, &quot;lineJoin&quot;: &quot;round&quot;, &quot;noClip&quot;: false, &quot;opacity&quot;: 1.0, &quot;smoothFactor&quot;: 1.0, &quot;stroke&quot;: true, &quot;weight&quot;: 3}\n",
              "            ).addTo(map_b45cf6a0340832b7d4415645de40930e);\n",
              "        \n",
              "    \n",
              "            var poly_line_91cd7dbb16882a1d7d426a1c032a02f2 = L.polyline(\n",
              "                [[12.96603, 77.71156], [12.96598, 77.71148]],\n",
              "                {&quot;bubblingMouseEvents&quot;: true, &quot;color&quot;: &quot;#3388ff&quot;, &quot;dashArray&quot;: null, &quot;dashOffset&quot;: null, &quot;fill&quot;: false, &quot;fillColor&quot;: &quot;#3388ff&quot;, &quot;fillOpacity&quot;: 0.2, &quot;fillRule&quot;: &quot;evenodd&quot;, &quot;lineCap&quot;: &quot;round&quot;, &quot;lineJoin&quot;: &quot;round&quot;, &quot;noClip&quot;: false, &quot;opacity&quot;: 1.0, &quot;smoothFactor&quot;: 1.0, &quot;stroke&quot;: true, &quot;weight&quot;: 3}\n",
              "            ).addTo(map_b45cf6a0340832b7d4415645de40930e);\n",
              "        \n",
              "    \n",
              "            var poly_line_9a053e748927203fed61617eddc8b70e = L.polyline(\n",
              "                [[12.96598, 77.71148], [12.96608, 77.71141]],\n",
              "                {&quot;bubblingMouseEvents&quot;: true, &quot;color&quot;: &quot;#3388ff&quot;, &quot;dashArray&quot;: null, &quot;dashOffset&quot;: null, &quot;fill&quot;: false, &quot;fillColor&quot;: &quot;#3388ff&quot;, &quot;fillOpacity&quot;: 0.2, &quot;fillRule&quot;: &quot;evenodd&quot;, &quot;lineCap&quot;: &quot;round&quot;, &quot;lineJoin&quot;: &quot;round&quot;, &quot;noClip&quot;: false, &quot;opacity&quot;: 1.0, &quot;smoothFactor&quot;: 1.0, &quot;stroke&quot;: true, &quot;weight&quot;: 3}\n",
              "            ).addTo(map_b45cf6a0340832b7d4415645de40930e);\n",
              "        \n",
              "    \n",
              "            var poly_line_86488c3e1ed20ba6d75f3d361fdb19dc = L.polyline(\n",
              "                [[12.96608, 77.71141], [12.96643, 77.71129]],\n",
              "                {&quot;bubblingMouseEvents&quot;: true, &quot;color&quot;: &quot;#3388ff&quot;, &quot;dashArray&quot;: null, &quot;dashOffset&quot;: null, &quot;fill&quot;: false, &quot;fillColor&quot;: &quot;#3388ff&quot;, &quot;fillOpacity&quot;: 0.2, &quot;fillRule&quot;: &quot;evenodd&quot;, &quot;lineCap&quot;: &quot;round&quot;, &quot;lineJoin&quot;: &quot;round&quot;, &quot;noClip&quot;: false, &quot;opacity&quot;: 1.0, &quot;smoothFactor&quot;: 1.0, &quot;stroke&quot;: true, &quot;weight&quot;: 3}\n",
              "            ).addTo(map_b45cf6a0340832b7d4415645de40930e);\n",
              "        \n",
              "    \n",
              "            var poly_line_f9a7d07dad4c0d1b166c37b7d181e66e = L.polyline(\n",
              "                [[12.96643, 77.71129], [12.96682, 77.71115]],\n",
              "                {&quot;bubblingMouseEvents&quot;: true, &quot;color&quot;: &quot;#3388ff&quot;, &quot;dashArray&quot;: null, &quot;dashOffset&quot;: null, &quot;fill&quot;: false, &quot;fillColor&quot;: &quot;#3388ff&quot;, &quot;fillOpacity&quot;: 0.2, &quot;fillRule&quot;: &quot;evenodd&quot;, &quot;lineCap&quot;: &quot;round&quot;, &quot;lineJoin&quot;: &quot;round&quot;, &quot;noClip&quot;: false, &quot;opacity&quot;: 1.0, &quot;smoothFactor&quot;: 1.0, &quot;stroke&quot;: true, &quot;weight&quot;: 3}\n",
              "            ).addTo(map_b45cf6a0340832b7d4415645de40930e);\n",
              "        \n",
              "    \n",
              "            var poly_line_c76251b59149b4a8a1142fea9d380eb2 = L.polyline(\n",
              "                [[12.96682, 77.71115], [12.96696, 77.71111]],\n",
              "                {&quot;bubblingMouseEvents&quot;: true, &quot;color&quot;: &quot;#3388ff&quot;, &quot;dashArray&quot;: null, &quot;dashOffset&quot;: null, &quot;fill&quot;: false, &quot;fillColor&quot;: &quot;#3388ff&quot;, &quot;fillOpacity&quot;: 0.2, &quot;fillRule&quot;: &quot;evenodd&quot;, &quot;lineCap&quot;: &quot;round&quot;, &quot;lineJoin&quot;: &quot;round&quot;, &quot;noClip&quot;: false, &quot;opacity&quot;: 1.0, &quot;smoothFactor&quot;: 1.0, &quot;stroke&quot;: true, &quot;weight&quot;: 3}\n",
              "            ).addTo(map_b45cf6a0340832b7d4415645de40930e);\n",
              "        \n",
              "    \n",
              "            map_b45cf6a0340832b7d4415645de40930e.fitBounds(\n",
              "                [[12.96598, 77.71111], [12.96696, 77.71211]],\n",
              "                {}\n",
              "            );\n",
              "        \n",
              "&lt;/script&gt;\n",
              "&lt;/html&gt;\" style=\"position:absolute;width:100%;height:100%;left:0;top:0;border:none !important;\" allowfullscreen webkitallowfullscreen mozallowfullscreen></iframe></div></div>"
            ]
          },
          "metadata": {},
          "execution_count": 33
        }
      ],
      "source": [
        "# Finding the shortest path with the given start and end lat-lng\n",
        "optimizer = 'length'\n",
        "\n",
        "orig_node = \"basic_science\"\n",
        "dest_node = \"hostel_turn\"\n",
        "\n",
        "shortest_route = nx.shortest_path(G, orig_node, dest_node, weight=optimizer)\n",
        "\n",
        "shortest_route_map = ox.plot_route_folium(G, shortest_route)\n",
        "shortest_route_map"
      ]
    },
    {
      "cell_type": "code",
      "source": [
        "shortest_route"
      ],
      "metadata": {
        "id": "yge14KBy9e95",
        "outputId": "a242fcd6-6010-44fa-e6c1-06765dc45b99",
        "colab": {
          "base_uri": "https://localhost:8080/"
        }
      },
      "id": "yge14KBy9e95",
      "execution_count": 34,
      "outputs": [
        {
          "output_type": "execute_result",
          "data": {
            "text/plain": [
              "['basic_science',\n",
              " 't-1',\n",
              " 't-2',\n",
              " 't-3',\n",
              " 'ganesha_statue',\n",
              " 't-4',\n",
              " 't-5',\n",
              " 't-6',\n",
              " 'hostel_turn']"
            ]
          },
          "metadata": {},
          "execution_count": 34
        }
      ]
    },
    {
      "cell_type": "code",
      "execution_count": 35,
      "id": "a40d072b",
      "metadata": {
        "id": "a40d072b",
        "outputId": "641b3f98-4b34-4882-9fea-2665d32fd45b",
        "colab": {
          "base_uri": "https://localhost:8080/",
          "height": 240
        }
      },
      "outputs": [
        {
          "output_type": "error",
          "ename": "TypeError",
          "evalue": "ignored",
          "traceback": [
            "\u001b[0;31m---------------------------------------------------------------------------\u001b[0m",
            "\u001b[0;31mTypeError\u001b[0m                                 Traceback (most recent call last)",
            "\u001b[0;32m<ipython-input-35-75fe4927e9ca>\u001b[0m in \u001b[0;36m<cell line: 4>\u001b[0;34m()\u001b[0m\n\u001b[1;32m      2\u001b[0m \u001b[0;34m\u001b[0m\u001b[0m\n\u001b[1;32m      3\u001b[0m \u001b[0mlongest_path\u001b[0m \u001b[0;34m=\u001b[0m \u001b[0;34m[\u001b[0m\u001b[0;34m]\u001b[0m\u001b[0;34m\u001b[0m\u001b[0;34m\u001b[0m\u001b[0m\n\u001b[0;32m----> 4\u001b[0;31m \u001b[0;32mfor\u001b[0m \u001b[0mi\u001b[0m \u001b[0;32min\u001b[0m \u001b[0mrange\u001b[0m\u001b[0;34m(\u001b[0m\u001b[0mlen\u001b[0m\u001b[0;34m(\u001b[0m\u001b[0mshortest_route\u001b[0m\u001b[0;34m)\u001b[0m \u001b[0;34m-\u001b[0m \u001b[0;36m1\u001b[0m\u001b[0;34m)\u001b[0m\u001b[0;34m:\u001b[0m\u001b[0;34m\u001b[0m\u001b[0;34m\u001b[0m\u001b[0m\n\u001b[0m\u001b[1;32m      5\u001b[0m     \u001b[0mstart\u001b[0m \u001b[0;34m=\u001b[0m \u001b[0mshortest_route\u001b[0m\u001b[0;34m[\u001b[0m\u001b[0mi\u001b[0m\u001b[0;34m]\u001b[0m\u001b[0;34m\u001b[0m\u001b[0;34m\u001b[0m\u001b[0m\n\u001b[1;32m      6\u001b[0m     \u001b[0mend\u001b[0m \u001b[0;34m=\u001b[0m \u001b[0mshortest_route\u001b[0m\u001b[0;34m[\u001b[0m\u001b[0mi\u001b[0m\u001b[0;34m+\u001b[0m\u001b[0;36m1\u001b[0m\u001b[0;34m]\u001b[0m\u001b[0;34m\u001b[0m\u001b[0;34m\u001b[0m\u001b[0m\n",
            "\u001b[0;31mTypeError\u001b[0m: 'int' object is not callable"
          ]
        }
      ],
      "source": [
        "# Finding the longest path with the given start and end nodes\n",
        "\n",
        "longest_path = []\n",
        "for i in range(len(shortest_route) - 1):\n",
        "    start = shortest_route[i]\n",
        "    end = shortest_route[i+1]\n",
        "    G.remove_edge(start, end)\n",
        "    for path in nx.all_simple_paths(G, start, end):\n",
        "        if len(path) > len(longest_path):\n",
        "            longest_path = path\n",
        "    G.add_edge(start, end)\n",
        "\n",
        "longest_route_map = ox.plot_route_folium(G, longest_path)\n",
        "longest_route_map"
      ]
    },
    {
      "cell_type": "code",
      "execution_count": 36,
      "id": "e476b707",
      "metadata": {
        "id": "e476b707",
        "outputId": "5dc034aa-0687-4c6a-e07e-ec7560e0654c",
        "colab": {
          "base_uri": "https://localhost:8080/"
        }
      },
      "outputs": [
        {
          "output_type": "execute_result",
          "data": {
            "text/plain": [
              "[(12.96626, 77.71211),\n",
              " (12.9662, 77.71203),\n",
              " (12.96612, 77.71179),\n",
              " (12.96603, 77.71156),\n",
              " (12.96598, 77.71148),\n",
              " (12.96608, 77.71141),\n",
              " (12.96643, 77.71129),\n",
              " (12.96682, 77.71115),\n",
              " (12.96696, 77.71111)]"
            ]
          },
          "metadata": {},
          "execution_count": 36
        }
      ],
      "source": [
        "# To find the coordinates in the shortest path\n",
        "route_coords = [(G.nodes[node]['y'], G.nodes[node]['x']) for node in shortest_route]\n",
        "route_coords"
      ]
    },
    {
      "cell_type": "code",
      "execution_count": 37,
      "id": "eff063bd",
      "metadata": {
        "id": "eff063bd"
      },
      "outputs": [],
      "source": [
        "# Plotting the interactive map with the center at (12.96682, 77.71231) => This center is for the map plotting not related with the graph\n",
        "center = (12.96682, 77.71231)\n",
        "m1 = ipl.Map(center=center, basemap=ipl.basemaps.CartoDB.Positron, zoom=18)\n",
        "m1.layout.height = '800px'"
      ]
    },
    {
      "cell_type": "code",
      "execution_count": 38,
      "id": "d016b24d",
      "metadata": {
        "id": "d016b24d"
      },
      "outputs": [],
      "source": [
        "# Drawing the path in the interactive map\n",
        "path = {}\n",
        "# Setting up the path dict for future use\n",
        "for i in shortest_route:\n",
        "  path[i] = [G.nodes[i]['y'],G.nodes[i]['x']]\n",
        "\n",
        "lines = ipl.Polyline(\n",
        "    locations=list(path.values()),\n",
        "    color=\"tomato\",\n",
        "    fill=False\n",
        ")\n",
        "m1.add_layer(lines)"
      ]
    },
    {
      "cell_type": "code",
      "execution_count": 39,
      "id": "b6094ee3",
      "metadata": {
        "id": "b6094ee3"
      },
      "outputs": [],
      "source": [
        "# Adding markers in the interactive map\n",
        "icon1 = AwesomeIcon(\n",
        "    name='fa-truck',\n",
        "    marker_color='green',\n",
        "    icon_color='black',\n",
        "    spin=False\n",
        ")\n",
        "\n",
        "marker = ipl.Marker(icon=icon1, location=[G.nodes[orig_node]['y'],G.nodes[orig_node]['x']])\n",
        "m1.add_layer(marker)"
      ]
    },
    {
      "cell_type": "code",
      "source": [
        "list(path.keys())"
      ],
      "metadata": {
        "id": "j-SJhjzCoV4Z",
        "outputId": "481f6d92-78f7-43b5-ebd8-085522762e69",
        "colab": {
          "base_uri": "https://localhost:8080/"
        }
      },
      "id": "j-SJhjzCoV4Z",
      "execution_count": 40,
      "outputs": [
        {
          "output_type": "execute_result",
          "data": {
            "text/plain": [
              "['basic_science',\n",
              " 't-1',\n",
              " 't-2',\n",
              " 't-3',\n",
              " 'ganesha_statue',\n",
              " 't-4',\n",
              " 't-5',\n",
              " 't-6',\n",
              " 'hostel_turn']"
            ]
          },
          "metadata": {},
          "execution_count": 40
        }
      ]
    },
    {
      "cell_type": "code",
      "execution_count": 41,
      "id": "a38e3e8d",
      "metadata": {
        "id": "a38e3e8d"
      },
      "outputs": [],
      "source": [
        "import re\n",
        "# Setting up trees on the path\n",
        "pattern = r't\\-[0-9]+'\n",
        "for point_name in list(path.keys()):\n",
        "  if re.match(pattern, point_name):\n",
        "    # Draw circle for the point\n",
        "    circle = ipl.Circle(\n",
        "        location=path[point_name],\n",
        "        radius=2,\n",
        "        color=\"DimGray\",\n",
        "        fill_color=\"SkyBlue\",\n",
        "        fill=True,\n",
        "        fill_opacity=0.85\n",
        "    )\n",
        "    m1.add_layer(circle)"
      ]
    },
    {
      "cell_type": "code",
      "execution_count": 42,
      "id": "a3afc379",
      "metadata": {
        "id": "a3afc379",
        "outputId": "2ba916f7-4522-4c47-c455-b6e13de3e90f",
        "colab": {
          "base_uri": "https://localhost:8080/",
          "height": 821,
          "referenced_widgets": [
            "c0da5547c85740c68c11432b3cc330cb",
            "61bc10fa002a478b83104a5f12a2f132",
            "ebfa4b67080144eb9907e3e8fb0357a2",
            "bc65c374b4f14f9d9521b2b6723b4525",
            "50a17476961243f9bd3f4d016d554e48",
            "28e065a455684fb9b18131c29ee6f241",
            "7734d671a0614588a532bb41a677102e",
            "1eee4efe5c494c2fba4c065078fc5c64",
            "ab341cd45be0455ca6ad82bd645e4b30",
            "4b6bf0a61a9c4d24bdc3ebefb7d04ece",
            "bc8beae8adc24c4eacf292f556f4cbea",
            "fa83c97c360c4750891ac19f14ed89e0",
            "1be39f733dec41f29a87dac520773b5e",
            "82e601b0692d41ebac0297082c4e2a8d",
            "eee2ad6c5714474388d8aa690cadf1ef",
            "1265486b5f784b1e82de4dbfb6556ebc",
            "95af403ae6cf4af18d29e9c39201eeea",
            "bb5b27432e50444a93daed0ee3d30da0",
            "a7ae26fabab1455b8d09b9de0578b4ad",
            "ee9ee7f6b11942458f96626f6fad4a8f",
            "37b5c5b99a4e4fdf9c2fd0667780de5d",
            "02f98625d71f445bb66dedebdf7b7414",
            "2892def27df2455188ddf3df11d54904"
          ]
        }
      },
      "outputs": [
        {
          "output_type": "display_data",
          "data": {
            "text/plain": [
              "Map(center=[12.96682, 77.71231], controls=(ZoomControl(options=['position', 'zoom_in_text', 'zoom_in_title', '…"
            ],
            "application/vnd.jupyter.widget-view+json": {
              "version_major": 2,
              "version_minor": 0,
              "model_id": "c0da5547c85740c68c11432b3cc330cb"
            }
          },
          "metadata": {
            "application/vnd.jupyter.widget-view+json": {
              "colab": {
                "custom_widget_manager": {
                  "url": "https://ssl.gstatic.com/colaboratory-static/widgets/colab-cdn-widget-manager/b3e629b1971e1542/manager.min.js"
                }
              }
            }
          }
        }
      ],
      "source": [
        "# Showing the map before animation\n",
        "m1"
      ]
    },
    {
      "cell_type": "code",
      "execution_count": 43,
      "id": "d37c4db9",
      "metadata": {
        "id": "d37c4db9"
      },
      "outputs": [],
      "source": [
        "# Animation\n",
        "# Moving the marker according to the path\n",
        "step = 0.5 # Speed can be varied here... higher the value lower the speed\n",
        "start_location = marker.location\n",
        "from time import sleep\n",
        "for point in path:\n",
        "  marker.location = path[point]\n",
        "  if re.match(pattern, point):\n",
        "    # Tree encountered\n",
        "    sleep(1)\n",
        "    visited = ipl.Circle(\n",
        "        location=path[point],\n",
        "        radius=2,\n",
        "        color=\"#00b521\",\n",
        "        fill_color=\"#7fff96\",\n",
        "        fill=True,\n",
        "        fill_opacity=0.85\n",
        "    )\n",
        "    m1.add_layer(visited)\n",
        "  \n",
        "  sleep(step)\n"
      ]
    },
    {
      "cell_type": "markdown",
      "source": [
        "NOTE:: Don't interact with the map as the kernel will get busy and it will crash\n",
        "The animation will be shown after the map is drawn"
      ],
      "metadata": {
        "id": "Jj1WnSPpKHKo"
      },
      "id": "Jj1WnSPpKHKo"
    },
    {
      "cell_type": "markdown",
      "id": "36d048ba",
      "metadata": {
        "id": "36d048ba"
      },
      "source": [
        "### Simulation of Vehicle running on low battery"
      ]
    },
    {
      "cell_type": "code",
      "execution_count": 17,
      "id": "749f5c9b",
      "metadata": {
        "id": "749f5c9b"
      },
      "outputs": [],
      "source": [
        "# Finding optimal path when vehicle running on low battery\n",
        "\n",
        "current_vehicle_location = \"t-4\" # Let's assume its at tree 4\n",
        "base_location = \"basic_science\" # This is the charging station\n",
        "\n",
        "range = 200 # Let us take the range in meters\n",
        "\n",
        "shortest_route = nx.shortest_path(G, current_vehicle_location, base_location, weight=optimizer)\n",
        "route_coords = [(G.nodes[node]['y'], G.nodes[node]['x']) for node in shortest_route]\n",
        "\n",
        "\n",
        "total_distance = sum(ox.distance.great_circle_vec(float(lat1), float(lng1), float(lat2), float(lng2)) \n",
        "                     for (lat1, lng1), (lat2, lng2) in zip(route_coords[:-1], route_coords[1:]))\n",
        "\n",
        "if range >= total_distance:\n",
        "  # The vehicle can move to base\n",
        "  step = 1.5\n",
        "  marker.location = route_coords[0]\n",
        "  marker.color = \"red\"\n",
        "  try:\n",
        "    # Removing the current path\n",
        "    m1.remove_layer(lines)\n",
        "  except:\n",
        "    pass\n",
        "  # Adding the path from the given nodes\n",
        "  shortest_path = ipl.Polyline(\n",
        "    locations=route_coords,\n",
        "    color=\"tomato\",\n",
        "    fill=False\n",
        "  )\n",
        "  m1.add_layer(shortest_path)\n",
        "  # Move the vehicle\n",
        "  for point in route_coords:\n",
        "    marker.location = point\n",
        "    sleep(step)\n",
        "\n",
        "else:\n",
        "  print(\"Vehicle cannot move with the given battery level range\")"
      ]
    },
    {
      "cell_type": "code",
      "execution_count": null,
      "id": "6b1145d4",
      "metadata": {
        "id": "6b1145d4"
      },
      "outputs": [],
      "source": []
    }
  ],
  "metadata": {
    "kernelspec": {
      "display_name": "Python 3 (ipykernel)",
      "language": "python",
      "name": "python3"
    },
    "language_info": {
      "codemirror_mode": {
        "name": "ipython",
        "version": 3
      },
      "file_extension": ".py",
      "mimetype": "text/x-python",
      "name": "python",
      "nbconvert_exporter": "python",
      "pygments_lexer": "ipython3",
      "version": "3.8.2"
    },
    "colab": {
      "provenance": [],
      "include_colab_link": true
    },
    "widgets": {
      "application/vnd.jupyter.widget-state+json": {
        "c0da5547c85740c68c11432b3cc330cb": {
          "model_module": "jupyter-leaflet",
          "model_name": "LeafletMapModel",
          "model_module_version": "^0.17",
          "state": {
            "_dom_classes": [],
            "_model_module": "jupyter-leaflet",
            "_model_module_version": "^0.17",
            "_model_name": "LeafletMapModel",
            "_view_count": null,
            "_view_module": "jupyter-leaflet",
            "_view_module_version": "^0.17",
            "_view_name": "LeafletMapView",
            "bottom": 31116739,
            "bounce_at_zoom_limits": true,
            "box_zoom": true,
            "center": [
              12.96682,
              77.71231
            ],
            "close_popup_on_click": true,
            "controls": [
              "IPY_MODEL_61bc10fa002a478b83104a5f12a2f132",
              "IPY_MODEL_ebfa4b67080144eb9907e3e8fb0357a2"
            ],
            "crs": {
              "name": "EPSG3857",
              "custom": false
            },
            "default_style": "IPY_MODEL_bc65c374b4f14f9d9521b2b6723b4525",
            "double_click_zoom": true,
            "dragging": true,
            "dragging_style": "IPY_MODEL_50a17476961243f9bd3f4d016d554e48",
            "east": 77.71512329578401,
            "fullscreen": false,
            "inertia": true,
            "inertia_deceleration": 3000,
            "inertia_max_speed": 1500,
            "interpolation": "bilinear",
            "keyboard": true,
            "keyboard_pan_offset": 80,
            "keyboard_zoom_offset": 1,
            "layers": [
              "IPY_MODEL_28e065a455684fb9b18131c29ee6f241",
              "IPY_MODEL_7734d671a0614588a532bb41a677102e",
              "IPY_MODEL_1eee4efe5c494c2fba4c065078fc5c64",
              "IPY_MODEL_ab341cd45be0455ca6ad82bd645e4b30",
              "IPY_MODEL_4b6bf0a61a9c4d24bdc3ebefb7d04ece",
              "IPY_MODEL_bc8beae8adc24c4eacf292f556f4cbea",
              "IPY_MODEL_fa83c97c360c4750891ac19f14ed89e0",
              "IPY_MODEL_1be39f733dec41f29a87dac520773b5e",
              "IPY_MODEL_82e601b0692d41ebac0297082c4e2a8d",
              "IPY_MODEL_bb5b27432e50444a93daed0ee3d30da0",
              "IPY_MODEL_a7ae26fabab1455b8d09b9de0578b4ad",
              "IPY_MODEL_ee9ee7f6b11942458f96626f6fad4a8f",
              "IPY_MODEL_37b5c5b99a4e4fdf9c2fd0667780de5d",
              "IPY_MODEL_02f98625d71f445bb66dedebdf7b7414",
              "IPY_MODEL_2892def27df2455188ddf3df11d54904"
            ],
            "layout": "IPY_MODEL_eee2ad6c5714474388d8aa690cadf1ef",
            "left": 48040532,
            "max_zoom": null,
            "min_zoom": null,
            "modisdate": "2023-04-10",
            "north": 12.968913417549958,
            "options": [
              "bounce_at_zoom_limits",
              "box_zoom",
              "center",
              "close_popup_on_click",
              "double_click_zoom",
              "dragging",
              "fullscreen",
              "inertia",
              "inertia_deceleration",
              "inertia_max_speed",
              "interpolation",
              "keyboard",
              "keyboard_pan_offset",
              "keyboard_zoom_offset",
              "max_zoom",
              "min_zoom",
              "prefer_canvas",
              "scroll_wheel_zoom",
              "tap",
              "tap_tolerance",
              "touch_zoom",
              "world_copy_jump",
              "zoom",
              "zoom_animation_threshold",
              "zoom_delta",
              "zoom_snap"
            ],
            "panes": {},
            "prefer_canvas": false,
            "right": 48041581,
            "scroll_wheel_zoom": false,
            "south": 12.96473131656258,
            "style": "IPY_MODEL_1265486b5f784b1e82de4dbfb6556ebc",
            "tap": true,
            "tap_tolerance": 15,
            "top": 31115939,
            "touch_zoom": true,
            "west": 77.70949602127077,
            "window_url": "https://cq6k66v2gqw-496ff2e9c6d22116-0-colab.googleusercontent.com/outputframe.html?vrz=colab-20230407-060119-RC00_522570345",
            "world_copy_jump": false,
            "zoom": 18,
            "zoom_animation_threshold": 4,
            "zoom_delta": 1,
            "zoom_snap": 1
          }
        },
        "61bc10fa002a478b83104a5f12a2f132": {
          "model_module": "jupyter-leaflet",
          "model_name": "LeafletZoomControlModel",
          "model_module_version": "^0.17",
          "state": {
            "_model_module": "jupyter-leaflet",
            "_model_module_version": "^0.17",
            "_model_name": "LeafletZoomControlModel",
            "_view_count": null,
            "_view_module": "jupyter-leaflet",
            "_view_module_version": "^0.17",
            "_view_name": "LeafletZoomControlView",
            "options": [
              "position",
              "zoom_in_text",
              "zoom_in_title",
              "zoom_out_text",
              "zoom_out_title"
            ],
            "position": "topleft",
            "zoom_in_text": "+",
            "zoom_in_title": "Zoom in",
            "zoom_out_text": "-",
            "zoom_out_title": "Zoom out"
          }
        },
        "ebfa4b67080144eb9907e3e8fb0357a2": {
          "model_module": "jupyter-leaflet",
          "model_name": "LeafletAttributionControlModel",
          "model_module_version": "^0.17",
          "state": {
            "_model_module": "jupyter-leaflet",
            "_model_module_version": "^0.17",
            "_model_name": "LeafletAttributionControlModel",
            "_view_count": null,
            "_view_module": "jupyter-leaflet",
            "_view_module_version": "^0.17",
            "_view_name": "LeafletAttributionControlView",
            "options": [
              "position",
              "prefix"
            ],
            "position": "bottomright",
            "prefix": "ipyleaflet"
          }
        },
        "bc65c374b4f14f9d9521b2b6723b4525": {
          "model_module": "jupyter-leaflet",
          "model_name": "LeafletMapStyleModel",
          "model_module_version": "^0.17",
          "state": {
            "_model_module": "jupyter-leaflet",
            "_model_module_version": "^0.17",
            "_model_name": "LeafletMapStyleModel",
            "_view_count": null,
            "_view_module": "@jupyter-widgets/base",
            "_view_module_version": "1.2.0",
            "_view_name": "StyleView",
            "cursor": "grab"
          }
        },
        "50a17476961243f9bd3f4d016d554e48": {
          "model_module": "jupyter-leaflet",
          "model_name": "LeafletMapStyleModel",
          "model_module_version": "^0.17",
          "state": {
            "_model_module": "jupyter-leaflet",
            "_model_module_version": "^0.17",
            "_model_name": "LeafletMapStyleModel",
            "_view_count": null,
            "_view_module": "@jupyter-widgets/base",
            "_view_module_version": "1.2.0",
            "_view_name": "StyleView",
            "cursor": "move"
          }
        },
        "28e065a455684fb9b18131c29ee6f241": {
          "model_module": "jupyter-leaflet",
          "model_name": "LeafletTileLayerModel",
          "model_module_version": "^0.17",
          "state": {
            "_model_module": "jupyter-leaflet",
            "_model_module_version": "^0.17",
            "_model_name": "LeafletTileLayerModel",
            "_view_count": null,
            "_view_module": "jupyter-leaflet",
            "_view_module_version": "^0.17",
            "_view_name": "LeafletTileLayerView",
            "attribution": "&copy; <a href=\"https://www.openstreetmap.org/copyright\">OpenStreetMap</a> contributors &copy; <a href=\"https://carto.com/attributions\">CARTO</a>",
            "base": true,
            "bottom": true,
            "bounds": null,
            "detect_retina": false,
            "loading": false,
            "max_native_zoom": null,
            "max_zoom": 20,
            "min_native_zoom": null,
            "min_zoom": 1,
            "name": "CartoDB.Positron",
            "no_wrap": false,
            "opacity": 1,
            "options": [
              "attribution",
              "bounds",
              "detect_retina",
              "max_native_zoom",
              "max_zoom",
              "min_native_zoom",
              "min_zoom",
              "no_wrap",
              "tile_size",
              "tms",
              "zoom_offset"
            ],
            "pane": "",
            "popup": null,
            "popup_max_height": null,
            "popup_max_width": 300,
            "popup_min_width": 50,
            "show_loading": false,
            "subitems": [],
            "tile_size": 256,
            "tms": false,
            "url": "https://a.basemaps.cartocdn.com/light_all/{z}/{x}/{y}.png",
            "visible": true,
            "zoom_offset": 0
          }
        },
        "7734d671a0614588a532bb41a677102e": {
          "model_module": "jupyter-leaflet",
          "model_name": "LeafletPolylineModel",
          "model_module_version": "^0.17",
          "state": {
            "_model_module": "jupyter-leaflet",
            "_model_module_version": "^0.17",
            "_model_name": "LeafletPolylineModel",
            "_view_count": null,
            "_view_module": "jupyter-leaflet",
            "_view_module_version": "^0.17",
            "_view_name": "LeafletPolylineView",
            "base": false,
            "bottom": false,
            "color": "tomato",
            "dash_array": null,
            "draggable": false,
            "fill": false,
            "fill_color": null,
            "fill_opacity": 0.2,
            "line_cap": "round",
            "line_join": "round",
            "locations": [
              [
                12.96626,
                77.71211
              ],
              [
                12.9662,
                77.71203
              ],
              [
                12.96612,
                77.71179
              ],
              [
                12.96603,
                77.71156
              ],
              [
                12.96598,
                77.71148
              ],
              [
                12.96608,
                77.71141
              ],
              [
                12.96643,
                77.71129
              ],
              [
                12.96682,
                77.71115
              ],
              [
                12.96696,
                77.71111
              ]
            ],
            "name": "",
            "no_clip": true,
            "opacity": 1,
            "options": [
              "color",
              "dash_array",
              "draggable",
              "fill",
              "fill_color",
              "fill_opacity",
              "line_cap",
              "line_join",
              "no_clip",
              "opacity",
              "pointer_events",
              "smooth_factor",
              "stroke",
              "transform",
              "weight"
            ],
            "pane": "",
            "pointer_events": "",
            "popup": null,
            "popup_max_height": null,
            "popup_max_width": 300,
            "popup_min_width": 50,
            "rotation": true,
            "scaling": true,
            "smooth_factor": 1,
            "stroke": true,
            "subitems": [],
            "transform": false,
            "uniform_scaling": false,
            "weight": 5
          }
        },
        "1eee4efe5c494c2fba4c065078fc5c64": {
          "model_module": "jupyter-leaflet",
          "model_name": "LeafletMarkerModel",
          "model_module_version": "^0.17",
          "state": {
            "_model_module": "jupyter-leaflet",
            "_model_module_version": "^0.17",
            "_model_name": "LeafletMarkerModel",
            "_view_count": null,
            "_view_module": "jupyter-leaflet",
            "_view_module_version": "^0.17",
            "_view_name": "LeafletMarkerView",
            "alt": "",
            "base": false,
            "bottom": false,
            "draggable": true,
            "icon": "IPY_MODEL_95af403ae6cf4af18d29e9c39201eeea",
            "keyboard": true,
            "location": [
              12.96696,
              77.71111
            ],
            "name": "",
            "opacity": 1,
            "options": [
              "alt",
              "draggable",
              "keyboard",
              "rise_offset",
              "rise_on_hover",
              "rotation_angle",
              "rotation_origin",
              "title",
              "z_index_offset"
            ],
            "pane": "",
            "popup": null,
            "popup_max_height": null,
            "popup_max_width": 300,
            "popup_min_width": 50,
            "rise_offset": 250,
            "rise_on_hover": false,
            "rotation_angle": 0,
            "rotation_origin": "",
            "subitems": [],
            "title": "",
            "visible": true,
            "z_index_offset": 0
          }
        },
        "ab341cd45be0455ca6ad82bd645e4b30": {
          "model_module": "jupyter-leaflet",
          "model_name": "LeafletCircleModel",
          "model_module_version": "^0.17",
          "state": {
            "_model_module": "jupyter-leaflet",
            "_model_module_version": "^0.17",
            "_model_name": "LeafletCircleModel",
            "_view_count": null,
            "_view_module": "jupyter-leaflet",
            "_view_module_version": "^0.17",
            "_view_name": "LeafletCircleView",
            "base": false,
            "bottom": false,
            "color": "DimGray",
            "dash_array": null,
            "fill": true,
            "fill_color": "SkyBlue",
            "fill_opacity": 0.85,
            "line_cap": "round",
            "line_join": "round",
            "location": [
              12.9662,
              77.71203
            ],
            "name": "",
            "opacity": 1,
            "options": [
              "color",
              "dash_array",
              "fill",
              "fill_color",
              "fill_opacity",
              "line_cap",
              "line_join",
              "opacity",
              "pointer_events",
              "radius",
              "stroke",
              "weight"
            ],
            "pane": "",
            "pointer_events": "",
            "popup": null,
            "popup_max_height": null,
            "popup_max_width": 300,
            "popup_min_width": 50,
            "radius": 2,
            "stroke": true,
            "subitems": [],
            "weight": 5
          }
        },
        "4b6bf0a61a9c4d24bdc3ebefb7d04ece": {
          "model_module": "jupyter-leaflet",
          "model_name": "LeafletCircleModel",
          "model_module_version": "^0.17",
          "state": {
            "_model_module": "jupyter-leaflet",
            "_model_module_version": "^0.17",
            "_model_name": "LeafletCircleModel",
            "_view_count": null,
            "_view_module": "jupyter-leaflet",
            "_view_module_version": "^0.17",
            "_view_name": "LeafletCircleView",
            "base": false,
            "bottom": false,
            "color": "DimGray",
            "dash_array": null,
            "fill": true,
            "fill_color": "SkyBlue",
            "fill_opacity": 0.85,
            "line_cap": "round",
            "line_join": "round",
            "location": [
              12.96612,
              77.71179
            ],
            "name": "",
            "opacity": 1,
            "options": [
              "color",
              "dash_array",
              "fill",
              "fill_color",
              "fill_opacity",
              "line_cap",
              "line_join",
              "opacity",
              "pointer_events",
              "radius",
              "stroke",
              "weight"
            ],
            "pane": "",
            "pointer_events": "",
            "popup": null,
            "popup_max_height": null,
            "popup_max_width": 300,
            "popup_min_width": 50,
            "radius": 2,
            "stroke": true,
            "subitems": [],
            "weight": 5
          }
        },
        "bc8beae8adc24c4eacf292f556f4cbea": {
          "model_module": "jupyter-leaflet",
          "model_name": "LeafletCircleModel",
          "model_module_version": "^0.17",
          "state": {
            "_model_module": "jupyter-leaflet",
            "_model_module_version": "^0.17",
            "_model_name": "LeafletCircleModel",
            "_view_count": null,
            "_view_module": "jupyter-leaflet",
            "_view_module_version": "^0.17",
            "_view_name": "LeafletCircleView",
            "base": false,
            "bottom": false,
            "color": "DimGray",
            "dash_array": null,
            "fill": true,
            "fill_color": "SkyBlue",
            "fill_opacity": 0.85,
            "line_cap": "round",
            "line_join": "round",
            "location": [
              12.96603,
              77.71156
            ],
            "name": "",
            "opacity": 1,
            "options": [
              "color",
              "dash_array",
              "fill",
              "fill_color",
              "fill_opacity",
              "line_cap",
              "line_join",
              "opacity",
              "pointer_events",
              "radius",
              "stroke",
              "weight"
            ],
            "pane": "",
            "pointer_events": "",
            "popup": null,
            "popup_max_height": null,
            "popup_max_width": 300,
            "popup_min_width": 50,
            "radius": 2,
            "stroke": true,
            "subitems": [],
            "weight": 5
          }
        },
        "fa83c97c360c4750891ac19f14ed89e0": {
          "model_module": "jupyter-leaflet",
          "model_name": "LeafletCircleModel",
          "model_module_version": "^0.17",
          "state": {
            "_model_module": "jupyter-leaflet",
            "_model_module_version": "^0.17",
            "_model_name": "LeafletCircleModel",
            "_view_count": null,
            "_view_module": "jupyter-leaflet",
            "_view_module_version": "^0.17",
            "_view_name": "LeafletCircleView",
            "base": false,
            "bottom": false,
            "color": "DimGray",
            "dash_array": null,
            "fill": true,
            "fill_color": "SkyBlue",
            "fill_opacity": 0.85,
            "line_cap": "round",
            "line_join": "round",
            "location": [
              12.96608,
              77.71141
            ],
            "name": "",
            "opacity": 1,
            "options": [
              "color",
              "dash_array",
              "fill",
              "fill_color",
              "fill_opacity",
              "line_cap",
              "line_join",
              "opacity",
              "pointer_events",
              "radius",
              "stroke",
              "weight"
            ],
            "pane": "",
            "pointer_events": "",
            "popup": null,
            "popup_max_height": null,
            "popup_max_width": 300,
            "popup_min_width": 50,
            "radius": 2,
            "stroke": true,
            "subitems": [],
            "weight": 5
          }
        },
        "1be39f733dec41f29a87dac520773b5e": {
          "model_module": "jupyter-leaflet",
          "model_name": "LeafletCircleModel",
          "model_module_version": "^0.17",
          "state": {
            "_model_module": "jupyter-leaflet",
            "_model_module_version": "^0.17",
            "_model_name": "LeafletCircleModel",
            "_view_count": null,
            "_view_module": "jupyter-leaflet",
            "_view_module_version": "^0.17",
            "_view_name": "LeafletCircleView",
            "base": false,
            "bottom": false,
            "color": "DimGray",
            "dash_array": null,
            "fill": true,
            "fill_color": "SkyBlue",
            "fill_opacity": 0.85,
            "line_cap": "round",
            "line_join": "round",
            "location": [
              12.96643,
              77.71129
            ],
            "name": "",
            "opacity": 1,
            "options": [
              "color",
              "dash_array",
              "fill",
              "fill_color",
              "fill_opacity",
              "line_cap",
              "line_join",
              "opacity",
              "pointer_events",
              "radius",
              "stroke",
              "weight"
            ],
            "pane": "",
            "pointer_events": "",
            "popup": null,
            "popup_max_height": null,
            "popup_max_width": 300,
            "popup_min_width": 50,
            "radius": 2,
            "stroke": true,
            "subitems": [],
            "weight": 5
          }
        },
        "82e601b0692d41ebac0297082c4e2a8d": {
          "model_module": "jupyter-leaflet",
          "model_name": "LeafletCircleModel",
          "model_module_version": "^0.17",
          "state": {
            "_model_module": "jupyter-leaflet",
            "_model_module_version": "^0.17",
            "_model_name": "LeafletCircleModel",
            "_view_count": null,
            "_view_module": "jupyter-leaflet",
            "_view_module_version": "^0.17",
            "_view_name": "LeafletCircleView",
            "base": false,
            "bottom": false,
            "color": "DimGray",
            "dash_array": null,
            "fill": true,
            "fill_color": "SkyBlue",
            "fill_opacity": 0.85,
            "line_cap": "round",
            "line_join": "round",
            "location": [
              12.96682,
              77.71115
            ],
            "name": "",
            "opacity": 1,
            "options": [
              "color",
              "dash_array",
              "fill",
              "fill_color",
              "fill_opacity",
              "line_cap",
              "line_join",
              "opacity",
              "pointer_events",
              "radius",
              "stroke",
              "weight"
            ],
            "pane": "",
            "pointer_events": "",
            "popup": null,
            "popup_max_height": null,
            "popup_max_width": 300,
            "popup_min_width": 50,
            "radius": 2,
            "stroke": true,
            "subitems": [],
            "weight": 5
          }
        },
        "eee2ad6c5714474388d8aa690cadf1ef": {
          "model_module": "@jupyter-widgets/base",
          "model_name": "LayoutModel",
          "model_module_version": "1.2.0",
          "state": {
            "_model_module": "@jupyter-widgets/base",
            "_model_module_version": "1.2.0",
            "_model_name": "LayoutModel",
            "_view_count": null,
            "_view_module": "@jupyter-widgets/base",
            "_view_module_version": "1.2.0",
            "_view_name": "LayoutView",
            "align_content": null,
            "align_items": null,
            "align_self": null,
            "border": null,
            "bottom": null,
            "display": null,
            "flex": null,
            "flex_flow": null,
            "grid_area": null,
            "grid_auto_columns": null,
            "grid_auto_flow": null,
            "grid_auto_rows": null,
            "grid_column": null,
            "grid_gap": null,
            "grid_row": null,
            "grid_template_areas": null,
            "grid_template_columns": null,
            "grid_template_rows": null,
            "height": "800px",
            "justify_content": null,
            "justify_items": null,
            "left": null,
            "margin": null,
            "max_height": null,
            "max_width": null,
            "min_height": null,
            "min_width": null,
            "object_fit": null,
            "object_position": null,
            "order": null,
            "overflow": null,
            "overflow_x": null,
            "overflow_y": null,
            "padding": null,
            "right": null,
            "top": null,
            "visibility": null,
            "width": null
          }
        },
        "1265486b5f784b1e82de4dbfb6556ebc": {
          "model_module": "jupyter-leaflet",
          "model_name": "LeafletMapStyleModel",
          "model_module_version": "^0.17",
          "state": {
            "_model_module": "jupyter-leaflet",
            "_model_module_version": "^0.17",
            "_model_name": "LeafletMapStyleModel",
            "_view_count": null,
            "_view_module": "@jupyter-widgets/base",
            "_view_module_version": "1.2.0",
            "_view_name": "StyleView",
            "cursor": "grab"
          }
        },
        "95af403ae6cf4af18d29e9c39201eeea": {
          "model_module": "jupyter-leaflet",
          "model_name": "LeafletAwesomeIconModel",
          "model_module_version": "^0.17",
          "state": {
            "_model_module": "jupyter-leaflet",
            "_model_module_version": "^0.17",
            "_model_name": "LeafletAwesomeIconModel",
            "_view_count": null,
            "_view_module": "jupyter-leaflet",
            "_view_module_version": "^0.17",
            "_view_name": "LeafletAwesomeIconView",
            "base": false,
            "bottom": false,
            "icon_color": "black",
            "marker_color": "green",
            "name": "fa-truck",
            "options": [],
            "pane": "",
            "popup": null,
            "popup_max_height": null,
            "popup_max_width": 300,
            "popup_min_width": 50,
            "spin": false,
            "subitems": []
          }
        },
        "bb5b27432e50444a93daed0ee3d30da0": {
          "model_module": "jupyter-leaflet",
          "model_name": "LeafletCircleModel",
          "model_module_version": "^0.17",
          "state": {
            "_model_module": "jupyter-leaflet",
            "_model_module_version": "^0.17",
            "_model_name": "LeafletCircleModel",
            "_view_count": null,
            "_view_module": "jupyter-leaflet",
            "_view_module_version": "^0.17",
            "_view_name": "LeafletCircleView",
            "base": false,
            "bottom": false,
            "color": "#00b521",
            "dash_array": null,
            "fill": true,
            "fill_color": "#7fff96",
            "fill_opacity": 0.85,
            "line_cap": "round",
            "line_join": "round",
            "location": [
              12.9662,
              77.71203
            ],
            "name": "",
            "opacity": 1,
            "options": [
              "color",
              "dash_array",
              "fill",
              "fill_color",
              "fill_opacity",
              "line_cap",
              "line_join",
              "opacity",
              "pointer_events",
              "radius",
              "stroke",
              "weight"
            ],
            "pane": "",
            "pointer_events": "",
            "popup": null,
            "popup_max_height": null,
            "popup_max_width": 300,
            "popup_min_width": 50,
            "radius": 2,
            "stroke": true,
            "subitems": [],
            "weight": 5
          }
        },
        "a7ae26fabab1455b8d09b9de0578b4ad": {
          "model_module": "jupyter-leaflet",
          "model_name": "LeafletCircleModel",
          "model_module_version": "^0.17",
          "state": {
            "_model_module": "jupyter-leaflet",
            "_model_module_version": "^0.17",
            "_model_name": "LeafletCircleModel",
            "_view_count": null,
            "_view_module": "jupyter-leaflet",
            "_view_module_version": "^0.17",
            "_view_name": "LeafletCircleView",
            "base": false,
            "bottom": false,
            "color": "#00b521",
            "dash_array": null,
            "fill": true,
            "fill_color": "#7fff96",
            "fill_opacity": 0.85,
            "line_cap": "round",
            "line_join": "round",
            "location": [
              12.96612,
              77.71179
            ],
            "name": "",
            "opacity": 1,
            "options": [
              "color",
              "dash_array",
              "fill",
              "fill_color",
              "fill_opacity",
              "line_cap",
              "line_join",
              "opacity",
              "pointer_events",
              "radius",
              "stroke",
              "weight"
            ],
            "pane": "",
            "pointer_events": "",
            "popup": null,
            "popup_max_height": null,
            "popup_max_width": 300,
            "popup_min_width": 50,
            "radius": 2,
            "stroke": true,
            "subitems": [],
            "weight": 5
          }
        },
        "ee9ee7f6b11942458f96626f6fad4a8f": {
          "model_module": "jupyter-leaflet",
          "model_name": "LeafletCircleModel",
          "model_module_version": "^0.17",
          "state": {
            "_model_module": "jupyter-leaflet",
            "_model_module_version": "^0.17",
            "_model_name": "LeafletCircleModel",
            "_view_count": null,
            "_view_module": "jupyter-leaflet",
            "_view_module_version": "^0.17",
            "_view_name": "LeafletCircleView",
            "base": false,
            "bottom": false,
            "color": "#00b521",
            "dash_array": null,
            "fill": true,
            "fill_color": "#7fff96",
            "fill_opacity": 0.85,
            "line_cap": "round",
            "line_join": "round",
            "location": [
              12.96603,
              77.71156
            ],
            "name": "",
            "opacity": 1,
            "options": [
              "color",
              "dash_array",
              "fill",
              "fill_color",
              "fill_opacity",
              "line_cap",
              "line_join",
              "opacity",
              "pointer_events",
              "radius",
              "stroke",
              "weight"
            ],
            "pane": "",
            "pointer_events": "",
            "popup": null,
            "popup_max_height": null,
            "popup_max_width": 300,
            "popup_min_width": 50,
            "radius": 2,
            "stroke": true,
            "subitems": [],
            "weight": 5
          }
        },
        "37b5c5b99a4e4fdf9c2fd0667780de5d": {
          "model_module": "jupyter-leaflet",
          "model_name": "LeafletCircleModel",
          "model_module_version": "^0.17",
          "state": {
            "_model_module": "jupyter-leaflet",
            "_model_module_version": "^0.17",
            "_model_name": "LeafletCircleModel",
            "_view_count": null,
            "_view_module": "jupyter-leaflet",
            "_view_module_version": "^0.17",
            "_view_name": "LeafletCircleView",
            "base": false,
            "bottom": false,
            "color": "#00b521",
            "dash_array": null,
            "fill": true,
            "fill_color": "#7fff96",
            "fill_opacity": 0.85,
            "line_cap": "round",
            "line_join": "round",
            "location": [
              12.96608,
              77.71141
            ],
            "name": "",
            "opacity": 1,
            "options": [
              "color",
              "dash_array",
              "fill",
              "fill_color",
              "fill_opacity",
              "line_cap",
              "line_join",
              "opacity",
              "pointer_events",
              "radius",
              "stroke",
              "weight"
            ],
            "pane": "",
            "pointer_events": "",
            "popup": null,
            "popup_max_height": null,
            "popup_max_width": 300,
            "popup_min_width": 50,
            "radius": 2,
            "stroke": true,
            "subitems": [],
            "weight": 5
          }
        },
        "02f98625d71f445bb66dedebdf7b7414": {
          "model_module": "jupyter-leaflet",
          "model_name": "LeafletCircleModel",
          "model_module_version": "^0.17",
          "state": {
            "_model_module": "jupyter-leaflet",
            "_model_module_version": "^0.17",
            "_model_name": "LeafletCircleModel",
            "_view_count": null,
            "_view_module": "jupyter-leaflet",
            "_view_module_version": "^0.17",
            "_view_name": "LeafletCircleView",
            "base": false,
            "bottom": false,
            "color": "#00b521",
            "dash_array": null,
            "fill": true,
            "fill_color": "#7fff96",
            "fill_opacity": 0.85,
            "line_cap": "round",
            "line_join": "round",
            "location": [
              12.96643,
              77.71129
            ],
            "name": "",
            "opacity": 1,
            "options": [
              "color",
              "dash_array",
              "fill",
              "fill_color",
              "fill_opacity",
              "line_cap",
              "line_join",
              "opacity",
              "pointer_events",
              "radius",
              "stroke",
              "weight"
            ],
            "pane": "",
            "pointer_events": "",
            "popup": null,
            "popup_max_height": null,
            "popup_max_width": 300,
            "popup_min_width": 50,
            "radius": 2,
            "stroke": true,
            "subitems": [],
            "weight": 5
          }
        },
        "2892def27df2455188ddf3df11d54904": {
          "model_module": "jupyter-leaflet",
          "model_name": "LeafletCircleModel",
          "model_module_version": "^0.17",
          "state": {
            "_model_module": "jupyter-leaflet",
            "_model_module_version": "^0.17",
            "_model_name": "LeafletCircleModel",
            "_view_count": null,
            "_view_module": "jupyter-leaflet",
            "_view_module_version": "^0.17",
            "_view_name": "LeafletCircleView",
            "base": false,
            "bottom": false,
            "color": "#00b521",
            "dash_array": null,
            "fill": true,
            "fill_color": "#7fff96",
            "fill_opacity": 0.85,
            "line_cap": "round",
            "line_join": "round",
            "location": [
              12.96682,
              77.71115
            ],
            "name": "",
            "opacity": 1,
            "options": [
              "color",
              "dash_array",
              "fill",
              "fill_color",
              "fill_opacity",
              "line_cap",
              "line_join",
              "opacity",
              "pointer_events",
              "radius",
              "stroke",
              "weight"
            ],
            "pane": "",
            "pointer_events": "",
            "popup": null,
            "popup_max_height": null,
            "popup_max_width": 300,
            "popup_min_width": 50,
            "radius": 2,
            "stroke": true,
            "subitems": [],
            "weight": 5
          }
        }
      }
    }
  },
  "nbformat": 4,
  "nbformat_minor": 5
}