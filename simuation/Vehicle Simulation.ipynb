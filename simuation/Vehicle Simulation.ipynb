{
 "cells": [
  {
   "cell_type": "code",
   "execution_count": 11,
   "id": "40fce532",
   "metadata": {},
   "outputs": [],
   "source": [
    "!pip install osmnx networkx shapely ipyleaflet ipywidgets"
   ]
  },
  {
   "cell_type": "code",
   "execution_count": null,
   "id": "897be0cc",
   "metadata": {},
   "outputs": [],
   "source": [
    "import osmnx as ox\n",
    "import networkx as nx\n",
    "import ipyleaflet as ipl\n",
    "import pickle\n",
    "import shapely\n",
    "\n",
    "from shapely.geometry import Polygon\n",
    "from ipyleaflet import Map, Marker, FullScreenControl, AwesomeIcon\n",
    "from ipywidgets import interact\n",
    "from time import sleep"
   ]
  },
  {
   "cell_type": "code",
   "execution_count": 12,
   "id": "b0f58c5d",
   "metadata": {},
   "outputs": [
    {
     "ename": "ModuleNotFoundError",
     "evalue": "No module named 'shapely.io'",
     "output_type": "error",
     "traceback": [
      "\u001b[0;31m---------------------------------------------------------------------------\u001b[0m",
      "\u001b[0;31mModuleNotFoundError\u001b[0m                       Traceback (most recent call last)",
      "Cell \u001b[0;32mIn[12], line 25\u001b[0m\n\u001b[1;32m     22\u001b[0m filename \u001b[38;5;241m=\u001b[39m \u001b[38;5;124m\"\u001b[39m\u001b[38;5;124m../output/geocode_tree.pkl\u001b[39m\u001b[38;5;124m\"\u001b[39m\n\u001b[1;32m     24\u001b[0m \u001b[38;5;28;01mwith\u001b[39;00m \u001b[38;5;28mopen\u001b[39m(filename, \u001b[38;5;124m\"\u001b[39m\u001b[38;5;124mrb\u001b[39m\u001b[38;5;124m\"\u001b[39m) \u001b[38;5;28;01mas\u001b[39;00m f:\n\u001b[0;32m---> 25\u001b[0m     G \u001b[38;5;241m=\u001b[39m \u001b[43mpickle\u001b[49m\u001b[38;5;241;43m.\u001b[39;49m\u001b[43mload\u001b[49m\u001b[43m(\u001b[49m\u001b[43mf\u001b[49m\u001b[43m)\u001b[49m\n\u001b[1;32m     28\u001b[0m \u001b[38;5;66;03m# Plot the graph\u001b[39;00m\n\u001b[1;32m     29\u001b[0m fig, ax \u001b[38;5;241m=\u001b[39m ox\u001b[38;5;241m.\u001b[39mplot_graph(G)\n",
      "\u001b[0;31mModuleNotFoundError\u001b[0m: No module named 'shapely.io'"
     ]
    }
   ],
   "source": [
    "# Setting up graph for CMRIT\n",
    "## Using boundbox\n",
    "\n",
    "# north, south, east, west = 12.96768338736144,12.965518842636625,77.71393642911939,77.71046157295785\n",
    "# # cmrit lat long bounds 0\n",
    "# # north (float) – northern latitude of bounding box: 12.96768338736144\n",
    "# # south (float) – southern latitude of bounding box: 12.965518842636625\n",
    "# # east (float) – eastern longitude of bounding box: 77.71393642911939\n",
    "# # west (float) – western longitude of bounding box: 77.71046157295785\n",
    "# network_type = 'all_private' # \"all_private\", \"all\", \"bike\", \"drive\", \"drive_service\", \"walk\"\n",
    "\n",
    "# G = ox.graph_from_bbox(\n",
    "#       north, south, east, west, \n",
    "#       network_type=network_type, \n",
    "#       simplify=False, \n",
    "#       retain_all=False, \n",
    "#       truncate_by_edge=True, \n",
    "#       clean_periphery=True, \n",
    "#       custom_filter=None)\n",
    "\n",
    "# Setting up the graph using the pickle file\n",
    "filename = \"../output/geocode_tree.pkl\"\n",
    "\n",
    "with open(filename, \"rb\") as f:\n",
    "    G = pickle.load(f)\n",
    "\n",
    "\n",
    "# Plot the graph\n",
    "fig, ax = ox.plot_graph(G)"
   ]
  },
  {
   "cell_type": "code",
   "execution_count": null,
   "id": "4e4879ef",
   "metadata": {},
   "outputs": [],
   "source": [
    "sorted(G.nodes)"
   ]
  },
  {
   "cell_type": "code",
   "execution_count": null,
   "id": "87a572a6",
   "metadata": {},
   "outputs": [],
   "source": [
    "# Finding the shortest path with the given start and end lat-lng\n",
    "optimizer = 'length'\n",
    "\n",
    "start_latlng = (12.96751, 77.71388) # cmrit-entrance\n",
    "end_latlng = (12.96606,77.71146) # ganesha-turn\n",
    "\n",
    "orig_node = ox.distance.nearest_nodes(G, start_latlng[1], start_latlng[0])\n",
    "dest_node = ox.distance.nearest_nodes(G, end_latlng[1], end_latlng[0])\n",
    "\n",
    "shortest_route = nx.shortest_path(G, orig_node, dest_node, weight=optimizer)\n",
    "\n",
    "shortest_route_map = ox.plot_route_folium(G, shortest_route)\n",
    "shortest_route_map"
   ]
  },
  {
   "cell_type": "code",
   "execution_count": null,
   "id": "e476b707",
   "metadata": {},
   "outputs": [],
   "source": [
    "# To find the coordinates in the shortest path\n",
    "route_coords = [(G.nodes[node]['y'], G.nodes[node]['x']) for node in shortest_route]\n",
    "route_coords"
   ]
  },
  {
   "cell_type": "code",
   "execution_count": null,
   "id": "eff063bd",
   "metadata": {},
   "outputs": [],
   "source": [
    "# Plotting the interactive map with the center at (12.96682, 77.71231) => This center is for the map plotting not related with the graph\n",
    "center = (12.96682, 77.71231)\n",
    "m1 = ipl.Map(center=center, basemap=ipl.basemaps.CartoDB.Positron, zoom=18)\n",
    "m1.layout.height = '800px'"
   ]
  },
  {
   "cell_type": "code",
   "execution_count": null,
   "id": "d016b24d",
   "metadata": {},
   "outputs": [],
   "source": [
    "# Drawing the path in the interactive map\n",
    "path = route_coords\n",
    "lines = ipl.Polyline(\n",
    "    locations=path,\n",
    "    color=\"tomato\",\n",
    "    fill=False\n",
    ")\n",
    "m1.add_layer(lines)"
   ]
  },
  {
   "cell_type": "code",
   "execution_count": null,
   "id": "b6094ee3",
   "metadata": {},
   "outputs": [],
   "source": [
    "# Adding markers in the interactive map\n",
    "\n",
    "icon1 = AwesomeIcon(\n",
    "    name='fa-truck',\n",
    "    marker_color='green',\n",
    "    icon_color='black',\n",
    "    spin=False\n",
    ")\n",
    "\n",
    "marker = ipl.Marker(icon=icon1, location=start_latlng)\n",
    "m1.add_layer(marker)\n",
    "m1"
   ]
  },
  {
   "cell_type": "code",
   "execution_count": null,
   "id": "d37c4db9",
   "metadata": {},
   "outputs": [],
   "source": [
    "# Animation\n",
    "# Moving the marker according to the path\n",
    "step = 0.1 # Speed can be varied here... higher the value lower the speed\n",
    "start_location = marker.location\n",
    "\n",
    "for point in path:\n",
    "    marker.location = point\n",
    "    sleep(step)\n"
   ]
  },
  {
   "cell_type": "code",
   "execution_count": null,
   "id": "d9804b04",
   "metadata": {
    "scrolled": true
   },
   "outputs": [],
   "source": [
    "\"\"\"\n",
    "NOTE:: Don't interact with the map as the kernel will get busy and it will crash\n",
    "The animation will be shown after the map is drawn\n",
    "\"\"\""
   ]
  }
 ],
 "metadata": {
  "kernelspec": {
   "display_name": "Python 3 (ipykernel)",
   "language": "python",
   "name": "python3"
  },
  "language_info": {
   "codemirror_mode": {
    "name": "ipython",
    "version": 3
   },
   "file_extension": ".py",
   "mimetype": "text/x-python",
   "name": "python",
   "nbconvert_exporter": "python",
   "pygments_lexer": "ipython3",
   "version": "3.8.2"
  }
 },
 "nbformat": 4,
 "nbformat_minor": 5
}
