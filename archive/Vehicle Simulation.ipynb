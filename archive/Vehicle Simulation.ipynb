{
 "cells": [
  {
   "cell_type": "code",
   "execution_count": 32,
   "id": "40fce532",
   "metadata": {},
   "outputs": [],
   "source": [
    "import osmnx as ox\n",
    "import networkx as nx\n",
    "import ipyleaflet as ipl\n",
    "\n",
    "from shapely.geometry import Polygon\n",
    "from ipyleaflet import Map, Marker, FullScreenControl, AwesomeIcon\n",
    "from ipywidgets import interact\n",
    "from time import sleep"
   ]
  },
  {
   "cell_type": "code",
   "execution_count": 33,
   "id": "b0f58c5d",
   "metadata": {},
   "outputs": [
    {
     "data": {
      "image/png": "[encoded data removed]",
      "text/plain": [
       "<Figure size 800x800 with 1 Axes>"
      ]
     },
     "metadata": {},
     "output_type": "display_data"
    }
   ],
   "source": [
    "# Setting up graph for CMRIT\n",
    "## Using boundbox\n",
    "\n",
    "north, south, east, west = 12.96768338736144,12.965518842636625,77.71393642911939,77.71046157295785\n",
    "# cmrit lat long bounds 0\n",
    "# north (float) – northern latitude of bounding box: 12.96768338736144\n",
    "# south (float) – southern latitude of bounding box: 12.965518842636625\n",
    "# east (float) – eastern longitude of bounding box: 77.71393642911939\n",
    "# west (float) – western longitude of bounding box: 77.71046157295785\n",
    "network_type = 'all_private' # \"all_private\", \"all\", \"bike\", \"drive\", \"drive_service\", \"walk\"\n",
    "\n",
    "G = ox.graph_from_bbox(\n",
    "      north, south, east, west, \n",
    "      network_type=network_type, \n",
    "      simplify=False, \n",
    "      retain_all=False, \n",
    "      truncate_by_edge=True, \n",
    "      clean_periphery=True, \n",
    "      custom_filter=None)\n",
    "\n",
    "# Plot the graph\n",
    "fig, ax = ox.plot_graph(G)"
   ]
  },
  {
   "cell_type": "code",
   "execution_count": 34,
   "id": "4e4879ef",
   "metadata": {},
   "outputs": [
    {
     "data": {
      "text/plain": [
       "[3798918923,\n",
       " 4159727894,\n",
       " 4159727896,\n",
       " 4159727902,\n",
       " 4159727904,\n",
       " 4159727905,\n",
       " 4159727907,\n",
       " 4159727909,\n",
       " 4159727912,\n",
       " 4159727914,\n",
       " 6034177872,\n",
       " 6034177873,\n",
       " 6034177874,\n",
       " 6034177875,\n",
       " 6034178422,\n",
       " 6034178423,\n",
       " 6197424688,\n",
       " 6197424689,\n",
       " 7507343460,\n",
       " 7511176866,\n",
       " 7511208233,\n",
       " 7511208234,\n",
       " 7511208235,\n",
       " 7511208236,\n",
       " 7511289705,\n",
       " 7511289706,\n",
       " 7511289707,\n",
       " 7511333522,\n",
       " 7511333523]"
      ]
     },
     "execution_count": 34,
     "metadata": {},
     "output_type": "execute_result"
    }
   ],
   "source": [
    "sorted(G.nodes)"
   ]
  },
  {
   "cell_type": "code",
   "execution_count": 35,
   "id": "87a572a6",
   "metadata": {},
   "outputs": [
    {
     "data": {
      "text/html": [
       "<div style=\"width:100%;\"><div style=\"position:relative;width:100%;height:0;padding-bottom:60%;\"><span style=\"color:#565656\">Make this Notebook Trusted to load map: File -> Trust Notebook</span><iframe srcdoc=\"&lt;!DOCTYPE html&gt;\n",
       "&lt;html&gt;\n",
       "&lt;head&gt;\n",
       "    \n",
       "    &lt;meta http-equiv=&quot;content-type&quot; content=&quot;text/html; charset=UTF-8&quot; /&gt;\n",
       "    \n",
       "        &lt;script&gt;\n",
       "            L_NO_TOUCH = false;\n",
       "            L_DISABLE_3D = false;\n",
       "        &lt;/script&gt;\n",
       "    \n",
       "    &lt;style&gt;html, body {width: 100%;height: 100%;margin: 0;padding: 0;}&lt;/style&gt;\n",
       "    &lt;style&gt;#map {position:absolute;top:0;bottom:0;right:0;left:0;}&lt;/style&gt;\n",
       "    &lt;script src=&quot;https://cdn.jsdelivr.net/npm/leaflet@1.9.3/dist/leaflet.js&quot;&gt;&lt;/script&gt;\n",
       "    &lt;script src=&quot;https://code.jquery.com/jquery-1.12.4.min.js&quot;&gt;&lt;/script&gt;\n",
       "    &lt;script src=&quot;https://cdn.jsdelivr.net/npm/bootstrap@5.2.2/dist/js/bootstrap.bundle.min.js&quot;&gt;&lt;/script&gt;\n",
       "    &lt;script src=&quot;https://cdnjs.cloudflare.com/ajax/libs/Leaflet.awesome-markers/2.0.2/leaflet.awesome-markers.js&quot;&gt;&lt;/script&gt;\n",
       "    &lt;link rel=&quot;stylesheet&quot; href=&quot;https://cdn.jsdelivr.net/npm/leaflet@1.9.3/dist/leaflet.css&quot;/&gt;\n",
       "    &lt;link rel=&quot;stylesheet&quot; href=&quot;https://cdn.jsdelivr.net/npm/bootstrap@5.2.2/dist/css/bootstrap.min.css&quot;/&gt;\n",
       "    &lt;link rel=&quot;stylesheet&quot; href=&quot;https://netdna.bootstrapcdn.com/bootstrap/3.0.0/css/bootstrap.min.css&quot;/&gt;\n",
       "    &lt;link rel=&quot;stylesheet&quot; href=&quot;https://cdn.jsdelivr.net/npm/@fortawesome/fontawesome-free@6.2.0/css/all.min.css&quot;/&gt;\n",
       "    &lt;link rel=&quot;stylesheet&quot; href=&quot;https://cdnjs.cloudflare.com/ajax/libs/Leaflet.awesome-markers/2.0.2/leaflet.awesome-markers.css&quot;/&gt;\n",
       "    &lt;link rel=&quot;stylesheet&quot; href=&quot;https://cdn.jsdelivr.net/gh/python-visualization/folium/folium/templates/leaflet.awesome.rotate.min.css&quot;/&gt;\n",
       "    \n",
       "            &lt;meta name=&quot;viewport&quot; content=&quot;width=device-width,\n",
       "                initial-scale=1.0, maximum-scale=1.0, user-scalable=no&quot; /&gt;\n",
       "            &lt;style&gt;\n",
       "                #map_59c9869044dfab87d3f1bee01a99a621 {\n",
       "                    position: relative;\n",
       "                    width: 100.0%;\n",
       "                    height: 100.0%;\n",
       "                    left: 0.0%;\n",
       "                    top: 0.0%;\n",
       "                }\n",
       "                .leaflet-container { font-size: 1rem; }\n",
       "            &lt;/style&gt;\n",
       "        \n",
       "&lt;/head&gt;\n",
       "&lt;body&gt;\n",
       "    \n",
       "    \n",
       "            &lt;div class=&quot;folium-map&quot; id=&quot;map_59c9869044dfab87d3f1bee01a99a621&quot; &gt;&lt;/div&gt;\n",
       "        \n",
       "&lt;/body&gt;\n",
       "&lt;script&gt;\n",
       "    \n",
       "    \n",
       "            var map_59c9869044dfab87d3f1bee01a99a621 = L.map(\n",
       "                &quot;map_59c9869044dfab87d3f1bee01a99a621&quot;,\n",
       "                {\n",
       "                    center: [12.966822398393505, 77.71250890503741],\n",
       "                    crs: L.CRS.EPSG3857,\n",
       "                    zoom: 1,\n",
       "                    zoomControl: true,\n",
       "                    preferCanvas: false,\n",
       "                }\n",
       "            );\n",
       "\n",
       "            \n",
       "\n",
       "        \n",
       "    \n",
       "            var tile_layer_a8e8c0f8a5430a4b9a39b6026cfbd33a = L.tileLayer(\n",
       "                &quot;https://cartodb-basemaps-{s}.global.ssl.fastly.net/light_all/{z}/{x}/{y}.png&quot;,\n",
       "                {&quot;attribution&quot;: &quot;\\u0026copy; \\u003ca target=\\&quot;_blank\\&quot; href=\\&quot;http://www.openstreetmap.org/copyright\\&quot;\\u003eOpenStreetMap\\u003c/a\\u003e contributors \\u0026copy; \\u003ca target=\\&quot;_blank\\&quot; href=\\&quot;http://cartodb.com/attributions\\&quot;\\u003eCartoDB\\u003c/a\\u003e, CartoDB \\u003ca target=\\&quot;_blank\\&quot; href =\\&quot;http://cartodb.com/attributions\\&quot;\\u003eattributions\\u003c/a\\u003e&quot;, &quot;detectRetina&quot;: false, &quot;maxNativeZoom&quot;: 18, &quot;maxZoom&quot;: 18, &quot;minZoom&quot;: 0, &quot;noWrap&quot;: false, &quot;opacity&quot;: 1, &quot;subdomains&quot;: &quot;abc&quot;, &quot;tms&quot;: false}\n",
       "            ).addTo(map_59c9869044dfab87d3f1bee01a99a621);\n",
       "        \n",
       "    \n",
       "            var poly_line_8cb4762b98fc063bee3c1c8330b822e8 = L.polyline(\n",
       "                [[12.967455, 77.7139021], [12.9674174, 77.7137248]],\n",
       "                {&quot;bubblingMouseEvents&quot;: true, &quot;color&quot;: &quot;#3388ff&quot;, &quot;dashArray&quot;: null, &quot;dashOffset&quot;: null, &quot;fill&quot;: false, &quot;fillColor&quot;: &quot;#3388ff&quot;, &quot;fillOpacity&quot;: 0.2, &quot;fillRule&quot;: &quot;evenodd&quot;, &quot;lineCap&quot;: &quot;round&quot;, &quot;lineJoin&quot;: &quot;round&quot;, &quot;noClip&quot;: false, &quot;opacity&quot;: 1.0, &quot;smoothFactor&quot;: 1.0, &quot;stroke&quot;: true, &quot;weight&quot;: 3}\n",
       "            ).addTo(map_59c9869044dfab87d3f1bee01a99a621);\n",
       "        \n",
       "    \n",
       "            var poly_line_5cf72b684ce455f3d6aaeefc1be5e7e9 = L.polyline(\n",
       "                [[12.9674174, 77.7137248], [12.9673755, 77.7135256]],\n",
       "                {&quot;bubblingMouseEvents&quot;: true, &quot;color&quot;: &quot;#3388ff&quot;, &quot;dashArray&quot;: null, &quot;dashOffset&quot;: null, &quot;fill&quot;: false, &quot;fillColor&quot;: &quot;#3388ff&quot;, &quot;fillOpacity&quot;: 0.2, &quot;fillRule&quot;: &quot;evenodd&quot;, &quot;lineCap&quot;: &quot;round&quot;, &quot;lineJoin&quot;: &quot;round&quot;, &quot;noClip&quot;: false, &quot;opacity&quot;: 1.0, &quot;smoothFactor&quot;: 1.0, &quot;stroke&quot;: true, &quot;weight&quot;: 3}\n",
       "            ).addTo(map_59c9869044dfab87d3f1bee01a99a621);\n",
       "        \n",
       "    \n",
       "            var poly_line_02e338d7bddf12eadef39e4dba5a33e4 = L.polyline(\n",
       "                [[12.9673755, 77.7135256], [12.9671386, 77.7127992]],\n",
       "                {&quot;bubblingMouseEvents&quot;: true, &quot;color&quot;: &quot;#3388ff&quot;, &quot;dashArray&quot;: null, &quot;dashOffset&quot;: null, &quot;fill&quot;: false, &quot;fillColor&quot;: &quot;#3388ff&quot;, &quot;fillOpacity&quot;: 0.2, &quot;fillRule&quot;: &quot;evenodd&quot;, &quot;lineCap&quot;: &quot;round&quot;, &quot;lineJoin&quot;: &quot;round&quot;, &quot;noClip&quot;: false, &quot;opacity&quot;: 1.0, &quot;smoothFactor&quot;: 1.0, &quot;stroke&quot;: true, &quot;weight&quot;: 3}\n",
       "            ).addTo(map_59c9869044dfab87d3f1bee01a99a621);\n",
       "        \n",
       "    \n",
       "            var poly_line_add818d1cf20ca73379047a6f0ea7c7c = L.polyline(\n",
       "                [[12.9671386, 77.7127992], [12.9670341, 77.7124431]],\n",
       "                {&quot;bubblingMouseEvents&quot;: true, &quot;color&quot;: &quot;#3388ff&quot;, &quot;dashArray&quot;: null, &quot;dashOffset&quot;: null, &quot;fill&quot;: false, &quot;fillColor&quot;: &quot;#3388ff&quot;, &quot;fillOpacity&quot;: 0.2, &quot;fillRule&quot;: &quot;evenodd&quot;, &quot;lineCap&quot;: &quot;round&quot;, &quot;lineJoin&quot;: &quot;round&quot;, &quot;noClip&quot;: false, &quot;opacity&quot;: 1.0, &quot;smoothFactor&quot;: 1.0, &quot;stroke&quot;: true, &quot;weight&quot;: 3}\n",
       "            ).addTo(map_59c9869044dfab87d3f1bee01a99a621);\n",
       "        \n",
       "    \n",
       "            var poly_line_4f8f64c8096f5276005cbe7b33eafaf4 = L.polyline(\n",
       "                [[12.9670341, 77.7124431], [12.9669103, 77.712094]],\n",
       "                {&quot;bubblingMouseEvents&quot;: true, &quot;color&quot;: &quot;#3388ff&quot;, &quot;dashArray&quot;: null, &quot;dashOffset&quot;: null, &quot;fill&quot;: false, &quot;fillColor&quot;: &quot;#3388ff&quot;, &quot;fillOpacity&quot;: 0.2, &quot;fillRule&quot;: &quot;evenodd&quot;, &quot;lineCap&quot;: &quot;round&quot;, &quot;lineJoin&quot;: &quot;round&quot;, &quot;noClip&quot;: false, &quot;opacity&quot;: 1.0, &quot;smoothFactor&quot;: 1.0, &quot;stroke&quot;: true, &quot;weight&quot;: 3}\n",
       "            ).addTo(map_59c9869044dfab87d3f1bee01a99a621);\n",
       "        \n",
       "    \n",
       "            var poly_line_6c7f50c639addb20a75adc25facafb64 = L.polyline(\n",
       "                [[12.9669103, 77.712094], [12.9668498, 77.7120281]],\n",
       "                {&quot;bubblingMouseEvents&quot;: true, &quot;color&quot;: &quot;#3388ff&quot;, &quot;dashArray&quot;: null, &quot;dashOffset&quot;: null, &quot;fill&quot;: false, &quot;fillColor&quot;: &quot;#3388ff&quot;, &quot;fillOpacity&quot;: 0.2, &quot;fillRule&quot;: &quot;evenodd&quot;, &quot;lineCap&quot;: &quot;round&quot;, &quot;lineJoin&quot;: &quot;round&quot;, &quot;noClip&quot;: false, &quot;opacity&quot;: 1.0, &quot;smoothFactor&quot;: 1.0, &quot;stroke&quot;: true, &quot;weight&quot;: 3}\n",
       "            ).addTo(map_59c9869044dfab87d3f1bee01a99a621);\n",
       "        \n",
       "    \n",
       "            var poly_line_e423d2df7e89b5c519f4a16d9665d76a = L.polyline(\n",
       "                [[12.9668498, 77.7120281], [12.96681, 77.7119938]],\n",
       "                {&quot;bubblingMouseEvents&quot;: true, &quot;color&quot;: &quot;#3388ff&quot;, &quot;dashArray&quot;: null, &quot;dashOffset&quot;: null, &quot;fill&quot;: false, &quot;fillColor&quot;: &quot;#3388ff&quot;, &quot;fillOpacity&quot;: 0.2, &quot;fillRule&quot;: &quot;evenodd&quot;, &quot;lineCap&quot;: &quot;round&quot;, &quot;lineJoin&quot;: &quot;round&quot;, &quot;noClip&quot;: false, &quot;opacity&quot;: 1.0, &quot;smoothFactor&quot;: 1.0, &quot;stroke&quot;: true, &quot;weight&quot;: 3}\n",
       "            ).addTo(map_59c9869044dfab87d3f1bee01a99a621);\n",
       "        \n",
       "    \n",
       "            var poly_line_e632d0e93a5090d16178b2e8d1cdf74f = L.polyline(\n",
       "                [[12.96681, 77.7119938], [12.9667974, 77.711963]],\n",
       "                {&quot;bubblingMouseEvents&quot;: true, &quot;color&quot;: &quot;#3388ff&quot;, &quot;dashArray&quot;: null, &quot;dashOffset&quot;: null, &quot;fill&quot;: false, &quot;fillColor&quot;: &quot;#3388ff&quot;, &quot;fillOpacity&quot;: 0.2, &quot;fillRule&quot;: &quot;evenodd&quot;, &quot;lineCap&quot;: &quot;round&quot;, &quot;lineJoin&quot;: &quot;round&quot;, &quot;noClip&quot;: false, &quot;opacity&quot;: 1.0, &quot;smoothFactor&quot;: 1.0, &quot;stroke&quot;: true, &quot;weight&quot;: 3}\n",
       "            ).addTo(map_59c9869044dfab87d3f1bee01a99a621);\n",
       "        \n",
       "    \n",
       "            var poly_line_f44a9fae87c7c544dcf436ae232b0950 = L.polyline(\n",
       "                [[12.9667974, 77.711963], [12.9662552, 77.7121233]],\n",
       "                {&quot;bubblingMouseEvents&quot;: true, &quot;color&quot;: &quot;#3388ff&quot;, &quot;dashArray&quot;: null, &quot;dashOffset&quot;: null, &quot;fill&quot;: false, &quot;fillColor&quot;: &quot;#3388ff&quot;, &quot;fillOpacity&quot;: 0.2, &quot;fillRule&quot;: &quot;evenodd&quot;, &quot;lineCap&quot;: &quot;round&quot;, &quot;lineJoin&quot;: &quot;round&quot;, &quot;noClip&quot;: false, &quot;opacity&quot;: 1.0, &quot;smoothFactor&quot;: 1.0, &quot;stroke&quot;: true, &quot;weight&quot;: 3}\n",
       "            ).addTo(map_59c9869044dfab87d3f1bee01a99a621);\n",
       "        \n",
       "    \n",
       "            var poly_line_3a8407be343e5ddd4edc13274c7a11a8 = L.polyline(\n",
       "                [[12.9662552, 77.7121233], [12.9661788, 77.7119984]],\n",
       "                {&quot;bubblingMouseEvents&quot;: true, &quot;color&quot;: &quot;#3388ff&quot;, &quot;dashArray&quot;: null, &quot;dashOffset&quot;: null, &quot;fill&quot;: false, &quot;fillColor&quot;: &quot;#3388ff&quot;, &quot;fillOpacity&quot;: 0.2, &quot;fillRule&quot;: &quot;evenodd&quot;, &quot;lineCap&quot;: &quot;round&quot;, &quot;lineJoin&quot;: &quot;round&quot;, &quot;noClip&quot;: false, &quot;opacity&quot;: 1.0, &quot;smoothFactor&quot;: 1.0, &quot;stroke&quot;: true, &quot;weight&quot;: 3}\n",
       "            ).addTo(map_59c9869044dfab87d3f1bee01a99a621);\n",
       "        \n",
       "    \n",
       "            var poly_line_1b356a74a4193d4e9239d9cc33d05794 = L.polyline(\n",
       "                [[12.9661788, 77.7119984], [12.9660905, 77.7117083]],\n",
       "                {&quot;bubblingMouseEvents&quot;: true, &quot;color&quot;: &quot;#3388ff&quot;, &quot;dashArray&quot;: null, &quot;dashOffset&quot;: null, &quot;fill&quot;: false, &quot;fillColor&quot;: &quot;#3388ff&quot;, &quot;fillOpacity&quot;: 0.2, &quot;fillRule&quot;: &quot;evenodd&quot;, &quot;lineCap&quot;: &quot;round&quot;, &quot;lineJoin&quot;: &quot;round&quot;, &quot;noClip&quot;: false, &quot;opacity&quot;: 1.0, &quot;smoothFactor&quot;: 1.0, &quot;stroke&quot;: true, &quot;weight&quot;: 3}\n",
       "            ).addTo(map_59c9869044dfab87d3f1bee01a99a621);\n",
       "        \n",
       "    \n",
       "            var poly_line_7362a36098a29a2335a19a1eb7e01122 = L.polyline(\n",
       "                [[12.9660905, 77.7117083], [12.9659859, 77.7114753]],\n",
       "                {&quot;bubblingMouseEvents&quot;: true, &quot;color&quot;: &quot;#3388ff&quot;, &quot;dashArray&quot;: null, &quot;dashOffset&quot;: null, &quot;fill&quot;: false, &quot;fillColor&quot;: &quot;#3388ff&quot;, &quot;fillOpacity&quot;: 0.2, &quot;fillRule&quot;: &quot;evenodd&quot;, &quot;lineCap&quot;: &quot;round&quot;, &quot;lineJoin&quot;: &quot;round&quot;, &quot;noClip&quot;: false, &quot;opacity&quot;: 1.0, &quot;smoothFactor&quot;: 1.0, &quot;stroke&quot;: true, &quot;weight&quot;: 3}\n",
       "            ).addTo(map_59c9869044dfab87d3f1bee01a99a621);\n",
       "        \n",
       "    \n",
       "            var poly_line_82f1d3ba66bf7b0687568a0de4f0ae39 = L.polyline(\n",
       "                [[12.9659859, 77.7114753], [12.9660318, 77.7114279]],\n",
       "                {&quot;bubblingMouseEvents&quot;: true, &quot;color&quot;: &quot;#3388ff&quot;, &quot;dashArray&quot;: null, &quot;dashOffset&quot;: null, &quot;fill&quot;: false, &quot;fillColor&quot;: &quot;#3388ff&quot;, &quot;fillOpacity&quot;: 0.2, &quot;fillRule&quot;: &quot;evenodd&quot;, &quot;lineCap&quot;: &quot;round&quot;, &quot;lineJoin&quot;: &quot;round&quot;, &quot;noClip&quot;: false, &quot;opacity&quot;: 1.0, &quot;smoothFactor&quot;: 1.0, &quot;stroke&quot;: true, &quot;weight&quot;: 3}\n",
       "            ).addTo(map_59c9869044dfab87d3f1bee01a99a621);\n",
       "        \n",
       "    \n",
       "            map_59c9869044dfab87d3f1bee01a99a621.fitBounds(\n",
       "                [[12.9659859, 77.7114279], [12.967455, 77.7139021]],\n",
       "                {}\n",
       "            );\n",
       "        \n",
       "&lt;/script&gt;\n",
       "&lt;/html&gt;\" style=\"position:absolute;width:100%;height:100%;left:0;top:0;border:none !important;\" allowfullscreen webkitallowfullscreen mozallowfullscreen></iframe></div></div>"
      ],
      "text/plain": [
       "<folium.folium.Map at 0x7fab8680eeb0>"
      ]
     },
     "execution_count": 35,
     "metadata": {},
     "output_type": "execute_result"
    }
   ],
   "source": [
    "# Finding the shortest path with the given start and end lat-lng\n",
    "optimizer = 'length'\n",
    "\n",
    "start_latlng = (12.96751, 77.71388) # cmrit-entrance\n",
    "end_latlng = (12.96606,77.71146) # ganesha-turn\n",
    "\n",
    "orig_node = ox.distance.nearest_nodes(G, start_latlng[1], start_latlng[0])\n",
    "dest_node = ox.distance.nearest_nodes(G, end_latlng[1], end_latlng[0])\n",
    "\n",
    "shortest_route = nx.shortest_path(G, orig_node, dest_node, weight=optimizer)\n",
    "\n",
    "shortest_route_map = ox.plot_route_folium(G, shortest_route)\n",
    "shortest_route_map"
   ]
  },
  {
   "cell_type": "code",
   "execution_count": 36,
   "id": "e476b707",
   "metadata": {},
   "outputs": [
    {
     "data": {
      "text/plain": [
       "[(12.967455, 77.7139021),\n",
       " (12.9674174, 77.7137248),\n",
       " (12.9673755, 77.7135256),\n",
       " (12.9671386, 77.7127992),\n",
       " (12.9670341, 77.7124431),\n",
       " (12.9669103, 77.712094),\n",
       " (12.9668498, 77.7120281),\n",
       " (12.96681, 77.7119938),\n",
       " (12.9667974, 77.711963),\n",
       " (12.9662552, 77.7121233),\n",
       " (12.9661788, 77.7119984),\n",
       " (12.9660905, 77.7117083),\n",
       " (12.9659859, 77.7114753),\n",
       " (12.9660318, 77.7114279)]"
      ]
     },
     "execution_count": 36,
     "metadata": {},
     "output_type": "execute_result"
    }
   ],
   "source": [
    "# To find the coordinates in the shortest path\n",
    "route_coords = [(G.nodes[node]['y'], G.nodes[node]['x']) for node in shortest_route]\n",
    "route_coords"
   ]
  },
  {
   "cell_type": "code",
   "execution_count": 37,
   "id": "eff063bd",
   "metadata": {},
   "outputs": [],
   "source": [
    "# Plotting the interactive map with the center at (12.96682, 77.71231) => This center is for the map plotting not related with the graph\n",
    "center = (12.96682, 77.71231)\n",
    "m1 = ipl.Map(center=center, basemap=ipl.basemaps.CartoDB.Positron, zoom=18)\n",
    "m1.layout.height = '800px'"
   ]
  },
  {
   "cell_type": "code",
   "execution_count": 38,
   "id": "d016b24d",
   "metadata": {},
   "outputs": [],
   "source": [
    "# Drawing the path in the interactive map\n",
    "path = route_coords\n",
    "lines = ipl.Polyline(\n",
    "    locations=path,\n",
    "    color=\"tomato\",\n",
    "    fill=False\n",
    ")\n",
    "m1.add_layer(lines)"
   ]
  },
  {
   "cell_type": "code",
   "execution_count": 39,
   "id": "b6094ee3",
   "metadata": {},
   "outputs": [
    {
     "data": {
      "application/vnd.jupyter.widget-view+json": {
       "model_id": "e9ce2999ed624f61b50f615af0c33f71",
       "version_major": 2,
       "version_minor": 0
      },
      "text/plain": [
       "Map(center=[12.96682, 77.71231], controls=(ZoomControl(options=['position', 'zoom_in_text', 'zoom_in_title', '…"
      ]
     },
     "execution_count": 39,
     "metadata": {},
     "output_type": "execute_result"
    }
   ],
   "source": [
    "# Adding markers in the interactive map\n",
    "\n",
    "icon1 = AwesomeIcon(\n",
    "    name='fa-truck',\n",
    "    marker_color='green',\n",
    "    icon_color='black',\n",
    "    spin=False\n",
    ")\n",
    "\n",
    "marker = ipl.Marker(icon=icon1, location=start_latlng)\n",
    "m1.add_layer(marker)\n",
    "m1"
   ]
  },
  {
   "cell_type": "code",
   "execution_count": 41,
   "id": "d37c4db9",
   "metadata": {},
   "outputs": [],
   "source": [
    "# Animation\n",
    "# Moving the marker according to the path\n",
    "step = 0.1 # Speed can be varied here... higher the value lower the speed\n",
    "start_location = marker.location\n",
    "\n",
    "for point in path:\n",
    "    marker.location = point\n",
    "    sleep(step)\n"
   ]
  },
  {
   "cell_type": "code",
   "execution_count": 42,
   "id": "d9804b04",
   "metadata": {
    "scrolled": true
   },
   "outputs": [
    {
     "ename": "SyntaxError",
     "evalue": "invalid syntax (3482856428.py, line 1)",
     "output_type": "error",
     "traceback": [
      "\u001b[0;36m  Cell \u001b[0;32mIn[42], line 1\u001b[0;36m\u001b[0m\n\u001b[0;31m    NOTE:\u001b[0m\n\u001b[0m         ^\u001b[0m\n\u001b[0;31mSyntaxError\u001b[0m\u001b[0;31m:\u001b[0m invalid syntax\n"
     ]
    }
   ],
   "source": [
    "\"\"\"\n",
    "NOTE:: Don't interact with the map as the kernel will get busy and it will crash\n",
    "The animation will be shown after the map is drawn\n",
    "\"\"\""
   ]
  }
 ],
 "metadata": {
  "kernelspec": {
   "display_name": "Python 3 (ipykernel)",
   "language": "python",
   "name": "python3"
  },
  "language_info": {
   "codemirror_mode": {
    "name": "ipython",
    "version": 3
   },
   "file_extension": ".py",
   "mimetype": "text/x-python",
   "name": "python",
   "nbconvert_exporter": "python",
   "pygments_lexer": "ipython3",
   "version": "3.8.2"
  }
 },
 "nbformat": 4,
 "nbformat_minor": 5
}
