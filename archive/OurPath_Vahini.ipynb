{
 "cells": [
  {
   "cell_type": "markdown",
   "metadata": {
    "colab_type": "text",
    "id": "view-in-github"
   },
   "source": [
    "<a href=\"https://colab.research.google.com/github/Blake2912/Vahini-Phase-1/blob/phase-2-path-finding/OurPath_Vahini.ipynb\" target=\"_parent\"><img src=\"https://colab.research.google.com/assets/colab-badge.svg\" alt=\"Open In Colab\"/></a>"
   ]
  },
  {
   "cell_type": "code",
   "execution_count": 2,
   "metadata": {
    "colab": {
     "base_uri": "https://localhost:8080/"
    },
    "id": "8DHMlrioq_Zh",
    "outputId": "cc5eb64b-8de8-4d6c-84ce-bcd83d8a029b"
   },
   "outputs": [
    {
     "name": "stdout",
     "output_type": "stream",
     "text": [
      "Collecting osmnx\n",
      "  Using cached osmnx-1.3.0-py3-none-any.whl (93 kB)\n",
      "Collecting networkx\n",
      "  Using cached networkx-3.0-py3-none-any.whl (2.0 MB)\n",
      "Collecting shapely\n",
      "  Using cached shapely-2.0.1-cp311-cp311-win_amd64.whl (1.4 MB)\n",
      "Collecting geopandas>=0.12\n",
      "  Using cached geopandas-0.12.2-py3-none-any.whl (1.1 MB)\n",
      "Collecting matplotlib>=3.5\n",
      "  Using cached matplotlib-3.7.1-cp311-cp311-win_amd64.whl (7.6 MB)\n",
      "Collecting numpy>=1.23\n",
      "  Downloading numpy-1.24.2-cp311-cp311-win_amd64.whl (14.8 MB)\n",
      "     --------------------------------------- 14.8/14.8 MB 12.1 MB/s eta 0:00:00\n",
      "Collecting pandas>=1.5\n",
      "  Using cached pandas-1.5.3-cp311-cp311-win_amd64.whl (10.3 MB)\n",
      "Collecting pyproj>=3.4\n",
      "  Using cached pyproj-3.4.1-cp311-cp311-win_amd64.whl (4.8 MB)\n",
      "Requirement already satisfied: python-dateutil>=2.8 in c:\\users\\abhin\\appdata\\roaming\\python\\python311\\site-packages (from osmnx) (2.8.2)\n",
      "Collecting requests>=2.28\n",
      "  Using cached requests-2.28.2-py3-none-any.whl (62 kB)\n",
      "Collecting fiona>=1.8\n",
      "  Using cached Fiona-1.9.1-cp311-cp311-win_amd64.whl (21.9 MB)\n",
      "Requirement already satisfied: packaging in c:\\users\\abhin\\appdata\\roaming\\python\\python311\\site-packages (from geopandas>=0.12->osmnx) (22.0)\n",
      "Collecting contourpy>=1.0.1\n",
      "  Using cached contourpy-1.0.7-cp311-cp311-win_amd64.whl (162 kB)\n",
      "Collecting cycler>=0.10\n",
      "  Using cached cycler-0.11.0-py3-none-any.whl (6.4 kB)\n",
      "Collecting fonttools>=4.22.0\n",
      "  Using cached fonttools-4.39.0-py3-none-any.whl (1.0 MB)\n",
      "Collecting kiwisolver>=1.0.1\n",
      "  Using cached kiwisolver-1.4.4-cp311-cp311-win_amd64.whl (55 kB)\n",
      "Collecting pillow>=6.2.0\n",
      "  Using cached Pillow-9.4.0-cp311-cp311-win_amd64.whl (2.5 MB)\n",
      "Collecting pyparsing>=2.3.1\n",
      "  Using cached pyparsing-3.0.9-py3-none-any.whl (98 kB)\n",
      "Collecting pytz>=2020.1\n",
      "  Using cached pytz-2022.7.1-py2.py3-none-any.whl (499 kB)\n",
      "Collecting certifi\n",
      "  Using cached certifi-2022.12.7-py3-none-any.whl (155 kB)\n",
      "Requirement already satisfied: six>=1.5 in c:\\users\\abhin\\appdata\\roaming\\python\\python311\\site-packages (from python-dateutil>=2.8->osmnx) (1.16.0)\n",
      "Collecting charset-normalizer<4,>=2\n",
      "  Using cached charset_normalizer-3.1.0-cp311-cp311-win_amd64.whl (96 kB)\n",
      "Collecting idna<4,>=2.5\n",
      "  Using cached idna-3.4-py3-none-any.whl (61 kB)\n",
      "Collecting urllib3<1.27,>=1.21.1\n",
      "  Using cached urllib3-1.26.14-py2.py3-none-any.whl (140 kB)\n",
      "Collecting attrs>=19.2.0\n",
      "  Using cached attrs-22.2.0-py3-none-any.whl (60 kB)\n",
      "Collecting click~=8.0\n",
      "  Using cached click-8.1.3-py3-none-any.whl (96 kB)\n",
      "Collecting click-plugins>=1.0\n",
      "  Using cached click_plugins-1.1.1-py2.py3-none-any.whl (7.5 kB)\n",
      "Collecting cligj>=0.5\n",
      "  Using cached cligj-0.7.2-py3-none-any.whl (7.1 kB)\n",
      "Collecting munch>=2.3.2\n",
      "  Using cached munch-2.5.0-py2.py3-none-any.whl (10 kB)\n",
      "Requirement already satisfied: setuptools in c:\\python311\\lib\\site-packages (from fiona>=1.8->geopandas>=0.12->osmnx) (65.5.0)\n",
      "Requirement already satisfied: colorama in c:\\users\\abhin\\appdata\\roaming\\python\\python311\\site-packages (from click~=8.0->fiona>=1.8->geopandas>=0.12->osmnx) (0.4.6)\n",
      "Installing collected packages: pytz, urllib3, pyparsing, pillow, numpy, networkx, munch, kiwisolver, idna, fonttools, cycler, click, charset-normalizer, certifi, attrs, shapely, requests, pyproj, pandas, contourpy, cligj, click-plugins, matplotlib, fiona, geopandas, osmnx\n",
      "Successfully installed attrs-22.2.0 certifi-2022.12.7 charset-normalizer-3.1.0 click-8.1.3 click-plugins-1.1.1 cligj-0.7.2 contourpy-1.0.7 cycler-0.11.0 fiona-1.9.1 fonttools-4.39.0 geopandas-0.12.2 idna-3.4 kiwisolver-1.4.4 matplotlib-3.7.1 munch-2.5.0 networkx-3.0 numpy-1.24.2 osmnx-1.3.0 pandas-1.5.3 pillow-9.4.0 pyparsing-3.0.9 pyproj-3.4.1 pytz-2022.7.1 requests-2.28.2 shapely-2.0.1 urllib3-1.26.14\n"
     ]
    },
    {
     "name": "stderr",
     "output_type": "stream",
     "text": [
      "\n",
      "[notice] A new release of pip available: 22.3 -> 23.0.1\n",
      "[notice] To update, run: python.exe -m pip install --upgrade pip\n"
     ]
    }
   ],
   "source": [
    "!pip install osmnx networkx shapely"
   ]
  },
  {
   "cell_type": "code",
   "execution_count": 37,
   "metadata": {
    "id": "CvIFNCmgrbA-"
   },
   "outputs": [],
   "source": [
    "import osmnx as ox\n",
    "import networkx as nx\n",
    "from shapely.geometry import Polygon"
   ]
  },
  {
   "cell_type": "code",
   "execution_count": 57,
   "metadata": {
    "id": "bowrYz7stWxI"
   },
   "outputs": [],
   "source": [
    "## Using boundbox\n",
    "\n",
    "north, south, east, west = 12.96768338736144,12.965518842636625,77.71393642911939,77.71046157295785\n",
    "# cmrit lat long bounds 0\n",
    "# north (float) – northern latitude of bounding box: 12.96768338736144\n",
    "# south (float) – southern latitude of bounding box: 12.965518842636625\n",
    "# east (float) – eastern longitude of bounding box: 77.71393642911939\n",
    "# west (float) – western longitude of bounding box: 77.71046157295785\n",
    "network_type = 'all_private' # \"all_private\", \"all\", \"bike\", \"drive\", \"drive_service\", \"walk\"\n",
    "\n",
    "G = ox.graph_from_bbox(\n",
    "      north, south, east, west, \n",
    "      network_type=network_type, \n",
    "      simplify=True, \n",
    "      retain_all=False, \n",
    "      truncate_by_edge=False, \n",
    "      clean_periphery=True, \n",
    "      custom_filter=None)\n",
    "# Create a graph from OSM within some bounding box.\n",
    "def plot():\n",
    "  # Plot a graph.\n",
    "  fig, ax = ox.plot_graph(G)"
   ]
  },
  {
   "cell_type": "code",
   "execution_count": 58,
   "metadata": {
    "colab": {
     "base_uri": "https://localhost:8080/",
     "height": 271
    },
    "id": "CdBpDfFBK3eA",
    "outputId": "8a0ab827-5406-47ba-9660-b8da4ecc5e87"
   },
   "outputs": [
    {
     "data": {
      "image/png": "[encoded data removed]",
      "text/plain": [
       "<Figure size 800x800 with 1 Axes>"
      ]
     },
     "metadata": {},
     "output_type": "display_data"
    }
   ],
   "source": [
    "plot()"
   ]
  },
  {
   "cell_type": "code",
   "execution_count": 59,
   "metadata": {},
   "outputs": [],
   "source": [
    "# Renaming the existing nodes in the graph\n",
    "mapping = {3798918923:'cmrit_entrance',4159727902:'teacher_parking',4159727907:'volley_ball_court' }\n",
    "G = nx.relabel_nodes(G, mapping)"
   ]
  },
  {
   "cell_type": "code",
   "execution_count": 60,
   "metadata": {
    "colab": {
     "base_uri": "https://localhost:8080/"
    },
    "id": "mdQgvlazJH2m",
    "outputId": "f1490aee-3aa7-408b-a54c-2775ae29cadb"
   },
   "outputs": [
    {
     "data": {
      "text/plain": [
       "0"
      ]
     },
     "execution_count": 128,
     "metadata": {},
     "output_type": "execute_result"
    }
   ],
   "source": [
    "# adding node basic_science and connecting it to the existing graph (from openstreet)\n",
    "# Basic Science Node\n",
    "G.add_node('basic_science',y= 12.96626, x=77.71211,street_count = 3) # we can add nodes like this..\n",
    "G.add_edge('teacher_parking','basic_science',length=300)\n",
    "G.add_edge('basic_science','teacher_parking',length=300) # Potential Fix for Issue-17\n",
    "\n",
    "# Ganesh statue node\n",
    "G.add_node('ganesha_statue',y=12.96598, x=77.71148, street_count=3)\n",
    "G.add_edge('basic_science','ganesha_statue',length=300)\n",
    "G.add_edge('ganesha_statue','basic_science',length=300) # Potential Fix for Issue-17\n",
    "\n",
    "# Hostel Turn node\n",
    "G.add_node('hostel_turn',y=12.96696, x=77.71111, street_count=3)\n",
    "G.add_edge('ganesha_statue','hostel_turn',length=300)\n",
    "G.add_edge('volley_ball_court','hostel_turn',length=300)\n",
    "\n",
    "# NOTE:: After renaming of nodes use the relabled name and not the ID while creating new edges and nodes\n"
   ]
  },
  {
   "cell_type": "code",
   "execution_count": 61,
   "metadata": {
    "colab": {
     "base_uri": "https://localhost:8080/"
    },
    "id": "7968ES87Lvmv",
    "outputId": "711944ab-39ec-421e-9f03-0994033a9b8e"
   },
   "outputs": [
    {
     "data": {
      "text/plain": [
       "[{'y': 12.967455, 'x': 77.7139021, 'street_count': 3},\n",
       " {'y': 12.9667974, 'x': 77.711963, 'street_count': 3},\n",
       " {'y': 12.9671086, 'x': 77.7118638, 'street_count': 3},\n",
       " {'y': 12.96626, 'x': 77.71211, 'street_count': 3},\n",
       " {'y': 12.96598, 'x': 77.71148, 'street_count': 3},\n",
       " {'y': 12.96696, 'x': 77.71111, 'street_count': 3}]"
      ]
     },
     "execution_count": 61,
     "metadata": {},
     "output_type": "execute_result"
    }
   ],
   "source": [
    "# nodes\n",
    "[G.nodes[x] for x in G]"
   ]
  },
  {
   "cell_type": "code",
   "execution_count": 62,
   "metadata": {
    "colab": {
     "base_uri": "https://localhost:8080/"
    },
    "id": "RZ_Gpx4Wz4tw",
    "outputId": "8d48cc91-109d-4e08-f917-f923200bbee8"
   },
   "outputs": [
    {
     "data": {
      "text/plain": [
       "OutMultiEdgeView([('cmrit_entrance', 'teacher_parking', 0), ('cmrit_entrance', 'volley_ball_court', 0), ('teacher_parking', 'volley_ball_court', 0), ('teacher_parking', 'volley_ball_court', 1), ('teacher_parking', 'cmrit_entrance', 0), ('teacher_parking', 'basic_science', 0), ('volley_ball_court', 'teacher_parking', 0), ('volley_ball_court', 'teacher_parking', 1), ('volley_ball_court', 'cmrit_entrance', 0), ('volley_ball_court', 'hostel_turn', 0), ('basic_science', 'teacher_parking', 0), ('basic_science', 'ganesha_statue', 0), ('ganesha_statue', 'basic_science', 0), ('ganesha_statue', 'hostel_turn', 0)])"
      ]
     },
     "execution_count": 62,
     "metadata": {},
     "output_type": "execute_result"
    }
   ],
   "source": [
    "G.edges \n",
    "# basic_science is ur new node, u can see that the \n",
    "# line between basic_science node  and the teachers-parking TURN node is darker \n",
    "# meaning -> addition of edge"
   ]
  },
  {
   "cell_type": "code",
   "execution_count": 63,
   "metadata": {
    "colab": {
     "base_uri": "https://localhost:8080/",
     "height": 271
    },
    "id": "5SrzUlxYJIjb",
    "outputId": "cf71179a-ccda-4b27-cc86-a672add3847d"
   },
   "outputs": [
    {
     "data": {
      "image/png": "[encoded data removed]",
      "text/plain": [
       "<Figure size 800x800 with 1 Axes>"
      ]
     },
     "metadata": {},
     "output_type": "display_data"
    }
   ],
   "source": [
    "plot()"
   ]
  },
  {
   "cell_type": "code",
   "execution_count": 64,
   "metadata": {
    "colab": {
     "base_uri": "https://localhost:8080/",
     "height": 813
    },
    "id": "6RP1YT01LKsd",
    "outputId": "2b51be30-c5f7-48b7-da50-f4f33c1319a5"
   },
   "outputs": [
    {
     "data": {
      "text/html": [
       "<div style=\"width:100%;\"><div style=\"position:relative;width:100%;height:0;padding-bottom:60%;\"><span style=\"color:#565656\">Make this Notebook Trusted to load map: File -> Trust Notebook</span><iframe srcdoc=\"&lt;!DOCTYPE html&gt;\n",
       "&lt;html&gt;\n",
       "&lt;head&gt;\n",
       "    \n",
       "    &lt;meta http-equiv=&quot;content-type&quot; content=&quot;text/html; charset=UTF-8&quot; /&gt;\n",
       "    \n",
       "        &lt;script&gt;\n",
       "            L_NO_TOUCH = false;\n",
       "            L_DISABLE_3D = false;\n",
       "        &lt;/script&gt;\n",
       "    \n",
       "    &lt;style&gt;html, body {width: 100%;height: 100%;margin: 0;padding: 0;}&lt;/style&gt;\n",
       "    &lt;style&gt;#map {position:absolute;top:0;bottom:0;right:0;left:0;}&lt;/style&gt;\n",
       "    &lt;script src=&quot;https://cdn.jsdelivr.net/npm/leaflet@1.9.3/dist/leaflet.js&quot;&gt;&lt;/script&gt;\n",
       "    &lt;script src=&quot;https://code.jquery.com/jquery-1.12.4.min.js&quot;&gt;&lt;/script&gt;\n",
       "    &lt;script src=&quot;https://cdn.jsdelivr.net/npm/bootstrap@5.2.2/dist/js/bootstrap.bundle.min.js&quot;&gt;&lt;/script&gt;\n",
       "    &lt;script src=&quot;https://cdnjs.cloudflare.com/ajax/libs/Leaflet.awesome-markers/2.0.2/leaflet.awesome-markers.js&quot;&gt;&lt;/script&gt;\n",
       "    &lt;link rel=&quot;stylesheet&quot; href=&quot;https://cdn.jsdelivr.net/npm/leaflet@1.9.3/dist/leaflet.css&quot;/&gt;\n",
       "    &lt;link rel=&quot;stylesheet&quot; href=&quot;https://cdn.jsdelivr.net/npm/bootstrap@5.2.2/dist/css/bootstrap.min.css&quot;/&gt;\n",
       "    &lt;link rel=&quot;stylesheet&quot; href=&quot;https://netdna.bootstrapcdn.com/bootstrap/3.0.0/css/bootstrap.min.css&quot;/&gt;\n",
       "    &lt;link rel=&quot;stylesheet&quot; href=&quot;https://cdn.jsdelivr.net/npm/@fortawesome/fontawesome-free@6.2.0/css/all.min.css&quot;/&gt;\n",
       "    &lt;link rel=&quot;stylesheet&quot; href=&quot;https://cdnjs.cloudflare.com/ajax/libs/Leaflet.awesome-markers/2.0.2/leaflet.awesome-markers.css&quot;/&gt;\n",
       "    &lt;link rel=&quot;stylesheet&quot; href=&quot;https://cdn.jsdelivr.net/gh/python-visualization/folium/folium/templates/leaflet.awesome.rotate.min.css&quot;/&gt;\n",
       "    \n",
       "            &lt;meta name=&quot;viewport&quot; content=&quot;width=device-width,\n",
       "                initial-scale=1.0, maximum-scale=1.0, user-scalable=no&quot; /&gt;\n",
       "            &lt;style&gt;\n",
       "                #map_333e9abdcce1ba11aff7502a565dade1 {\n",
       "                    position: relative;\n",
       "                    width: 100.0%;\n",
       "                    height: 100.0%;\n",
       "                    left: 0.0%;\n",
       "                    top: 0.0%;\n",
       "                }\n",
       "                .leaflet-container { font-size: 1rem; }\n",
       "            &lt;/style&gt;\n",
       "        \n",
       "&lt;/head&gt;\n",
       "&lt;body&gt;\n",
       "    \n",
       "    \n",
       "            &lt;div class=&quot;folium-map&quot; id=&quot;map_333e9abdcce1ba11aff7502a565dade1&quot; &gt;&lt;/div&gt;\n",
       "        \n",
       "&lt;/body&gt;\n",
       "&lt;script&gt;\n",
       "    \n",
       "    \n",
       "            var map_333e9abdcce1ba11aff7502a565dade1 = L.map(\n",
       "                &quot;map_333e9abdcce1ba11aff7502a565dade1&quot;,\n",
       "                {\n",
       "                    center: [12.966302665634695, 77.71190293675257],\n",
       "                    crs: L.CRS.EPSG3857,\n",
       "                    zoom: 1,\n",
       "                    zoomControl: true,\n",
       "                    preferCanvas: false,\n",
       "                }\n",
       "            );\n",
       "\n",
       "            \n",
       "\n",
       "        \n",
       "    \n",
       "            var tile_layer_2366d6f3faa98a6f97f017756e27609d = L.tileLayer(\n",
       "                &quot;https://cartodb-basemaps-{s}.global.ssl.fastly.net/light_all/{z}/{x}/{y}.png&quot;,\n",
       "                {&quot;attribution&quot;: &quot;\\u0026copy; \\u003ca target=\\&quot;_blank\\&quot; href=\\&quot;http://www.openstreetmap.org/copyright\\&quot;\\u003eOpenStreetMap\\u003c/a\\u003e contributors \\u0026copy; \\u003ca target=\\&quot;_blank\\&quot; href=\\&quot;http://cartodb.com/attributions\\&quot;\\u003eCartoDB\\u003c/a\\u003e, CartoDB \\u003ca target=\\&quot;_blank\\&quot; href =\\&quot;http://cartodb.com/attributions\\&quot;\\u003eattributions\\u003c/a\\u003e&quot;, &quot;detectRetina&quot;: false, &quot;maxNativeZoom&quot;: 18, &quot;maxZoom&quot;: 18, &quot;minZoom&quot;: 0, &quot;noWrap&quot;: false, &quot;opacity&quot;: 1, &quot;subdomains&quot;: &quot;abc&quot;, &quot;tms&quot;: false}\n",
       "            ).addTo(map_333e9abdcce1ba11aff7502a565dade1);\n",
       "        \n",
       "    \n",
       "            var poly_line_46628157ee5e0dfb48039a884acab661 = L.polyline(\n",
       "                [[12.96598, 77.71148], [12.96626, 77.71211]],\n",
       "                {&quot;bubblingMouseEvents&quot;: true, &quot;color&quot;: &quot;#3388ff&quot;, &quot;dashArray&quot;: null, &quot;dashOffset&quot;: null, &quot;fill&quot;: false, &quot;fillColor&quot;: &quot;#3388ff&quot;, &quot;fillOpacity&quot;: 0.2, &quot;fillRule&quot;: &quot;evenodd&quot;, &quot;lineCap&quot;: &quot;round&quot;, &quot;lineJoin&quot;: &quot;round&quot;, &quot;noClip&quot;: false, &quot;opacity&quot;: 1.0, &quot;smoothFactor&quot;: 1.0, &quot;stroke&quot;: true, &quot;weight&quot;: 3}\n",
       "            ).addTo(map_333e9abdcce1ba11aff7502a565dade1);\n",
       "        \n",
       "    \n",
       "            var poly_line_4edff680088478c0abeab2bbfb357ca5 = L.polyline(\n",
       "                [[12.96626, 77.71211], [12.9667974, 77.711963]],\n",
       "                {&quot;bubblingMouseEvents&quot;: true, &quot;color&quot;: &quot;#3388ff&quot;, &quot;dashArray&quot;: null, &quot;dashOffset&quot;: null, &quot;fill&quot;: false, &quot;fillColor&quot;: &quot;#3388ff&quot;, &quot;fillOpacity&quot;: 0.2, &quot;fillRule&quot;: &quot;evenodd&quot;, &quot;lineCap&quot;: &quot;round&quot;, &quot;lineJoin&quot;: &quot;round&quot;, &quot;noClip&quot;: false, &quot;opacity&quot;: 1.0, &quot;smoothFactor&quot;: 1.0, &quot;stroke&quot;: true, &quot;weight&quot;: 3}\n",
       "            ).addTo(map_333e9abdcce1ba11aff7502a565dade1);\n",
       "        \n",
       "    \n",
       "            map_333e9abdcce1ba11aff7502a565dade1.fitBounds(\n",
       "                [[12.96598, 77.71148], [12.9667974, 77.71211]],\n",
       "                {}\n",
       "            );\n",
       "        \n",
       "&lt;/script&gt;\n",
       "&lt;/html&gt;\" style=\"position:absolute;width:100%;height:100%;left:0;top:0;border:none !important;\" allowfullscreen webkitallowfullscreen mozallowfullscreen></iframe></div></div>"
      ],
      "text/plain": [
       "<folium.folium.Map at 0x7fb0fe9f1220>"
      ]
     },
     "execution_count": 64,
     "metadata": {},
     "output_type": "execute_result"
    }
   ],
   "source": [
    "# finding shortest route\n",
    "# start_latlng = (12.9671086,77.7118638)\n",
    "# end_latlng = (12.966229089103756, 77.7121607793537)\n",
    "\n",
    "# start_latlng = G['cmrit_entrance']\n",
    "# end_latlng = G['basic_science']\n",
    "optimizer = 'length'\n",
    "# orig_node = ox.distance.nearest_nodes(G, start_latlng[1], start_latlng[0])\n",
    "# find the nearest node to the end location\n",
    "# dest_node = ox.distance.nearest_nodes(G, end_latlng[1], end_latlng[0])\n",
    "\n",
    "\n",
    "orig_node = 'ganesha_statue'\n",
    "dest_node = 'teacher_parking'\n",
    "\n",
    "#  find the shortest path\n",
    "shortest_route = nx.shortest_path(G, orig_node, dest_node, weight=optimizer)\n",
    "\n",
    "# print(shortest_route)\n",
    "shortest_route_map = ox.plot_route_folium(G, shortest_route)\n",
    "shortest_route_map\n",
    "\n",
    "# # This saves it on html file to view it easily\n",
    "# shortest_route_map.save('route.html')"
   ]
  },
  {
   "cell_type": "code",
   "execution_count": 135,
   "metadata": {
    "colab": {
     "base_uri": "https://localhost:8080/"
    },
    "id": "Ke_WEItYLhUi",
    "outputId": "486eaad0-e390-4392-c576-d84a2d479bb9"
   },
   "outputs": [
    {
     "data": {
      "text/plain": [
       "['cmrit_entrance', 'volley_ball_court', 'hostel_turn']"
      ]
     },
     "execution_count": 135,
     "metadata": {},
     "output_type": "execute_result"
    }
   ],
   "source": [
    "[x for x in shortest_route] #printing of lat/long of the nodes in shortest_route"
   ]
  },
  {
   "cell_type": "code",
   "execution_count": 12,
   "metadata": {
    "colab": {
     "base_uri": "https://localhost:8080/"
    },
    "id": "rDJypBOO1dYq",
    "outputId": "b0fd16cb-23f7-4035-ccf1-3ba810e423b6"
   },
   "outputs": [
    {
     "data": {
      "text/plain": [
       "OutMultiEdgeDataView([('cmrit_entrance', 'teacher_parking', {'osmid': 414835003, 'highway': 'pedestrian', 'oneway': False, 'reversed': True, 'length': 224.51000000000002, 'geometry': <shapely.geometry.linestring.LineString object at 0x7fbf91d8e0a0>}), ('cmrit_entrance', 'volley_ball_court', {'osmid': 661967560, 'highway': 'residential', 'oneway': False, 'reversed': True, 'length': 225.35899999999998, 'geometry': <shapely.geometry.linestring.LineString object at 0x7fbf91d8e940>}), ('teacher_parking', 'volley_ball_court', {'osmid': [414835002, 640540678], 'highway': 'pedestrian', 'oneway': False, 'reversed': False, 'length': 339.8109999999999, 'geometry': <shapely.geometry.linestring.LineString object at 0x7fbf91d79eb0>}), ('teacher_parking', 'volley_ball_court', {'osmid': 414835002, 'highway': 'pedestrian', 'oneway': False, 'reversed': True, 'length': 36.241, 'geometry': <shapely.geometry.linestring.LineString object at 0x7fbf91d79c10>}), ('teacher_parking', 'cmrit_entrance', {'osmid': 414835003, 'highway': 'pedestrian', 'oneway': False, 'reversed': False, 'length': 224.51000000000002, 'geometry': <shapely.geometry.linestring.LineString object at 0x7fbf91d79f70>}), ('teacher_parking', 'basic_science', {'length': 0}), ('volley_ball_court', 'teacher_parking', {'osmid': 414835002, 'highway': 'pedestrian', 'oneway': False, 'reversed': False, 'length': 36.241, 'geometry': <shapely.geometry.linestring.LineString object at 0x7fbf91d799a0>}), ('volley_ball_court', 'teacher_parking', {'osmid': [414835002, 640540678], 'highway': 'pedestrian', 'oneway': False, 'reversed': True, 'length': 339.811, 'geometry': <shapely.geometry.linestring.LineString object at 0x7fbf91d79e80>}), ('volley_ball_court', 'cmrit_entrance', {'osmid': 661967560, 'highway': 'residential', 'oneway': False, 'reversed': False, 'length': 225.359, 'geometry': <shapely.geometry.linestring.LineString object at 0x7fbf91d79910>})])"
      ]
     },
     "execution_count": 12,
     "metadata": {},
     "output_type": "execute_result"
    }
   ],
   "source": [
    "G.edges(data=True)"
   ]
  },
  {
   "cell_type": "code",
   "execution_count": null,
   "metadata": {
    "id": "3mdyl9dc3KMi"
   },
   "outputs": [],
   "source": []
  }
 ],
 "metadata": {
  "colab": {
   "include_colab_link": true,
   "provenance": []
  },
  "kernelspec": {
   "display_name": "Python 3 (ipykernel)",
   "language": "python",
   "name": "python3"
  },
  "language_info": {
   "codemirror_mode": {
    "name": "ipython",
    "version": 3
   },
   "file_extension": ".py",
   "mimetype": "text/x-python",
   "name": "python",
   "nbconvert_exporter": "python",
   "pygments_lexer": "ipython3",
   "version": "3.8.2"
  }
 },
 "nbformat": 4,
 "nbformat_minor": 1
}
