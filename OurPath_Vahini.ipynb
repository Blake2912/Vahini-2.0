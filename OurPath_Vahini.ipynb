{
  "nbformat": 4,
  "nbformat_minor": 0,
  "metadata": {
    "colab": {
      "provenance": [],
      "include_colab_link": true
    },
    "kernelspec": {
      "name": "python3",
      "display_name": "Python 3"
    },
    "language_info": {
      "name": "python"
    }
  },
  "cells": [
    {
      "cell_type": "markdown",
      "metadata": {
        "id": "view-in-github",
        "colab_type": "text"
      },
      "source": [
        "<a href=\"https://colab.research.google.com/github/Blake2912/Vahini-Phase-1/blob/phase-2-path-finding/OurPath_Vahini.ipynb\" target=\"_parent\"><img src=\"https://colab.research.google.com/assets/colab-badge.svg\" alt=\"Open In Colab\"/></a>"
      ]
    },
    {
      "cell_type": "code",
      "execution_count": 1,
      "metadata": {
        "id": "8DHMlrioq_Zh",
        "colab": {
          "base_uri": "https://localhost:8080/"
        },
        "outputId": "cc5eb64b-8de8-4d6c-84ce-bcd83d8a029b"
      },
      "outputs": [
        {
          "output_type": "stream",
          "name": "stdout",
          "text": [
            "Looking in indexes: https://pypi.org/simple, https://us-python.pkg.dev/colab-wheels/public/simple/\n",
            "Requirement already satisfied: osmnx in /usr/local/lib/python3.8/dist-packages (1.2.2)\n",
            "Requirement already satisfied: networkx in /usr/local/lib/python3.8/dist-packages (3.0)\n",
            "Requirement already satisfied: shapely in /usr/local/lib/python3.8/dist-packages (1.8.5.post1)\n",
            "Requirement already satisfied: pyproj>=3.3 in /usr/local/lib/python3.8/dist-packages (from osmnx) (3.4.1)\n",
            "Requirement already satisfied: numpy>=1.22 in /usr/local/lib/python3.8/dist-packages (from osmnx) (1.22.4)\n",
            "Requirement already satisfied: geopandas>=0.11 in /usr/local/lib/python3.8/dist-packages (from osmnx) (0.12.2)\n",
            "Requirement already satisfied: requests>=2.28 in /usr/local/lib/python3.8/dist-packages (from osmnx) (2.28.2)\n",
            "Requirement already satisfied: pandas>=1.4 in /usr/local/lib/python3.8/dist-packages (from osmnx) (1.5.3)\n",
            "Requirement already satisfied: matplotlib>=3.5 in /usr/local/lib/python3.8/dist-packages (from osmnx) (3.5.3)\n",
            "Requirement already satisfied: Rtree>=1.0 in /usr/local/lib/python3.8/dist-packages (from osmnx) (1.0.1)\n",
            "Requirement already satisfied: packaging in /usr/local/lib/python3.8/dist-packages (from geopandas>=0.11->osmnx) (23.0)\n",
            "Requirement already satisfied: fiona>=1.8 in /usr/local/lib/python3.8/dist-packages (from geopandas>=0.11->osmnx) (1.9.1)\n",
            "Requirement already satisfied: fonttools>=4.22.0 in /usr/local/lib/python3.8/dist-packages (from matplotlib>=3.5->osmnx) (4.38.0)\n",
            "Requirement already satisfied: pyparsing>=2.2.1 in /usr/local/lib/python3.8/dist-packages (from matplotlib>=3.5->osmnx) (3.0.9)\n",
            "Requirement already satisfied: cycler>=0.10 in /usr/local/lib/python3.8/dist-packages (from matplotlib>=3.5->osmnx) (0.11.0)\n",
            "Requirement already satisfied: kiwisolver>=1.0.1 in /usr/local/lib/python3.8/dist-packages (from matplotlib>=3.5->osmnx) (1.4.4)\n",
            "Requirement already satisfied: python-dateutil>=2.7 in /usr/local/lib/python3.8/dist-packages (from matplotlib>=3.5->osmnx) (2.8.2)\n",
            "Requirement already satisfied: pillow>=6.2.0 in /usr/local/lib/python3.8/dist-packages (from matplotlib>=3.5->osmnx) (8.4.0)\n",
            "Requirement already satisfied: pytz>=2020.1 in /usr/local/lib/python3.8/dist-packages (from pandas>=1.4->osmnx) (2022.7.1)\n",
            "Requirement already satisfied: certifi in /usr/local/lib/python3.8/dist-packages (from pyproj>=3.3->osmnx) (2022.12.7)\n",
            "Requirement already satisfied: idna<4,>=2.5 in /usr/local/lib/python3.8/dist-packages (from requests>=2.28->osmnx) (2.10)\n",
            "Requirement already satisfied: charset-normalizer<4,>=2 in /usr/local/lib/python3.8/dist-packages (from requests>=2.28->osmnx) (3.0.1)\n",
            "Requirement already satisfied: urllib3<1.27,>=1.21.1 in /usr/local/lib/python3.8/dist-packages (from requests>=2.28->osmnx) (1.26.14)\n",
            "Requirement already satisfied: click~=8.0 in /usr/local/lib/python3.8/dist-packages (from fiona>=1.8->geopandas>=0.11->osmnx) (8.1.3)\n",
            "Requirement already satisfied: setuptools in /usr/local/lib/python3.8/dist-packages (from fiona>=1.8->geopandas>=0.11->osmnx) (57.4.0)\n",
            "Requirement already satisfied: attrs>=19.2.0 in /usr/local/lib/python3.8/dist-packages (from fiona>=1.8->geopandas>=0.11->osmnx) (22.2.0)\n",
            "Requirement already satisfied: cligj>=0.5 in /usr/local/lib/python3.8/dist-packages (from fiona>=1.8->geopandas>=0.11->osmnx) (0.7.2)\n",
            "Requirement already satisfied: click-plugins>=1.0 in /usr/local/lib/python3.8/dist-packages (from fiona>=1.8->geopandas>=0.11->osmnx) (1.1.1)\n",
            "Requirement already satisfied: munch>=2.3.2 in /usr/local/lib/python3.8/dist-packages (from fiona>=1.8->geopandas>=0.11->osmnx) (2.5.0)\n",
            "Requirement already satisfied: six>=1.5 in /usr/local/lib/python3.8/dist-packages (from python-dateutil>=2.7->matplotlib>=3.5->osmnx) (1.15.0)\n"
          ]
        }
      ],
      "source": [
        "!pip install osmnx networkx shapely"
      ]
    },
    {
      "cell_type": "code",
      "source": [
        "import osmnx as ox\n",
        "import networkx as nx\n",
        "from shapely.geometry import Polygon"
      ],
      "metadata": {
        "id": "CvIFNCmgrbA-"
      },
      "execution_count": 2,
      "outputs": []
    },
    {
      "cell_type": "code",
      "source": [
        "## Using boundbox\n",
        "\n",
        "north, south, east, west = 12.96768338736144,12.965518842636625,77.71393642911939,77.71046157295785\n",
        "# cmrit lat long bounds 0\n",
        "# north (float) – northern latitude of bounding box: 12.96768338736144\n",
        "# south (float) – southern latitude of bounding box: 12.965518842636625\n",
        "# east (float) – eastern longitude of bounding box: 77.71393642911939\n",
        "# west (float) – western longitude of bounding box: 77.71046157295785\n",
        "network_type = 'all_private' # \"all_private\", \"all\", \"bike\", \"drive\", \"drive_service\", \"walk\"\n",
        "\n",
        "G = ox.graph_from_bbox(\n",
        "      north, south, east, west, \n",
        "      network_type=network_type, \n",
        "      simplify=True, \n",
        "      retain_all=False, \n",
        "      truncate_by_edge=False, \n",
        "      clean_periphery=True, \n",
        "      custom_filter=None)\n",
        "# Create a graph from OSM within some bounding box.\n",
        "def plot():\n",
        "  # Plot a graph.\n",
        "  fig, ax = ox.plot_graph(G)"
      ],
      "metadata": {
        "id": "bowrYz7stWxI"
      },
      "execution_count": 49,
      "outputs": []
    },
    {
      "cell_type": "code",
      "source": [
        "plot()"
      ],
      "metadata": {
        "colab": {
          "base_uri": "https://localhost:8080/",
          "height": 271
        },
        "id": "CdBpDfFBK3eA",
        "outputId": "8a0ab827-5406-47ba-9660-b8da4ecc5e87"
      },
      "execution_count": 50,
      "outputs": [
        {
          "output_type": "display_data",
          "data": {
            "text/plain": [
              "<Figure size 576x576 with 1 Axes>"
            ],
            "image/png": "[encoded data removed]"
          },
          "metadata": {}
        }
      ]
    },
    {
      "cell_type": "code",
      "source": [
        "#added"
      ],
      "metadata": {
        "id": "y8ooyVkx3zyO"
      },
      "execution_count": 51,
      "outputs": []
    },
    {
      "cell_type": "code",
      "source": [
        "# adding node basic_science and connecting it to the existing graph (from openstreet)\n",
        "\n",
        "G.add_node('basic_science',y= 12.96626, x=77.71211,street_count = 3) # we can add nodes like this..\n",
        "G.add_edge(4159727902,'basic_science',length=0)"
      ],
      "metadata": {
        "colab": {
          "base_uri": "https://localhost:8080/"
        },
        "id": "mdQgvlazJH2m",
        "outputId": "f1490aee-3aa7-408b-a54c-2775ae29cadb"
      },
      "execution_count": 52,
      "outputs": [
        {
          "output_type": "execute_result",
          "data": {
            "text/plain": [
              "0"
            ]
          },
          "metadata": {},
          "execution_count": 52
        }
      ]
    },
    {
      "cell_type": "code",
      "source": [
        "# nodes\n",
        "mapping = {3798918923:'cmrit_entrance',4159727902:'teacher_parking',4159727907:'volley_ball_court' }\n",
        "G = nx.relabel_nodes(G, mapping)\n",
        "[G.nodes[x] for x in G]"
      ],
      "metadata": {
        "colab": {
          "base_uri": "https://localhost:8080/"
        },
        "id": "7968ES87Lvmv",
        "outputId": "711944ab-39ec-421e-9f03-0994033a9b8e"
      },
      "execution_count": 53,
      "outputs": [
        {
          "output_type": "execute_result",
          "data": {
            "text/plain": [
              "[{'y': 12.967455, 'x': 77.7139021, 'street_count': 3},\n",
              " {'y': 12.9667974, 'x': 77.711963, 'street_count': 3},\n",
              " {'y': 12.9671086, 'x': 77.7118638, 'street_count': 3},\n",
              " {'y': 12.96626, 'x': 77.71211, 'street_count': 3}]"
            ]
          },
          "metadata": {},
          "execution_count": 53
        }
      ]
    },
    {
      "cell_type": "code",
      "source": [
        "G.nodes \n",
        "# basic_science is ur new node, u can see that the \n",
        "# line between basic_science node  and the teachers-parking TURN node is darker \n",
        "# meaning -> addition of edge"
      ],
      "metadata": {
        "colab": {
          "base_uri": "https://localhost:8080/"
        },
        "id": "RZ_Gpx4Wz4tw",
        "outputId": "8d48cc91-109d-4e08-f917-f923200bbee8"
      },
      "execution_count": 54,
      "outputs": [
        {
          "output_type": "execute_result",
          "data": {
            "text/plain": [
              "NodeView(('cmrit_entrance', 'teacher_parking', 'volley_ball_court', 'basic_science'))"
            ]
          },
          "metadata": {},
          "execution_count": 54
        }
      ]
    },
    {
      "cell_type": "code",
      "source": [
        "\n",
        "plot()"
      ],
      "metadata": {
        "colab": {
          "base_uri": "https://localhost:8080/",
          "height": 271
        },
        "id": "5SrzUlxYJIjb",
        "outputId": "cf71179a-ccda-4b27-cc86-a672add3847d"
      },
      "execution_count": 55,
      "outputs": [
        {
          "output_type": "display_data",
          "data": {
            "text/plain": [
              "<Figure size 576x576 with 1 Axes>"
            ],
            "image/png": "[encoded data removed]"
          },
          "metadata": {}
        }
      ]
    },
    {
      "cell_type": "code",
      "source": [
        "# finding shortest route\n",
        "# start_latlng = (12.9671086,77.7118638)\n",
        "# end_latlng = (12.966229089103756, 77.7121607793537)\n",
        "\n",
        "# start_latlng = G['cmrit_entrance']\n",
        "# end_latlng = G['basic_science']\n",
        "optimizer = 'length'\n",
        "# orig_node = ox.distance.nearest_nodes(G, start_latlng[1], start_latlng[0])\n",
        "# find the nearest node to the end location\n",
        "# dest_node = ox.distance.nearest_nodes(G, end_latlng[1], end_latlng[0])\n",
        "\n",
        "\n",
        "orig_node = 'cmrit_entrance'\n",
        "dest_node = 'volley_ball_court'\n",
        "\n",
        "#  find the shortest path\n",
        "shortest_route = nx.shortest_path(G, orig_node, dest_node, weight=optimizer)\n",
        "\n",
        "# print(shortest_route)\n",
        "shortest_route_map = ox.plot_route_folium(G, shortest_route)\n",
        "shortest_route_map\n",
        "\n",
        "# # This saves it on html file to view it easily\n",
        "# shortest_route_map.save('route.html')"
      ],
      "metadata": {
        "colab": {
          "base_uri": "https://localhost:8080/",
          "height": 813
        },
        "id": "6RP1YT01LKsd",
        "outputId": "2b51be30-c5f7-48b7-da50-f4f33c1319a5"
      },
      "execution_count": 60,
      "outputs": [
        {
          "output_type": "execute_result",
          "data": {
            "text/plain": [
              "<folium.folium.Map at 0x7ff07c2f3820>"
            ],
            "text/html": [
              "<div style=\"width:100%;\"><div style=\"position:relative;width:100%;height:0;padding-bottom:60%;\"><span style=\"color:#565656\">Make this Notebook Trusted to load map: File -> Trust Notebook</span><iframe srcdoc=\"&lt;!DOCTYPE html&gt;\n",
              "&lt;html&gt;\n",
              "&lt;head&gt;\n",
              "    \n",
              "    &lt;meta http-equiv=&quot;content-type&quot; content=&quot;text/html; charset=UTF-8&quot; /&gt;\n",
              "    \n",
              "        &lt;script&gt;\n",
              "            L_NO_TOUCH = false;\n",
              "            L_DISABLE_3D = false;\n",
              "        &lt;/script&gt;\n",
              "    \n",
              "    &lt;style&gt;html, body {width: 100%;height: 100%;margin: 0;padding: 0;}&lt;/style&gt;\n",
              "    &lt;style&gt;#map {position:absolute;top:0;bottom:0;right:0;left:0;}&lt;/style&gt;\n",
              "    &lt;script src=&quot;https://cdn.jsdelivr.net/npm/leaflet@1.6.0/dist/leaflet.js&quot;&gt;&lt;/script&gt;\n",
              "    &lt;script src=&quot;https://code.jquery.com/jquery-1.12.4.min.js&quot;&gt;&lt;/script&gt;\n",
              "    &lt;script src=&quot;https://maxcdn.bootstrapcdn.com/bootstrap/3.2.0/js/bootstrap.min.js&quot;&gt;&lt;/script&gt;\n",
              "    &lt;script src=&quot;https://cdnjs.cloudflare.com/ajax/libs/Leaflet.awesome-markers/2.0.2/leaflet.awesome-markers.js&quot;&gt;&lt;/script&gt;\n",
              "    &lt;link rel=&quot;stylesheet&quot; href=&quot;https://cdn.jsdelivr.net/npm/leaflet@1.6.0/dist/leaflet.css&quot;/&gt;\n",
              "    &lt;link rel=&quot;stylesheet&quot; href=&quot;https://maxcdn.bootstrapcdn.com/bootstrap/3.2.0/css/bootstrap.min.css&quot;/&gt;\n",
              "    &lt;link rel=&quot;stylesheet&quot; href=&quot;https://maxcdn.bootstrapcdn.com/bootstrap/3.2.0/css/bootstrap-theme.min.css&quot;/&gt;\n",
              "    &lt;link rel=&quot;stylesheet&quot; href=&quot;https://maxcdn.bootstrapcdn.com/font-awesome/4.6.3/css/font-awesome.min.css&quot;/&gt;\n",
              "    &lt;link rel=&quot;stylesheet&quot; href=&quot;https://cdnjs.cloudflare.com/ajax/libs/Leaflet.awesome-markers/2.0.2/leaflet.awesome-markers.css&quot;/&gt;\n",
              "    &lt;link rel=&quot;stylesheet&quot; href=&quot;https://cdn.jsdelivr.net/gh/python-visualization/folium/folium/templates/leaflet.awesome.rotate.min.css&quot;/&gt;\n",
              "    \n",
              "            &lt;meta name=&quot;viewport&quot; content=&quot;width=device-width,\n",
              "                initial-scale=1.0, maximum-scale=1.0, user-scalable=no&quot; /&gt;\n",
              "            &lt;style&gt;\n",
              "                #map_6a0f9f4ff1a54c17c44a2e5f9d9fc9dc {\n",
              "                    position: relative;\n",
              "                    width: 100.0%;\n",
              "                    height: 100.0%;\n",
              "                    left: 0.0%;\n",
              "                    top: 0.0%;\n",
              "                }\n",
              "            &lt;/style&gt;\n",
              "        \n",
              "&lt;/head&gt;\n",
              "&lt;body&gt;\n",
              "    \n",
              "    \n",
              "            &lt;div class=&quot;folium-map&quot; id=&quot;map_6a0f9f4ff1a54c17c44a2e5f9d9fc9dc&quot; &gt;&lt;/div&gt;\n",
              "        \n",
              "&lt;/body&gt;\n",
              "&lt;script&gt;\n",
              "    \n",
              "    \n",
              "            var map_6a0f9f4ff1a54c17c44a2e5f9d9fc9dc = L.map(\n",
              "                &quot;map_6a0f9f4ff1a54c17c44a2e5f9d9fc9dc&quot;,\n",
              "                {\n",
              "                    center: [12.967276336988354, 77.71288309341398],\n",
              "                    crs: L.CRS.EPSG3857,\n",
              "                    zoom: 1,\n",
              "                    zoomControl: true,\n",
              "                    preferCanvas: false,\n",
              "                }\n",
              "            );\n",
              "\n",
              "            \n",
              "\n",
              "        \n",
              "    \n",
              "            var tile_layer_42e82cf6196dabba36849450efb054ff = L.tileLayer(\n",
              "                &quot;https://cartodb-basemaps-{s}.global.ssl.fastly.net/light_all/{z}/{x}/{y}.png&quot;,\n",
              "                {&quot;attribution&quot;: &quot;\\u0026copy; \\u003ca href=\\&quot;http://www.openstreetmap.org/copyright\\&quot;\\u003eOpenStreetMap\\u003c/a\\u003e contributors \\u0026copy; \\u003ca href=\\&quot;http://cartodb.com/attributions\\&quot;\\u003eCartoDB\\u003c/a\\u003e, CartoDB \\u003ca href =\\&quot;http://cartodb.com/attributions\\&quot;\\u003eattributions\\u003c/a\\u003e&quot;, &quot;detectRetina&quot;: false, &quot;maxNativeZoom&quot;: 18, &quot;maxZoom&quot;: 18, &quot;minZoom&quot;: 0, &quot;noWrap&quot;: false, &quot;opacity&quot;: 1, &quot;subdomains&quot;: &quot;abc&quot;, &quot;tms&quot;: false}\n",
              "            ).addTo(map_6a0f9f4ff1a54c17c44a2e5f9d9fc9dc);\n",
              "        \n",
              "    \n",
              "            var poly_line_48987a1c3b51c6556150ff44e1ea113d = L.polyline(\n",
              "                [[12.967455, 77.7139021], [12.9674562, 77.7137607], [12.9674249, 77.7136239], [12.9673974, 77.7134952], [12.9673687, 77.7133369], [12.9673223, 77.7132035], [12.9672922, 77.7130372], [12.9672739, 77.7128427], [12.9672203, 77.7125759], [12.9670949, 77.711961], [12.9671086, 77.7118638]],\n",
              "                {&quot;bubblingMouseEvents&quot;: true, &quot;color&quot;: &quot;#3388ff&quot;, &quot;dashArray&quot;: null, &quot;dashOffset&quot;: null, &quot;fill&quot;: false, &quot;fillColor&quot;: &quot;#3388ff&quot;, &quot;fillOpacity&quot;: 0.2, &quot;fillRule&quot;: &quot;evenodd&quot;, &quot;lineCap&quot;: &quot;round&quot;, &quot;lineJoin&quot;: &quot;round&quot;, &quot;noClip&quot;: false, &quot;opacity&quot;: 1.0, &quot;smoothFactor&quot;: 1.0, &quot;stroke&quot;: true, &quot;weight&quot;: 3}\n",
              "            ).addTo(map_6a0f9f4ff1a54c17c44a2e5f9d9fc9dc);\n",
              "        \n",
              "    \n",
              "            map_6a0f9f4ff1a54c17c44a2e5f9d9fc9dc.fitBounds(\n",
              "                [[12.9670949, 77.7118638], [12.9674562, 77.7139021]],\n",
              "                {}\n",
              "            );\n",
              "        \n",
              "&lt;/script&gt;\n",
              "&lt;/html&gt;\" style=\"position:absolute;width:100%;height:100%;left:0;top:0;border:none !important;\" allowfullscreen webkitallowfullscreen mozallowfullscreen></iframe></div></div>"
            ]
          },
          "metadata": {},
          "execution_count": 60
        }
      ]
    },
    {
      "cell_type": "code",
      "source": [
        "[x for x in shortest_route] #printing of lat/long of the nodes in shortest_route"
      ],
      "metadata": {
        "colab": {
          "base_uri": "https://localhost:8080/"
        },
        "id": "Ke_WEItYLhUi",
        "outputId": "486eaad0-e390-4392-c576-d84a2d479bb9"
      },
      "execution_count": 61,
      "outputs": [
        {
          "output_type": "execute_result",
          "data": {
            "text/plain": [
              "['cmrit_entrance', 'volley_ball_court']"
            ]
          },
          "metadata": {},
          "execution_count": 61
        }
      ]
    },
    {
      "cell_type": "code",
      "source": [
        "G.edges(data=True)"
      ],
      "metadata": {
        "colab": {
          "base_uri": "https://localhost:8080/"
        },
        "id": "rDJypBOO1dYq",
        "outputId": "b0fd16cb-23f7-4035-ccf1-3ba810e423b6"
      },
      "execution_count": 36,
      "outputs": [
        {
          "output_type": "execute_result",
          "data": {
            "text/plain": [
              "OutMultiEdgeDataView([(3798918923, 4159727902, {'osmid': 414835003, 'highway': 'pedestrian', 'oneway': False, 'reversed': True, 'length': 224.51000000000002, 'geometry': <shapely.geometry.linestring.LineString object at 0x7ff07c32cc40>}), (3798918923, 4159727907, {'osmid': 661967560, 'highway': 'residential', 'oneway': False, 'reversed': True, 'length': 225.35899999999998, 'geometry': <shapely.geometry.linestring.LineString object at 0x7ff07c32cd60>}), (4159727902, 4159727907, {'osmid': [414835002, 640540678], 'highway': 'pedestrian', 'oneway': False, 'reversed': False, 'length': 339.8109999999999, 'geometry': <shapely.geometry.linestring.LineString object at 0x7ff07ca5ea00>}), (4159727902, 4159727907, {'osmid': 414835002, 'highway': 'pedestrian', 'oneway': False, 'reversed': True, 'length': 36.241, 'geometry': <shapely.geometry.linestring.LineString object at 0x7ff07ca5e640>}), (4159727902, 3798918923, {'osmid': 414835003, 'highway': 'pedestrian', 'oneway': False, 'reversed': False, 'length': 224.51000000000002, 'geometry': <shapely.geometry.linestring.LineString object at 0x7ff07ca5e0a0>}), (4159727902, 'basic_science', {'length': 0}), (4159727907, 4159727902, {'osmid': 414835002, 'highway': 'pedestrian', 'oneway': False, 'reversed': False, 'length': 36.241, 'geometry': <shapely.geometry.linestring.LineString object at 0x7ff07ca5e2e0>}), (4159727907, 4159727902, {'osmid': [414835002, 640540678], 'highway': 'pedestrian', 'oneway': False, 'reversed': True, 'length': 339.811, 'geometry': <shapely.geometry.linestring.LineString object at 0x7ff07ca5edf0>}), (4159727907, 3798918923, {'osmid': 661967560, 'highway': 'residential', 'oneway': False, 'reversed': False, 'length': 225.359, 'geometry': <shapely.geometry.linestring.LineString object at 0x7ff07ca5ed00>})])"
            ]
          },
          "metadata": {},
          "execution_count": 36
        }
      ]
    },
    {
      "cell_type": "code",
      "source": [],
      "metadata": {
        "id": "3mdyl9dc3KMi"
      },
      "execution_count": null,
      "outputs": []
    }
  ]
}