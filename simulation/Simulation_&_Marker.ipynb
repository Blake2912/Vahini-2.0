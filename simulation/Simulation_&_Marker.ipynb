{
  "nbformat": 4,
  "nbformat_minor": 0,
  "metadata": {
    "colab": {
      "provenance": [],
      "authorship_tag": "ABX9TyMBpWv+SigjT6Matlp50ipd",
      "include_colab_link": true
    },
    "kernelspec": {
      "name": "python3",
      "display_name": "Python 3"
    },
    "language_info": {
      "name": "python"
    },
    "widgets": {
      "application/vnd.jupyter.widget-state+json": {
        "b89f52ef2862415eb6bf0a359e4845b9": {
          "model_module": "jupyter-leaflet",
          "model_name": "LeafletMapModel",
          "model_module_version": "^0.17",
          "state": {
            "_dom_classes": [],
            "_model_module": "jupyter-leaflet",
            "_model_module_version": "^0.17",
            "_model_name": "LeafletMapModel",
            "_view_count": null,
            "_view_module": "jupyter-leaflet",
            "_view_module_version": "^0.17",
            "_view_name": "LeafletMapView",
            "bottom": 31116739,
            "bounce_at_zoom_limits": true,
            "box_zoom": true,
            "center": [
              12.96682,
              77.71231
            ],
            "close_popup_on_click": true,
            "controls": [
              "IPY_MODEL_bc1b7b361e664745a08f5533c8a5d617",
              "IPY_MODEL_6a5b758e4ff94869b115e006ef567c4b"
            ],
            "crs": {
              "name": "EPSG3857",
              "custom": false
            },
            "default_style": "IPY_MODEL_3822439c8a67436b95721829ceb875d4",
            "double_click_zoom": true,
            "dragging": true,
            "dragging_style": "IPY_MODEL_915738ef5e1542818db62abbaf9b5d2d",
            "east": 77.7140235900879,
            "fullscreen": false,
            "inertia": true,
            "inertia_deceleration": 3000,
            "inertia_max_speed": 1500,
            "interpolation": "bilinear",
            "keyboard": true,
            "keyboard_pan_offset": 80,
            "keyboard_zoom_offset": 1,
            "layers": [
              "IPY_MODEL_6f13bd4ae37b4e4a8403ac2c4e7526ff",
              "IPY_MODEL_c1c7ffba33f049029623a167af4e2be0",
              "IPY_MODEL_a6de81e8267a41c2ac059629e5d1970f",
              "IPY_MODEL_23faf049b30f426b9da7846b52b2d81f",
              "IPY_MODEL_b54a86e6c80546b1b8b0da609ab5ba2a",
              "IPY_MODEL_2477e039ed964b29a5b58c3a5dd5c01f",
              "IPY_MODEL_36e81457207948bf9b744f6c78643332",
              "IPY_MODEL_83a6997ef3404be29d2e2426902ce270",
              "IPY_MODEL_41eb014a66c241eaa22b1dd59a7c22f1",
              "IPY_MODEL_2041cd6b78c64deb9f8d23008225816a",
              "IPY_MODEL_95e97d58cccd4f1889c635d7a4c5e08d",
              "IPY_MODEL_2cd419a1507b41ada2f5af150bdd0559",
              "IPY_MODEL_3726ecf523924b71b35eb317326296ee",
              "IPY_MODEL_43e99fd7e6ce4902ab7083ef29223ee1",
              "IPY_MODEL_18195a9007f64fba8b8ae04a0fb30a79",
              "IPY_MODEL_a88dc217c8eb46fabb8e09051f8ec396",
              "IPY_MODEL_e42759c2265d4a1cbebe381655e11146",
              "IPY_MODEL_1f6b0b113fa64ffa96c055288d5a9bf7",
              "IPY_MODEL_1952d1e1b3d54d858ce55af1813ef927",
              "IPY_MODEL_2c398faa75fb4da99a5f978c06f46051",
              "IPY_MODEL_9e3c2bb59a114824afb3f61af3927541",
              "IPY_MODEL_7442dbe7f6514a4ab70c2cf7a3be3348"
            ],
            "layout": "IPY_MODEL_deeb3ebdf6364041ad4e67821ffdad8d",
            "left": 48040738,
            "max_zoom": null,
            "min_zoom": null,
            "modisdate": "2023-04-10",
            "north": 12.968913417549958,
            "options": [
              "bounce_at_zoom_limits",
              "box_zoom",
              "center",
              "close_popup_on_click",
              "double_click_zoom",
              "dragging",
              "fullscreen",
              "inertia",
              "inertia_deceleration",
              "inertia_max_speed",
              "interpolation",
              "keyboard",
              "keyboard_pan_offset",
              "keyboard_zoom_offset",
              "max_zoom",
              "min_zoom",
              "prefer_canvas",
              "scroll_wheel_zoom",
              "tap",
              "tap_tolerance",
              "touch_zoom",
              "world_copy_jump",
              "zoom",
              "zoom_animation_threshold",
              "zoom_delta",
              "zoom_snap"
            ],
            "panes": {},
            "prefer_canvas": false,
            "right": 48041376,
            "scroll_wheel_zoom": false,
            "south": 12.96473131656258,
            "style": "IPY_MODEL_fa676d89b55d44c0ac3b49b66cbf5977",
            "tap": true,
            "tap_tolerance": 15,
            "top": 31115939,
            "touch_zoom": true,
            "west": 77.71060109138489,
            "window_url": "https://2fovuz6gw18-496ff2e9c6d22116-0-colab.googleusercontent.com/outputframe.html?vrz=colab-20230410-060142-RC00_523086713",
            "world_copy_jump": false,
            "zoom": 18,
            "zoom_animation_threshold": 4,
            "zoom_delta": 1,
            "zoom_snap": 1
          }
        },
        "bc1b7b361e664745a08f5533c8a5d617": {
          "model_module": "jupyter-leaflet",
          "model_name": "LeafletZoomControlModel",
          "model_module_version": "^0.17",
          "state": {
            "_model_module": "jupyter-leaflet",
            "_model_module_version": "^0.17",
            "_model_name": "LeafletZoomControlModel",
            "_view_count": null,
            "_view_module": "jupyter-leaflet",
            "_view_module_version": "^0.17",
            "_view_name": "LeafletZoomControlView",
            "options": [
              "position",
              "zoom_in_text",
              "zoom_in_title",
              "zoom_out_text",
              "zoom_out_title"
            ],
            "position": "topleft",
            "zoom_in_text": "+",
            "zoom_in_title": "Zoom in",
            "zoom_out_text": "-",
            "zoom_out_title": "Zoom out"
          }
        },
        "6a5b758e4ff94869b115e006ef567c4b": {
          "model_module": "jupyter-leaflet",
          "model_name": "LeafletAttributionControlModel",
          "model_module_version": "^0.17",
          "state": {
            "_model_module": "jupyter-leaflet",
            "_model_module_version": "^0.17",
            "_model_name": "LeafletAttributionControlModel",
            "_view_count": null,
            "_view_module": "jupyter-leaflet",
            "_view_module_version": "^0.17",
            "_view_name": "LeafletAttributionControlView",
            "options": [
              "position",
              "prefix"
            ],
            "position": "bottomright",
            "prefix": "ipyleaflet"
          }
        },
        "3822439c8a67436b95721829ceb875d4": {
          "model_module": "jupyter-leaflet",
          "model_name": "LeafletMapStyleModel",
          "model_module_version": "^0.17",
          "state": {
            "_model_module": "jupyter-leaflet",
            "_model_module_version": "^0.17",
            "_model_name": "LeafletMapStyleModel",
            "_view_count": null,
            "_view_module": "@jupyter-widgets/base",
            "_view_module_version": "1.2.0",
            "_view_name": "StyleView",
            "cursor": "grab"
          }
        },
        "915738ef5e1542818db62abbaf9b5d2d": {
          "model_module": "jupyter-leaflet",
          "model_name": "LeafletMapStyleModel",
          "model_module_version": "^0.17",
          "state": {
            "_model_module": "jupyter-leaflet",
            "_model_module_version": "^0.17",
            "_model_name": "LeafletMapStyleModel",
            "_view_count": null,
            "_view_module": "@jupyter-widgets/base",
            "_view_module_version": "1.2.0",
            "_view_name": "StyleView",
            "cursor": "move"
          }
        },
        "6f13bd4ae37b4e4a8403ac2c4e7526ff": {
          "model_module": "jupyter-leaflet",
          "model_name": "LeafletTileLayerModel",
          "model_module_version": "^0.17",
          "state": {
            "_model_module": "jupyter-leaflet",
            "_model_module_version": "^0.17",
            "_model_name": "LeafletTileLayerModel",
            "_view_count": null,
            "_view_module": "jupyter-leaflet",
            "_view_module_version": "^0.17",
            "_view_name": "LeafletTileLayerView",
            "attribution": "&copy; <a href=\"https://www.openstreetmap.org/copyright\">OpenStreetMap</a> contributors &copy; <a href=\"https://carto.com/attributions\">CARTO</a>",
            "base": true,
            "bottom": true,
            "bounds": null,
            "detect_retina": false,
            "loading": false,
            "max_native_zoom": null,
            "max_zoom": 20,
            "min_native_zoom": null,
            "min_zoom": 1,
            "name": "CartoDB.Positron",
            "no_wrap": false,
            "opacity": 1,
            "options": [
              "attribution",
              "bounds",
              "detect_retina",
              "max_native_zoom",
              "max_zoom",
              "min_native_zoom",
              "min_zoom",
              "no_wrap",
              "tile_size",
              "tms",
              "zoom_offset"
            ],
            "pane": "",
            "popup": null,
            "popup_max_height": null,
            "popup_max_width": 300,
            "popup_min_width": 50,
            "show_loading": false,
            "subitems": [],
            "tile_size": 256,
            "tms": false,
            "url": "https://a.basemaps.cartocdn.com/light_all/{z}/{x}/{y}.png",
            "visible": true,
            "zoom_offset": 0
          }
        },
        "c1c7ffba33f049029623a167af4e2be0": {
          "model_module": "jupyter-leaflet",
          "model_name": "LeafletCircleModel",
          "model_module_version": "^0.17",
          "state": {
            "_model_module": "jupyter-leaflet",
            "_model_module_version": "^0.17",
            "_model_name": "LeafletCircleModel",
            "_view_count": null,
            "_view_module": "jupyter-leaflet",
            "_view_module_version": "^0.17",
            "_view_name": "LeafletCircleView",
            "base": false,
            "bottom": false,
            "color": "tomato",
            "dash_array": null,
            "fill": true,
            "fill_color": null,
            "fill_opacity": 0.2,
            "line_cap": "round",
            "line_join": "round",
            "location": [
              12.9662,
              77.71203
            ],
            "name": "",
            "opacity": 1,
            "options": [
              "color",
              "dash_array",
              "fill",
              "fill_color",
              "fill_opacity",
              "line_cap",
              "line_join",
              "opacity",
              "pointer_events",
              "radius",
              "stroke",
              "weight"
            ],
            "pane": "",
            "pointer_events": "",
            "popup": null,
            "popup_max_height": null,
            "popup_max_width": 300,
            "popup_min_width": 50,
            "radius": 2,
            "stroke": true,
            "subitems": [],
            "weight": 5
          }
        },
        "a6de81e8267a41c2ac059629e5d1970f": {
          "model_module": "jupyter-leaflet",
          "model_name": "LeafletCircleModel",
          "model_module_version": "^0.17",
          "state": {
            "_model_module": "jupyter-leaflet",
            "_model_module_version": "^0.17",
            "_model_name": "LeafletCircleModel",
            "_view_count": null,
            "_view_module": "jupyter-leaflet",
            "_view_module_version": "^0.17",
            "_view_name": "LeafletCircleView",
            "base": false,
            "bottom": false,
            "color": "tomato",
            "dash_array": null,
            "fill": true,
            "fill_color": null,
            "fill_opacity": 0.2,
            "line_cap": "round",
            "line_join": "round",
            "location": [
              12.96612,
              77.71179
            ],
            "name": "",
            "opacity": 1,
            "options": [
              "color",
              "dash_array",
              "fill",
              "fill_color",
              "fill_opacity",
              "line_cap",
              "line_join",
              "opacity",
              "pointer_events",
              "radius",
              "stroke",
              "weight"
            ],
            "pane": "",
            "pointer_events": "",
            "popup": null,
            "popup_max_height": null,
            "popup_max_width": 300,
            "popup_min_width": 50,
            "radius": 2,
            "stroke": true,
            "subitems": [],
            "weight": 5
          }
        },
        "23faf049b30f426b9da7846b52b2d81f": {
          "model_module": "jupyter-leaflet",
          "model_name": "LeafletCircleModel",
          "model_module_version": "^0.17",
          "state": {
            "_model_module": "jupyter-leaflet",
            "_model_module_version": "^0.17",
            "_model_name": "LeafletCircleModel",
            "_view_count": null,
            "_view_module": "jupyter-leaflet",
            "_view_module_version": "^0.17",
            "_view_name": "LeafletCircleView",
            "base": false,
            "bottom": false,
            "color": "tomato",
            "dash_array": null,
            "fill": true,
            "fill_color": null,
            "fill_opacity": 0.2,
            "line_cap": "round",
            "line_join": "round",
            "location": [
              12.96603,
              77.71156
            ],
            "name": "",
            "opacity": 1,
            "options": [
              "color",
              "dash_array",
              "fill",
              "fill_color",
              "fill_opacity",
              "line_cap",
              "line_join",
              "opacity",
              "pointer_events",
              "radius",
              "stroke",
              "weight"
            ],
            "pane": "",
            "pointer_events": "",
            "popup": null,
            "popup_max_height": null,
            "popup_max_width": 300,
            "popup_min_width": 50,
            "radius": 2,
            "stroke": true,
            "subitems": [],
            "weight": 5
          }
        },
        "b54a86e6c80546b1b8b0da609ab5ba2a": {
          "model_module": "jupyter-leaflet",
          "model_name": "LeafletCircleModel",
          "model_module_version": "^0.17",
          "state": {
            "_model_module": "jupyter-leaflet",
            "_model_module_version": "^0.17",
            "_model_name": "LeafletCircleModel",
            "_view_count": null,
            "_view_module": "jupyter-leaflet",
            "_view_module_version": "^0.17",
            "_view_name": "LeafletCircleView",
            "base": false,
            "bottom": false,
            "color": "tomato",
            "dash_array": null,
            "fill": true,
            "fill_color": null,
            "fill_opacity": 0.2,
            "line_cap": "round",
            "line_join": "round",
            "location": [
              12.96608,
              77.71141
            ],
            "name": "",
            "opacity": 1,
            "options": [
              "color",
              "dash_array",
              "fill",
              "fill_color",
              "fill_opacity",
              "line_cap",
              "line_join",
              "opacity",
              "pointer_events",
              "radius",
              "stroke",
              "weight"
            ],
            "pane": "",
            "pointer_events": "",
            "popup": null,
            "popup_max_height": null,
            "popup_max_width": 300,
            "popup_min_width": 50,
            "radius": 2,
            "stroke": true,
            "subitems": [],
            "weight": 5
          }
        },
        "2477e039ed964b29a5b58c3a5dd5c01f": {
          "model_module": "jupyter-leaflet",
          "model_name": "LeafletCircleModel",
          "model_module_version": "^0.17",
          "state": {
            "_model_module": "jupyter-leaflet",
            "_model_module_version": "^0.17",
            "_model_name": "LeafletCircleModel",
            "_view_count": null,
            "_view_module": "jupyter-leaflet",
            "_view_module_version": "^0.17",
            "_view_name": "LeafletCircleView",
            "base": false,
            "bottom": false,
            "color": "tomato",
            "dash_array": null,
            "fill": true,
            "fill_color": null,
            "fill_opacity": 0.2,
            "line_cap": "round",
            "line_join": "round",
            "location": [
              12.96643,
              77.71129
            ],
            "name": "",
            "opacity": 1,
            "options": [
              "color",
              "dash_array",
              "fill",
              "fill_color",
              "fill_opacity",
              "line_cap",
              "line_join",
              "opacity",
              "pointer_events",
              "radius",
              "stroke",
              "weight"
            ],
            "pane": "",
            "pointer_events": "",
            "popup": null,
            "popup_max_height": null,
            "popup_max_width": 300,
            "popup_min_width": 50,
            "radius": 2,
            "stroke": true,
            "subitems": [],
            "weight": 5
          }
        },
        "36e81457207948bf9b744f6c78643332": {
          "model_module": "jupyter-leaflet",
          "model_name": "LeafletCircleModel",
          "model_module_version": "^0.17",
          "state": {
            "_model_module": "jupyter-leaflet",
            "_model_module_version": "^0.17",
            "_model_name": "LeafletCircleModel",
            "_view_count": null,
            "_view_module": "jupyter-leaflet",
            "_view_module_version": "^0.17",
            "_view_name": "LeafletCircleView",
            "base": false,
            "bottom": false,
            "color": "tomato",
            "dash_array": null,
            "fill": true,
            "fill_color": null,
            "fill_opacity": 0.2,
            "line_cap": "round",
            "line_join": "round",
            "location": [
              12.96682,
              77.71115
            ],
            "name": "",
            "opacity": 1,
            "options": [
              "color",
              "dash_array",
              "fill",
              "fill_color",
              "fill_opacity",
              "line_cap",
              "line_join",
              "opacity",
              "pointer_events",
              "radius",
              "stroke",
              "weight"
            ],
            "pane": "",
            "pointer_events": "",
            "popup": null,
            "popup_max_height": null,
            "popup_max_width": 300,
            "popup_min_width": 50,
            "radius": 2,
            "stroke": true,
            "subitems": [],
            "weight": 5
          }
        },
        "83a6997ef3404be29d2e2426902ce270": {
          "model_module": "jupyter-leaflet",
          "model_name": "LeafletCircleModel",
          "model_module_version": "^0.17",
          "state": {
            "_model_module": "jupyter-leaflet",
            "_model_module_version": "^0.17",
            "_model_name": "LeafletCircleModel",
            "_view_count": null,
            "_view_module": "jupyter-leaflet",
            "_view_module_version": "^0.17",
            "_view_name": "LeafletCircleView",
            "base": false,
            "bottom": false,
            "color": "tomato",
            "dash_array": null,
            "fill": true,
            "fill_color": null,
            "fill_opacity": 0.2,
            "line_cap": "round",
            "line_join": "round",
            "location": [
              12.96699,
              77.71124
            ],
            "name": "",
            "opacity": 1,
            "options": [
              "color",
              "dash_array",
              "fill",
              "fill_color",
              "fill_opacity",
              "line_cap",
              "line_join",
              "opacity",
              "pointer_events",
              "radius",
              "stroke",
              "weight"
            ],
            "pane": "",
            "pointer_events": "",
            "popup": null,
            "popup_max_height": null,
            "popup_max_width": 300,
            "popup_min_width": 50,
            "radius": 2,
            "stroke": true,
            "subitems": [],
            "weight": 5
          }
        },
        "41eb014a66c241eaa22b1dd59a7c22f1": {
          "model_module": "jupyter-leaflet",
          "model_name": "LeafletCircleModel",
          "model_module_version": "^0.17",
          "state": {
            "_model_module": "jupyter-leaflet",
            "_model_module_version": "^0.17",
            "_model_name": "LeafletCircleModel",
            "_view_count": null,
            "_view_module": "jupyter-leaflet",
            "_view_module_version": "^0.17",
            "_view_name": "LeafletCircleView",
            "base": false,
            "bottom": false,
            "color": "tomato",
            "dash_array": null,
            "fill": true,
            "fill_color": null,
            "fill_opacity": 0.2,
            "line_cap": "round",
            "line_join": "round",
            "location": [
              12.96704,
              77.71144
            ],
            "name": "",
            "opacity": 1,
            "options": [
              "color",
              "dash_array",
              "fill",
              "fill_color",
              "fill_opacity",
              "line_cap",
              "line_join",
              "opacity",
              "pointer_events",
              "radius",
              "stroke",
              "weight"
            ],
            "pane": "",
            "pointer_events": "",
            "popup": null,
            "popup_max_height": null,
            "popup_max_width": 300,
            "popup_min_width": 50,
            "radius": 2,
            "stroke": true,
            "subitems": [],
            "weight": 5
          }
        },
        "2041cd6b78c64deb9f8d23008225816a": {
          "model_module": "jupyter-leaflet",
          "model_name": "LeafletCircleModel",
          "model_module_version": "^0.17",
          "state": {
            "_model_module": "jupyter-leaflet",
            "_model_module_version": "^0.17",
            "_model_name": "LeafletCircleModel",
            "_view_count": null,
            "_view_module": "jupyter-leaflet",
            "_view_module_version": "^0.17",
            "_view_name": "LeafletCircleView",
            "base": false,
            "bottom": false,
            "color": "tomato",
            "dash_array": null,
            "fill": true,
            "fill_color": null,
            "fill_opacity": 0.2,
            "line_cap": "round",
            "line_join": "round",
            "location": [
              12.96709,
              77.71169
            ],
            "name": "",
            "opacity": 1,
            "options": [
              "color",
              "dash_array",
              "fill",
              "fill_color",
              "fill_opacity",
              "line_cap",
              "line_join",
              "opacity",
              "pointer_events",
              "radius",
              "stroke",
              "weight"
            ],
            "pane": "",
            "pointer_events": "",
            "popup": null,
            "popup_max_height": null,
            "popup_max_width": 300,
            "popup_min_width": 50,
            "radius": 2,
            "stroke": true,
            "subitems": [],
            "weight": 5
          }
        },
        "95e97d58cccd4f1889c635d7a4c5e08d": {
          "model_module": "jupyter-leaflet",
          "model_name": "LeafletCircleModel",
          "model_module_version": "^0.17",
          "state": {
            "_model_module": "jupyter-leaflet",
            "_model_module_version": "^0.17",
            "_model_name": "LeafletCircleModel",
            "_view_count": null,
            "_view_module": "jupyter-leaflet",
            "_view_module_version": "^0.17",
            "_view_name": "LeafletCircleView",
            "base": false,
            "bottom": false,
            "color": "tomato",
            "dash_array": null,
            "fill": true,
            "fill_color": null,
            "fill_opacity": 0.2,
            "line_cap": "round",
            "line_join": "round",
            "location": [
              12.967,
              77.7119
            ],
            "name": "",
            "opacity": 1,
            "options": [
              "color",
              "dash_array",
              "fill",
              "fill_color",
              "fill_opacity",
              "line_cap",
              "line_join",
              "opacity",
              "pointer_events",
              "radius",
              "stroke",
              "weight"
            ],
            "pane": "",
            "pointer_events": "",
            "popup": null,
            "popup_max_height": null,
            "popup_max_width": 300,
            "popup_min_width": 50,
            "radius": 2,
            "stroke": true,
            "subitems": [],
            "weight": 5
          }
        },
        "2cd419a1507b41ada2f5af150bdd0559": {
          "model_module": "jupyter-leaflet",
          "model_name": "LeafletCircleModel",
          "model_module_version": "^0.17",
          "state": {
            "_model_module": "jupyter-leaflet",
            "_model_module_version": "^0.17",
            "_model_name": "LeafletCircleModel",
            "_view_count": null,
            "_view_module": "jupyter-leaflet",
            "_view_module_version": "^0.17",
            "_view_name": "LeafletCircleView",
            "base": false,
            "bottom": false,
            "color": "tomato",
            "dash_array": null,
            "fill": true,
            "fill_color": null,
            "fill_opacity": 0.2,
            "line_cap": "round",
            "line_join": "round",
            "location": [
              12.96692,
              77.71192
            ],
            "name": "",
            "opacity": 1,
            "options": [
              "color",
              "dash_array",
              "fill",
              "fill_color",
              "fill_opacity",
              "line_cap",
              "line_join",
              "opacity",
              "pointer_events",
              "radius",
              "stroke",
              "weight"
            ],
            "pane": "",
            "pointer_events": "",
            "popup": null,
            "popup_max_height": null,
            "popup_max_width": 300,
            "popup_min_width": 50,
            "radius": 2,
            "stroke": true,
            "subitems": [],
            "weight": 5
          }
        },
        "3726ecf523924b71b35eb317326296ee": {
          "model_module": "jupyter-leaflet",
          "model_name": "LeafletCircleModel",
          "model_module_version": "^0.17",
          "state": {
            "_model_module": "jupyter-leaflet",
            "_model_module_version": "^0.17",
            "_model_name": "LeafletCircleModel",
            "_view_count": null,
            "_view_module": "jupyter-leaflet",
            "_view_module_version": "^0.17",
            "_view_name": "LeafletCircleView",
            "base": false,
            "bottom": false,
            "color": "tomato",
            "dash_array": null,
            "fill": true,
            "fill_color": null,
            "fill_opacity": 0.2,
            "line_cap": "round",
            "line_join": "round",
            "location": [
              12.96659,
              77.71202
            ],
            "name": "",
            "opacity": 1,
            "options": [
              "color",
              "dash_array",
              "fill",
              "fill_color",
              "fill_opacity",
              "line_cap",
              "line_join",
              "opacity",
              "pointer_events",
              "radius",
              "stroke",
              "weight"
            ],
            "pane": "",
            "pointer_events": "",
            "popup": null,
            "popup_max_height": null,
            "popup_max_width": 300,
            "popup_min_width": 50,
            "radius": 2,
            "stroke": true,
            "subitems": [],
            "weight": 5
          }
        },
        "43e99fd7e6ce4902ab7083ef29223ee1": {
          "model_module": "jupyter-leaflet",
          "model_name": "LeafletCircleModel",
          "model_module_version": "^0.17",
          "state": {
            "_model_module": "jupyter-leaflet",
            "_model_module_version": "^0.17",
            "_model_name": "LeafletCircleModel",
            "_view_count": null,
            "_view_module": "jupyter-leaflet",
            "_view_module_version": "^0.17",
            "_view_name": "LeafletCircleView",
            "base": false,
            "bottom": false,
            "color": "tomato",
            "dash_array": null,
            "fill": true,
            "fill_color": null,
            "fill_opacity": 0.2,
            "line_cap": "round",
            "line_join": "round",
            "location": [
              12.96645,
              77.71206
            ],
            "name": "",
            "opacity": 1,
            "options": [
              "color",
              "dash_array",
              "fill",
              "fill_color",
              "fill_opacity",
              "line_cap",
              "line_join",
              "opacity",
              "pointer_events",
              "radius",
              "stroke",
              "weight"
            ],
            "pane": "",
            "pointer_events": "",
            "popup": null,
            "popup_max_height": null,
            "popup_max_width": 300,
            "popup_min_width": 50,
            "radius": 2,
            "stroke": true,
            "subitems": [],
            "weight": 5
          }
        },
        "18195a9007f64fba8b8ae04a0fb30a79": {
          "model_module": "jupyter-leaflet",
          "model_name": "LeafletMarkerModel",
          "model_module_version": "^0.17",
          "state": {
            "_model_module": "jupyter-leaflet",
            "_model_module_version": "^0.17",
            "_model_name": "LeafletMarkerModel",
            "_view_count": null,
            "_view_module": "jupyter-leaflet",
            "_view_module_version": "^0.17",
            "_view_name": "LeafletMarkerView",
            "alt": "",
            "base": false,
            "bottom": false,
            "draggable": true,
            "icon": "IPY_MODEL_aee714fe062a43749eec621f538e3cd8",
            "keyboard": true,
            "location": [
              12.96696,
              77.71111
            ],
            "name": "",
            "opacity": 1,
            "options": [
              "alt",
              "draggable",
              "keyboard",
              "rise_offset",
              "rise_on_hover",
              "rotation_angle",
              "rotation_origin",
              "title",
              "z_index_offset"
            ],
            "pane": "",
            "popup": null,
            "popup_max_height": null,
            "popup_max_width": 300,
            "popup_min_width": 50,
            "rise_offset": 250,
            "rise_on_hover": false,
            "rotation_angle": 0,
            "rotation_origin": "",
            "subitems": [],
            "title": "",
            "visible": true,
            "z_index_offset": 0
          }
        },
        "deeb3ebdf6364041ad4e67821ffdad8d": {
          "model_module": "@jupyter-widgets/base",
          "model_name": "LayoutModel",
          "model_module_version": "1.2.0",
          "state": {
            "_model_module": "@jupyter-widgets/base",
            "_model_module_version": "1.2.0",
            "_model_name": "LayoutModel",
            "_view_count": null,
            "_view_module": "@jupyter-widgets/base",
            "_view_module_version": "1.2.0",
            "_view_name": "LayoutView",
            "align_content": null,
            "align_items": null,
            "align_self": null,
            "border": null,
            "bottom": null,
            "display": null,
            "flex": null,
            "flex_flow": null,
            "grid_area": null,
            "grid_auto_columns": null,
            "grid_auto_flow": null,
            "grid_auto_rows": null,
            "grid_column": null,
            "grid_gap": null,
            "grid_row": null,
            "grid_template_areas": null,
            "grid_template_columns": null,
            "grid_template_rows": null,
            "height": "800px",
            "justify_content": null,
            "justify_items": null,
            "left": null,
            "margin": null,
            "max_height": null,
            "max_width": null,
            "min_height": null,
            "min_width": null,
            "object_fit": null,
            "object_position": null,
            "order": null,
            "overflow": null,
            "overflow_x": null,
            "overflow_y": null,
            "padding": null,
            "right": null,
            "top": null,
            "visibility": null,
            "width": null
          }
        },
        "fa676d89b55d44c0ac3b49b66cbf5977": {
          "model_module": "jupyter-leaflet",
          "model_name": "LeafletMapStyleModel",
          "model_module_version": "^0.17",
          "state": {
            "_model_module": "jupyter-leaflet",
            "_model_module_version": "^0.17",
            "_model_name": "LeafletMapStyleModel",
            "_view_count": null,
            "_view_module": "@jupyter-widgets/base",
            "_view_module_version": "1.2.0",
            "_view_name": "StyleView",
            "cursor": "grab"
          }
        },
        "aee714fe062a43749eec621f538e3cd8": {
          "model_module": "jupyter-leaflet",
          "model_name": "LeafletAwesomeIconModel",
          "model_module_version": "^0.17",
          "state": {
            "_model_module": "jupyter-leaflet",
            "_model_module_version": "^0.17",
            "_model_name": "LeafletAwesomeIconModel",
            "_view_count": null,
            "_view_module": "jupyter-leaflet",
            "_view_module_version": "^0.17",
            "_view_name": "LeafletAwesomeIconView",
            "base": false,
            "bottom": false,
            "icon_color": "black",
            "marker_color": "green",
            "name": "fa-truck",
            "options": [],
            "pane": "",
            "popup": null,
            "popup_max_height": null,
            "popup_max_width": 300,
            "popup_min_width": 50,
            "spin": false,
            "subitems": []
          }
        },
        "a88dc217c8eb46fabb8e09051f8ec396": {
          "model_module": "jupyter-leaflet",
          "model_name": "LeafletPolylineModel",
          "model_module_version": "^0.17",
          "state": {
            "_model_module": "jupyter-leaflet",
            "_model_module_version": "^0.17",
            "_model_name": "LeafletPolylineModel",
            "_view_count": null,
            "_view_module": "jupyter-leaflet",
            "_view_module_version": "^0.17",
            "_view_name": "LeafletPolylineView",
            "base": false,
            "bottom": false,
            "color": "tomato",
            "dash_array": null,
            "draggable": false,
            "fill": false,
            "fill_color": null,
            "fill_opacity": 0.2,
            "line_cap": "round",
            "line_join": "round",
            "locations": [
              [
                12.96626,
                77.71211
              ],
              [
                12.9662,
                77.71203
              ],
              [
                12.96612,
                77.71179
              ],
              [
                12.96603,
                77.71156
              ],
              [
                12.96598,
                77.71148
              ],
              [
                12.96608,
                77.71141
              ],
              [
                12.96643,
                77.71129
              ],
              [
                12.96682,
                77.71115
              ],
              [
                12.96696,
                77.71111
              ]
            ],
            "name": "",
            "no_clip": true,
            "opacity": 1,
            "options": [
              "color",
              "dash_array",
              "draggable",
              "fill",
              "fill_color",
              "fill_opacity",
              "line_cap",
              "line_join",
              "no_clip",
              "opacity",
              "pointer_events",
              "smooth_factor",
              "stroke",
              "transform",
              "weight"
            ],
            "pane": "",
            "pointer_events": "",
            "popup": null,
            "popup_max_height": null,
            "popup_max_width": 300,
            "popup_min_width": 50,
            "rotation": true,
            "scaling": true,
            "smooth_factor": 1,
            "stroke": true,
            "subitems": [],
            "transform": false,
            "uniform_scaling": false,
            "weight": 5
          }
        },
        "e42759c2265d4a1cbebe381655e11146": {
          "model_module": "jupyter-leaflet",
          "model_name": "LeafletCircleModel",
          "model_module_version": "^0.17",
          "state": {
            "_model_module": "jupyter-leaflet",
            "_model_module_version": "^0.17",
            "_model_name": "LeafletCircleModel",
            "_view_count": null,
            "_view_module": "jupyter-leaflet",
            "_view_module_version": "^0.17",
            "_view_name": "LeafletCircleView",
            "base": false,
            "bottom": false,
            "color": "#00b521",
            "dash_array": null,
            "fill": true,
            "fill_color": "#7fff96",
            "fill_opacity": 0.85,
            "line_cap": "round",
            "line_join": "round",
            "location": [
              12.9662,
              77.71203
            ],
            "name": "",
            "opacity": 1,
            "options": [
              "color",
              "dash_array",
              "fill",
              "fill_color",
              "fill_opacity",
              "line_cap",
              "line_join",
              "opacity",
              "pointer_events",
              "radius",
              "stroke",
              "weight"
            ],
            "pane": "",
            "pointer_events": "",
            "popup": null,
            "popup_max_height": null,
            "popup_max_width": 300,
            "popup_min_width": 50,
            "radius": 2,
            "stroke": true,
            "subitems": [],
            "weight": 5
          }
        },
        "1f6b0b113fa64ffa96c055288d5a9bf7": {
          "model_module": "jupyter-leaflet",
          "model_name": "LeafletCircleModel",
          "model_module_version": "^0.17",
          "state": {
            "_model_module": "jupyter-leaflet",
            "_model_module_version": "^0.17",
            "_model_name": "LeafletCircleModel",
            "_view_count": null,
            "_view_module": "jupyter-leaflet",
            "_view_module_version": "^0.17",
            "_view_name": "LeafletCircleView",
            "base": false,
            "bottom": false,
            "color": "#00b521",
            "dash_array": null,
            "fill": true,
            "fill_color": "#7fff96",
            "fill_opacity": 0.85,
            "line_cap": "round",
            "line_join": "round",
            "location": [
              12.96612,
              77.71179
            ],
            "name": "",
            "opacity": 1,
            "options": [
              "color",
              "dash_array",
              "fill",
              "fill_color",
              "fill_opacity",
              "line_cap",
              "line_join",
              "opacity",
              "pointer_events",
              "radius",
              "stroke",
              "weight"
            ],
            "pane": "",
            "pointer_events": "",
            "popup": null,
            "popup_max_height": null,
            "popup_max_width": 300,
            "popup_min_width": 50,
            "radius": 2,
            "stroke": true,
            "subitems": [],
            "weight": 5
          }
        },
        "1952d1e1b3d54d858ce55af1813ef927": {
          "model_module": "jupyter-leaflet",
          "model_name": "LeafletCircleModel",
          "model_module_version": "^0.17",
          "state": {
            "_model_module": "jupyter-leaflet",
            "_model_module_version": "^0.17",
            "_model_name": "LeafletCircleModel",
            "_view_count": null,
            "_view_module": "jupyter-leaflet",
            "_view_module_version": "^0.17",
            "_view_name": "LeafletCircleView",
            "base": false,
            "bottom": false,
            "color": "#00b521",
            "dash_array": null,
            "fill": true,
            "fill_color": "#7fff96",
            "fill_opacity": 0.85,
            "line_cap": "round",
            "line_join": "round",
            "location": [
              12.96603,
              77.71156
            ],
            "name": "",
            "opacity": 1,
            "options": [
              "color",
              "dash_array",
              "fill",
              "fill_color",
              "fill_opacity",
              "line_cap",
              "line_join",
              "opacity",
              "pointer_events",
              "radius",
              "stroke",
              "weight"
            ],
            "pane": "",
            "pointer_events": "",
            "popup": null,
            "popup_max_height": null,
            "popup_max_width": 300,
            "popup_min_width": 50,
            "radius": 2,
            "stroke": true,
            "subitems": [],
            "weight": 5
          }
        },
        "2c398faa75fb4da99a5f978c06f46051": {
          "model_module": "jupyter-leaflet",
          "model_name": "LeafletCircleModel",
          "model_module_version": "^0.17",
          "state": {
            "_model_module": "jupyter-leaflet",
            "_model_module_version": "^0.17",
            "_model_name": "LeafletCircleModel",
            "_view_count": null,
            "_view_module": "jupyter-leaflet",
            "_view_module_version": "^0.17",
            "_view_name": "LeafletCircleView",
            "base": false,
            "bottom": false,
            "color": "#00b521",
            "dash_array": null,
            "fill": true,
            "fill_color": "#7fff96",
            "fill_opacity": 0.85,
            "line_cap": "round",
            "line_join": "round",
            "location": [
              12.96608,
              77.71141
            ],
            "name": "",
            "opacity": 1,
            "options": [
              "color",
              "dash_array",
              "fill",
              "fill_color",
              "fill_opacity",
              "line_cap",
              "line_join",
              "opacity",
              "pointer_events",
              "radius",
              "stroke",
              "weight"
            ],
            "pane": "",
            "pointer_events": "",
            "popup": null,
            "popup_max_height": null,
            "popup_max_width": 300,
            "popup_min_width": 50,
            "radius": 2,
            "stroke": true,
            "subitems": [],
            "weight": 5
          }
        },
        "9e3c2bb59a114824afb3f61af3927541": {
          "model_module": "jupyter-leaflet",
          "model_name": "LeafletCircleModel",
          "model_module_version": "^0.17",
          "state": {
            "_model_module": "jupyter-leaflet",
            "_model_module_version": "^0.17",
            "_model_name": "LeafletCircleModel",
            "_view_count": null,
            "_view_module": "jupyter-leaflet",
            "_view_module_version": "^0.17",
            "_view_name": "LeafletCircleView",
            "base": false,
            "bottom": false,
            "color": "#00b521",
            "dash_array": null,
            "fill": true,
            "fill_color": "#7fff96",
            "fill_opacity": 0.85,
            "line_cap": "round",
            "line_join": "round",
            "location": [
              12.96643,
              77.71129
            ],
            "name": "",
            "opacity": 1,
            "options": [
              "color",
              "dash_array",
              "fill",
              "fill_color",
              "fill_opacity",
              "line_cap",
              "line_join",
              "opacity",
              "pointer_events",
              "radius",
              "stroke",
              "weight"
            ],
            "pane": "",
            "pointer_events": "",
            "popup": null,
            "popup_max_height": null,
            "popup_max_width": 300,
            "popup_min_width": 50,
            "radius": 2,
            "stroke": true,
            "subitems": [],
            "weight": 5
          }
        },
        "7442dbe7f6514a4ab70c2cf7a3be3348": {
          "model_module": "jupyter-leaflet",
          "model_name": "LeafletCircleModel",
          "model_module_version": "^0.17",
          "state": {
            "_model_module": "jupyter-leaflet",
            "_model_module_version": "^0.17",
            "_model_name": "LeafletCircleModel",
            "_view_count": null,
            "_view_module": "jupyter-leaflet",
            "_view_module_version": "^0.17",
            "_view_name": "LeafletCircleView",
            "base": false,
            "bottom": false,
            "color": "#00b521",
            "dash_array": null,
            "fill": true,
            "fill_color": "#7fff96",
            "fill_opacity": 0.85,
            "line_cap": "round",
            "line_join": "round",
            "location": [
              12.96682,
              77.71115
            ],
            "name": "",
            "opacity": 1,
            "options": [
              "color",
              "dash_array",
              "fill",
              "fill_color",
              "fill_opacity",
              "line_cap",
              "line_join",
              "opacity",
              "pointer_events",
              "radius",
              "stroke",
              "weight"
            ],
            "pane": "",
            "pointer_events": "",
            "popup": null,
            "popup_max_height": null,
            "popup_max_width": 300,
            "popup_min_width": 50,
            "radius": 2,
            "stroke": true,
            "subitems": [],
            "weight": 5
          }
        }
      }
    }
  },
  "cells": [
    {
      "cell_type": "markdown",
      "metadata": {
        "id": "view-in-github",
        "colab_type": "text"
      },
      "source": [
        "<a href=\"https://colab.research.google.com/github/Blake2912/Vahini-2.0/blob/simulation-main/simulation/Simulation_%26_Marker.ipynb\" target=\"_parent\"><img src=\"https://colab.research.google.com/assets/colab-badge.svg\" alt=\"Open In Colab\"/></a>"
      ]
    },
    {
      "cell_type": "markdown",
      "source": [
        "## Setup"
      ],
      "metadata": {
        "id": "eJzZQD7qjZxt"
      }
    },
    {
      "cell_type": "code",
      "execution_count": 48,
      "metadata": {
        "id": "mhjicHpmfdk8"
      },
      "outputs": [],
      "source": [
        "!pip install osmnx networkx shapely ipyleaflet ipywidgets -q\n",
        "\n",
        "from time import sleep\n",
        "import urllib.request\n",
        "import osmnx as ox\n",
        "import networkx as nx\n",
        "import ipyleaflet as ipl\n",
        "from time import sleep\n",
        "import pickle\n",
        "import shapely\n",
        "from shapely.geometry import Polygon\n",
        "from ipyleaflet import Map, Marker, FullScreenControl, AwesomeIcon\n",
        "from ipywidgets import interact\n",
        "from time import sleep\n",
        "\n",
        "url = \"https://github.com/Blake2912/Vahini-2.0/raw/simulation-main/output/Trees_Final.pkl\"\n",
        "urllib.request.urlretrieve(url, \"Trees_Final.pkl\")\n",
        "filename = \"/content/Trees_Final.pkl\"\n",
        "\n",
        "with open(filename, \"rb\") as f:\n",
        "    G = pickle.load(f)"
      ]
    },
    {
      "cell_type": "code",
      "source": [
        "# Plotting the Graph\n",
        "fig, ax = ox.plot_graph(G)"
      ],
      "metadata": {
        "colab": {
          "base_uri": "https://localhost:8080/",
          "height": 653
        },
        "id": "kQJHUeMMg6uD",
        "outputId": "b16e20fa-f8c1-4b6d-aa6d-ed43611c4a86"
      },
      "execution_count": 49,
      "outputs": [
        {
          "output_type": "display_data",
          "data": {
            "text/plain": [
              "<Figure size 800x800 with 1 Axes>"
            ],
            "image/png": "[encoded data removed]"
          },
          "metadata": {}
        }
      ]
    },
    {
      "cell_type": "markdown",
      "source": [
        "## Map Setup"
      ],
      "metadata": {
        "id": "cgBDPoLZnXhq"
      }
    },
    {
      "cell_type": "code",
      "source": [
        "# Plotting the interactive map with the center at (12.96682, 77.71231) => This center is for the map plotting not related with the graph\n",
        "center = (12.96682, 77.71231)\n",
        "m1 = ipl.Map(center=center, basemap=ipl.basemaps.CartoDB.Positron, zoom=18)\n",
        "m1.layout.height = '800px'"
      ],
      "metadata": {
        "id": "X-ikq03CmDGG"
      },
      "execution_count": 50,
      "outputs": []
    },
    {
      "cell_type": "markdown",
      "source": [
        "### Trees"
      ],
      "metadata": {
        "id": "9NBbN75VncCh"
      }
    },
    {
      "cell_type": "code",
      "source": [
        "import re\n",
        "# Setting up trees on the path\n",
        "pattern = r't\\-[0-9]+'\n",
        "for point_name in list(G.nodes()):\n",
        "    if re.match(pattern, point_name):\n",
        "        # Get the latitude and longitude of the node\n",
        "        latitude = G.nodes[point_name]['y']\n",
        "        longitude = G.nodes[point_name]['x']\n",
        "        # Draw circle for the point\n",
        "        circle = ipl.Circle(\n",
        "            location=(latitude, longitude),\n",
        "            radius=2,\n",
        "            color=\"tomato\",\n",
        "        )\n",
        "        m1.add_layer(circle)"
      ],
      "metadata": {
        "id": "SLREYzOgkwCl"
      },
      "execution_count": 51,
      "outputs": []
    },
    {
      "cell_type": "code",
      "source": [
        "m1"
      ],
      "metadata": {
        "colab": {
          "base_uri": "https://localhost:8080/",
          "height": 821,
          "referenced_widgets": [
            "b89f52ef2862415eb6bf0a359e4845b9",
            "bc1b7b361e664745a08f5533c8a5d617",
            "6a5b758e4ff94869b115e006ef567c4b",
            "3822439c8a67436b95721829ceb875d4",
            "915738ef5e1542818db62abbaf9b5d2d",
            "6f13bd4ae37b4e4a8403ac2c4e7526ff",
            "c1c7ffba33f049029623a167af4e2be0",
            "a6de81e8267a41c2ac059629e5d1970f",
            "23faf049b30f426b9da7846b52b2d81f",
            "b54a86e6c80546b1b8b0da609ab5ba2a",
            "2477e039ed964b29a5b58c3a5dd5c01f",
            "36e81457207948bf9b744f6c78643332",
            "83a6997ef3404be29d2e2426902ce270",
            "41eb014a66c241eaa22b1dd59a7c22f1",
            "2041cd6b78c64deb9f8d23008225816a",
            "95e97d58cccd4f1889c635d7a4c5e08d",
            "2cd419a1507b41ada2f5af150bdd0559",
            "3726ecf523924b71b35eb317326296ee",
            "43e99fd7e6ce4902ab7083ef29223ee1",
            "18195a9007f64fba8b8ae04a0fb30a79",
            "deeb3ebdf6364041ad4e67821ffdad8d",
            "fa676d89b55d44c0ac3b49b66cbf5977",
            "aee714fe062a43749eec621f538e3cd8",
            "a88dc217c8eb46fabb8e09051f8ec396",
            "e42759c2265d4a1cbebe381655e11146",
            "1f6b0b113fa64ffa96c055288d5a9bf7",
            "1952d1e1b3d54d858ce55af1813ef927",
            "2c398faa75fb4da99a5f978c06f46051",
            "9e3c2bb59a114824afb3f61af3927541",
            "7442dbe7f6514a4ab70c2cf7a3be3348"
          ]
        },
        "id": "gxuDSKDPmx_l",
        "outputId": "b03b2644-39dc-491f-e8ad-2a01d68f52ff"
      },
      "execution_count": 52,
      "outputs": [
        {
          "output_type": "display_data",
          "data": {
            "text/plain": [
              "Map(center=[12.96682, 77.71231], controls=(ZoomControl(options=['position', 'zoom_in_text', 'zoom_in_title', '…"
            ],
            "application/vnd.jupyter.widget-view+json": {
              "version_major": 2,
              "version_minor": 0,
              "model_id": "b89f52ef2862415eb6bf0a359e4845b9"
            }
          },
          "metadata": {
            "application/vnd.jupyter.widget-view+json": {
              "colab": {
                "custom_widget_manager": {
                  "url": "https://ssl.gstatic.com/colaboratory-static/widgets/colab-cdn-widget-manager/b3e629b1971e1542/manager.min.js"
                }
              }
            }
          }
        }
      ]
    },
    {
      "cell_type": "markdown",
      "source": [
        "### Truck"
      ],
      "metadata": {
        "id": "QvePuF63n0IN"
      }
    },
    {
      "cell_type": "code",
      "source": [
        "# Adding markers in the interactive map\n",
        "icon1 = AwesomeIcon(\n",
        "    name='fa-truck',\n",
        "    marker_color='green',\n",
        "    icon_color='black',\n",
        "    spin=False\n",
        ")\n",
        "\n",
        "marker = ipl.Marker(icon=icon1, location=[G.nodes['basic_science']['y'],G.nodes['basic_science']['x']])\n",
        "m1.add_layer(marker)\n",
        "m1"
      ],
      "metadata": {
        "colab": {
          "base_uri": "https://localhost:8080/",
          "height": 821,
          "referenced_widgets": [
            "b89f52ef2862415eb6bf0a359e4845b9",
            "bc1b7b361e664745a08f5533c8a5d617",
            "6a5b758e4ff94869b115e006ef567c4b",
            "3822439c8a67436b95721829ceb875d4",
            "915738ef5e1542818db62abbaf9b5d2d",
            "6f13bd4ae37b4e4a8403ac2c4e7526ff",
            "c1c7ffba33f049029623a167af4e2be0",
            "a6de81e8267a41c2ac059629e5d1970f",
            "23faf049b30f426b9da7846b52b2d81f",
            "b54a86e6c80546b1b8b0da609ab5ba2a",
            "2477e039ed964b29a5b58c3a5dd5c01f",
            "36e81457207948bf9b744f6c78643332",
            "83a6997ef3404be29d2e2426902ce270",
            "41eb014a66c241eaa22b1dd59a7c22f1",
            "2041cd6b78c64deb9f8d23008225816a",
            "95e97d58cccd4f1889c635d7a4c5e08d",
            "2cd419a1507b41ada2f5af150bdd0559",
            "3726ecf523924b71b35eb317326296ee",
            "43e99fd7e6ce4902ab7083ef29223ee1",
            "18195a9007f64fba8b8ae04a0fb30a79",
            "deeb3ebdf6364041ad4e67821ffdad8d",
            "fa676d89b55d44c0ac3b49b66cbf5977",
            "aee714fe062a43749eec621f538e3cd8",
            "a88dc217c8eb46fabb8e09051f8ec396",
            "e42759c2265d4a1cbebe381655e11146",
            "1f6b0b113fa64ffa96c055288d5a9bf7",
            "1952d1e1b3d54d858ce55af1813ef927",
            "2c398faa75fb4da99a5f978c06f46051",
            "9e3c2bb59a114824afb3f61af3927541",
            "7442dbe7f6514a4ab70c2cf7a3be3348"
          ]
        },
        "id": "fomjUYJRnhvb",
        "outputId": "07414876-5bbd-4602-ca23-4607349ef10a"
      },
      "execution_count": 53,
      "outputs": [
        {
          "output_type": "display_data",
          "data": {
            "text/plain": [
              "Map(center=[12.96682, 77.71231], controls=(ZoomControl(options=['position', 'zoom_in_text', 'zoom_in_title', '…"
            ],
            "application/vnd.jupyter.widget-view+json": {
              "version_major": 2,
              "version_minor": 0,
              "model_id": "b89f52ef2862415eb6bf0a359e4845b9"
            }
          },
          "metadata": {
            "application/vnd.jupyter.widget-view+json": {
              "colab": {
                "custom_widget_manager": {
                  "url": "https://ssl.gstatic.com/colaboratory-static/widgets/colab-cdn-widget-manager/b3e629b1971e1542/manager.min.js"
                }
              }
            }
          }
        }
      ]
    },
    {
      "cell_type": "markdown",
      "source": [
        "## Animation of Shortest Path Traveral"
      ],
      "metadata": {
        "id": "04cnhu09okLJ"
      }
    },
    {
      "cell_type": "code",
      "source": [
        "# Moving the marker according to the shortest path\n",
        "display(m1)\n",
        "orig_node = \"basic_science\"\n",
        "marker.location = (G.nodes[orig_node]['y'], G.nodes[orig_node]['x'])\n",
        "dest_node = \"hostel_turn\"\n",
        "shortest_route = nx.shortest_path(G, orig_node, dest_node, weight='length')\n",
        "locations = [(G.nodes[node]['y'], G.nodes[node]['x']) for node in shortest_route]\n",
        "lines = ipl.Polyline(\n",
        "    locations=locations,\n",
        "    color=\"tomato\",\n",
        "    fill=False\n",
        ")\n",
        "m1.add_layer(lines)\n",
        "\n",
        "\n",
        "step = 0.5 # Speed can be varied here... higher the value lower the speed\n",
        "for point in shortest_route:\n",
        "    # Get the latitude and longitude of the node\n",
        "    latitude = G.nodes[point]['y']\n",
        "    longitude = G.nodes[point]['x']\n",
        "    marker.location = (latitude, longitude)\n",
        "    if re.match(pattern, point):\n",
        "        # Tree encountered\n",
        "        sleep(1)\n",
        "        visited = ipl.Circle(\n",
        "            location=(latitude, longitude),\n",
        "            radius=2,\n",
        "            color=\"#00b521\",\n",
        "            fill_color=\"#7fff96\",\n",
        "            fill=True,\n",
        "            fill_opacity=0.85\n",
        "        )\n",
        "        m1.add_layer(visited)\n",
        "  \n",
        "sleep(step)"
      ],
      "metadata": {
        "colab": {
          "base_uri": "https://localhost:8080/",
          "height": 821,
          "referenced_widgets": [
            "b89f52ef2862415eb6bf0a359e4845b9",
            "bc1b7b361e664745a08f5533c8a5d617",
            "6a5b758e4ff94869b115e006ef567c4b",
            "3822439c8a67436b95721829ceb875d4",
            "915738ef5e1542818db62abbaf9b5d2d",
            "6f13bd4ae37b4e4a8403ac2c4e7526ff",
            "c1c7ffba33f049029623a167af4e2be0",
            "a6de81e8267a41c2ac059629e5d1970f",
            "23faf049b30f426b9da7846b52b2d81f",
            "b54a86e6c80546b1b8b0da609ab5ba2a",
            "2477e039ed964b29a5b58c3a5dd5c01f",
            "36e81457207948bf9b744f6c78643332",
            "83a6997ef3404be29d2e2426902ce270",
            "41eb014a66c241eaa22b1dd59a7c22f1",
            "2041cd6b78c64deb9f8d23008225816a",
            "95e97d58cccd4f1889c635d7a4c5e08d",
            "2cd419a1507b41ada2f5af150bdd0559",
            "3726ecf523924b71b35eb317326296ee",
            "43e99fd7e6ce4902ab7083ef29223ee1",
            "18195a9007f64fba8b8ae04a0fb30a79",
            "a88dc217c8eb46fabb8e09051f8ec396",
            "deeb3ebdf6364041ad4e67821ffdad8d",
            "fa676d89b55d44c0ac3b49b66cbf5977",
            "aee714fe062a43749eec621f538e3cd8",
            "e42759c2265d4a1cbebe381655e11146",
            "1f6b0b113fa64ffa96c055288d5a9bf7",
            "1952d1e1b3d54d858ce55af1813ef927",
            "2c398faa75fb4da99a5f978c06f46051",
            "9e3c2bb59a114824afb3f61af3927541",
            "7442dbe7f6514a4ab70c2cf7a3be3348"
          ]
        },
        "id": "8wQRXtGboweT",
        "outputId": "e3ab869b-801b-423f-f330-70d6c7e727fe"
      },
      "execution_count": 54,
      "outputs": [
        {
          "output_type": "display_data",
          "data": {
            "text/plain": [
              "Map(bottom=31116739.0, center=[12.96682, 77.71231], controls=(ZoomControl(options=['position', 'zoom_in_text',…"
            ],
            "application/vnd.jupyter.widget-view+json": {
              "version_major": 2,
              "version_minor": 0,
              "model_id": "b89f52ef2862415eb6bf0a359e4845b9"
            }
          },
          "metadata": {
            "application/vnd.jupyter.widget-view+json": {
              "colab": {
                "custom_widget_manager": {
                  "url": "https://ssl.gstatic.com/colaboratory-static/widgets/colab-cdn-widget-manager/b3e629b1971e1542/manager.min.js"
                }
              }
            }
          }
        }
      ]
    },
    {
      "cell_type": "markdown",
      "source": [
        "## Misc."
      ],
      "metadata": {
        "id": "nd0_zzWSt_l6"
      }
    },
    {
      "cell_type": "code",
      "source": [
        "# Finding the longest path with the given start and end nodes\n",
        "\n",
        "longest_path = []\n",
        "for i in range(len(shortest_route) - 1):\n",
        "    start = shortest_route[i]\n",
        "    end = shortest_route[i+1]\n",
        "    G.remove_edge(start, end)\n",
        "    for path in nx.all_simple_paths(G, start, end):\n",
        "        if len(path) > len(longest_path):\n",
        "            longest_path = path\n",
        "    G.add_edge(start, end)\n",
        "\n",
        "longest_route_map = ox.plot_route_folium(G, longest_path)\n",
        "longest_route_map"
      ],
      "metadata": {
        "colab": {
          "base_uri": "https://localhost:8080/",
          "height": 402
        },
        "id": "JYLtZ0iFt9HS",
        "outputId": "413ceb01-9b96-49fc-da2b-3ae642b09424"
      },
      "execution_count": 55,
      "outputs": [
        {
          "output_type": "execute_result",
          "data": {
            "text/plain": [
              "<folium.folium.Map at 0x7f5dfe455af0>"
            ],
            "text/html": [
              "<div style=\"width:100%;\"><div style=\"position:relative;width:100%;height:0;padding-bottom:60%;\"><span style=\"color:#565656\">Make this Notebook Trusted to load map: File -> Trust Notebook</span><iframe srcdoc=\"&lt;!DOCTYPE html&gt;\n",
              "&lt;html&gt;\n",
              "&lt;head&gt;\n",
              "    \n",
              "    &lt;meta http-equiv=&quot;content-type&quot; content=&quot;text/html; charset=UTF-8&quot; /&gt;\n",
              "    \n",
              "        &lt;script&gt;\n",
              "            L_NO_TOUCH = false;\n",
              "            L_DISABLE_3D = false;\n",
              "        &lt;/script&gt;\n",
              "    \n",
              "    &lt;style&gt;html, body {width: 100%;height: 100%;margin: 0;padding: 0;}&lt;/style&gt;\n",
              "    &lt;style&gt;#map {position:absolute;top:0;bottom:0;right:0;left:0;}&lt;/style&gt;\n",
              "    &lt;script src=&quot;https://cdn.jsdelivr.net/npm/leaflet@1.9.3/dist/leaflet.js&quot;&gt;&lt;/script&gt;\n",
              "    &lt;script src=&quot;https://code.jquery.com/jquery-1.12.4.min.js&quot;&gt;&lt;/script&gt;\n",
              "    &lt;script src=&quot;https://cdn.jsdelivr.net/npm/bootstrap@5.2.2/dist/js/bootstrap.bundle.min.js&quot;&gt;&lt;/script&gt;\n",
              "    &lt;script src=&quot;https://cdnjs.cloudflare.com/ajax/libs/Leaflet.awesome-markers/2.0.2/leaflet.awesome-markers.js&quot;&gt;&lt;/script&gt;\n",
              "    &lt;link rel=&quot;stylesheet&quot; href=&quot;https://cdn.jsdelivr.net/npm/leaflet@1.9.3/dist/leaflet.css&quot;/&gt;\n",
              "    &lt;link rel=&quot;stylesheet&quot; href=&quot;https://cdn.jsdelivr.net/npm/bootstrap@5.2.2/dist/css/bootstrap.min.css&quot;/&gt;\n",
              "    &lt;link rel=&quot;stylesheet&quot; href=&quot;https://netdna.bootstrapcdn.com/bootstrap/3.0.0/css/bootstrap.min.css&quot;/&gt;\n",
              "    &lt;link rel=&quot;stylesheet&quot; href=&quot;https://cdn.jsdelivr.net/npm/@fortawesome/fontawesome-free@6.2.0/css/all.min.css&quot;/&gt;\n",
              "    &lt;link rel=&quot;stylesheet&quot; href=&quot;https://cdnjs.cloudflare.com/ajax/libs/Leaflet.awesome-markers/2.0.2/leaflet.awesome-markers.css&quot;/&gt;\n",
              "    &lt;link rel=&quot;stylesheet&quot; href=&quot;https://cdn.jsdelivr.net/gh/python-visualization/folium/folium/templates/leaflet.awesome.rotate.min.css&quot;/&gt;\n",
              "    \n",
              "            &lt;meta name=&quot;viewport&quot; content=&quot;width=device-width,\n",
              "                initial-scale=1.0, maximum-scale=1.0, user-scalable=no&quot; /&gt;\n",
              "            &lt;style&gt;\n",
              "                #map_73c9382e661a07509a356ebc830e6bc2 {\n",
              "                    position: relative;\n",
              "                    width: 100.0%;\n",
              "                    height: 100.0%;\n",
              "                    left: 0.0%;\n",
              "                    top: 0.0%;\n",
              "                }\n",
              "                .leaflet-container { font-size: 1rem; }\n",
              "            &lt;/style&gt;\n",
              "        \n",
              "&lt;/head&gt;\n",
              "&lt;body&gt;\n",
              "    \n",
              "    \n",
              "            &lt;div class=&quot;folium-map&quot; id=&quot;map_73c9382e661a07509a356ebc830e6bc2&quot; &gt;&lt;/div&gt;\n",
              "        \n",
              "&lt;/body&gt;\n",
              "&lt;script&gt;\n",
              "    \n",
              "    \n",
              "            var map_73c9382e661a07509a356ebc830e6bc2 = L.map(\n",
              "                &quot;map_73c9382e661a07509a356ebc830e6bc2&quot;,\n",
              "                {\n",
              "                    center: [12.966592524190768, 77.71160289285588],\n",
              "                    crs: L.CRS.EPSG3857,\n",
              "                    zoom: 1,\n",
              "                    zoomControl: true,\n",
              "                    preferCanvas: false,\n",
              "                }\n",
              "            );\n",
              "\n",
              "            \n",
              "\n",
              "        \n",
              "    \n",
              "            var tile_layer_8e06a9db6002b7b1fea487af4fbcf77d = L.tileLayer(\n",
              "                &quot;https://cartodb-basemaps-{s}.global.ssl.fastly.net/light_all/{z}/{x}/{y}.png&quot;,\n",
              "                {&quot;attribution&quot;: &quot;\\u0026copy; \\u003ca target=\\&quot;_blank\\&quot; href=\\&quot;http://www.openstreetmap.org/copyright\\&quot;\\u003eOpenStreetMap\\u003c/a\\u003e contributors \\u0026copy; \\u003ca target=\\&quot;_blank\\&quot; href=\\&quot;http://cartodb.com/attributions\\&quot;\\u003eCartoDB\\u003c/a\\u003e, CartoDB \\u003ca target=\\&quot;_blank\\&quot; href =\\&quot;http://cartodb.com/attributions\\&quot;\\u003eattributions\\u003c/a\\u003e&quot;, &quot;detectRetina&quot;: false, &quot;maxNativeZoom&quot;: 18, &quot;maxZoom&quot;: 18, &quot;minZoom&quot;: 0, &quot;noWrap&quot;: false, &quot;opacity&quot;: 1, &quot;subdomains&quot;: &quot;abc&quot;, &quot;tms&quot;: false}\n",
              "            ).addTo(map_73c9382e661a07509a356ebc830e6bc2);\n",
              "        \n",
              "    \n",
              "            var poly_line_e9e6da4a837b877b81d63f41631ef441 = L.polyline(\n",
              "                [[12.96626, 77.71211], [12.96645, 77.71206]],\n",
              "                {&quot;bubblingMouseEvents&quot;: true, &quot;color&quot;: &quot;#3388ff&quot;, &quot;dashArray&quot;: null, &quot;dashOffset&quot;: null, &quot;fill&quot;: false, &quot;fillColor&quot;: &quot;#3388ff&quot;, &quot;fillOpacity&quot;: 0.2, &quot;fillRule&quot;: &quot;evenodd&quot;, &quot;lineCap&quot;: &quot;round&quot;, &quot;lineJoin&quot;: &quot;round&quot;, &quot;noClip&quot;: false, &quot;opacity&quot;: 1.0, &quot;smoothFactor&quot;: 1.0, &quot;stroke&quot;: true, &quot;weight&quot;: 3}\n",
              "            ).addTo(map_73c9382e661a07509a356ebc830e6bc2);\n",
              "        \n",
              "    \n",
              "            var poly_line_860f0ad3ab5da7d0afc5e61221a7c024 = L.polyline(\n",
              "                [[12.96645, 77.71206], [12.96659, 77.71202]],\n",
              "                {&quot;bubblingMouseEvents&quot;: true, &quot;color&quot;: &quot;#3388ff&quot;, &quot;dashArray&quot;: null, &quot;dashOffset&quot;: null, &quot;fill&quot;: false, &quot;fillColor&quot;: &quot;#3388ff&quot;, &quot;fillOpacity&quot;: 0.2, &quot;fillRule&quot;: &quot;evenodd&quot;, &quot;lineCap&quot;: &quot;round&quot;, &quot;lineJoin&quot;: &quot;round&quot;, &quot;noClip&quot;: false, &quot;opacity&quot;: 1.0, &quot;smoothFactor&quot;: 1.0, &quot;stroke&quot;: true, &quot;weight&quot;: 3}\n",
              "            ).addTo(map_73c9382e661a07509a356ebc830e6bc2);\n",
              "        \n",
              "    \n",
              "            var poly_line_ab8003c721fc880a4584b31321580b6f = L.polyline(\n",
              "                [[12.96659, 77.71202], [12.9667974, 77.711963]],\n",
              "                {&quot;bubblingMouseEvents&quot;: true, &quot;color&quot;: &quot;#3388ff&quot;, &quot;dashArray&quot;: null, &quot;dashOffset&quot;: null, &quot;fill&quot;: false, &quot;fillColor&quot;: &quot;#3388ff&quot;, &quot;fillOpacity&quot;: 0.2, &quot;fillRule&quot;: &quot;evenodd&quot;, &quot;lineCap&quot;: &quot;round&quot;, &quot;lineJoin&quot;: &quot;round&quot;, &quot;noClip&quot;: false, &quot;opacity&quot;: 1.0, &quot;smoothFactor&quot;: 1.0, &quot;stroke&quot;: true, &quot;weight&quot;: 3}\n",
              "            ).addTo(map_73c9382e661a07509a356ebc830e6bc2);\n",
              "        \n",
              "    \n",
              "            var poly_line_f49214f0f2eb9ac5e13913f3460595f8 = L.polyline(\n",
              "                [[12.9667974, 77.711963], [12.96692, 77.71192]],\n",
              "                {&quot;bubblingMouseEvents&quot;: true, &quot;color&quot;: &quot;#3388ff&quot;, &quot;dashArray&quot;: null, &quot;dashOffset&quot;: null, &quot;fill&quot;: false, &quot;fillColor&quot;: &quot;#3388ff&quot;, &quot;fillOpacity&quot;: 0.2, &quot;fillRule&quot;: &quot;evenodd&quot;, &quot;lineCap&quot;: &quot;round&quot;, &quot;lineJoin&quot;: &quot;round&quot;, &quot;noClip&quot;: false, &quot;opacity&quot;: 1.0, &quot;smoothFactor&quot;: 1.0, &quot;stroke&quot;: true, &quot;weight&quot;: 3}\n",
              "            ).addTo(map_73c9382e661a07509a356ebc830e6bc2);\n",
              "        \n",
              "    \n",
              "            var poly_line_1ad5a584c564e5e316370403d8ddb1ff = L.polyline(\n",
              "                [[12.96692, 77.71192], [12.967, 77.7119]],\n",
              "                {&quot;bubblingMouseEvents&quot;: true, &quot;color&quot;: &quot;#3388ff&quot;, &quot;dashArray&quot;: null, &quot;dashOffset&quot;: null, &quot;fill&quot;: false, &quot;fillColor&quot;: &quot;#3388ff&quot;, &quot;fillOpacity&quot;: 0.2, &quot;fillRule&quot;: &quot;evenodd&quot;, &quot;lineCap&quot;: &quot;round&quot;, &quot;lineJoin&quot;: &quot;round&quot;, &quot;noClip&quot;: false, &quot;opacity&quot;: 1.0, &quot;smoothFactor&quot;: 1.0, &quot;stroke&quot;: true, &quot;weight&quot;: 3}\n",
              "            ).addTo(map_73c9382e661a07509a356ebc830e6bc2);\n",
              "        \n",
              "    \n",
              "            var poly_line_3b3e05327db2bbf81523d0b3a51ad7a3 = L.polyline(\n",
              "                [[12.967, 77.7119], [12.9671086, 77.7118638]],\n",
              "                {&quot;bubblingMouseEvents&quot;: true, &quot;color&quot;: &quot;#3388ff&quot;, &quot;dashArray&quot;: null, &quot;dashOffset&quot;: null, &quot;fill&quot;: false, &quot;fillColor&quot;: &quot;#3388ff&quot;, &quot;fillOpacity&quot;: 0.2, &quot;fillRule&quot;: &quot;evenodd&quot;, &quot;lineCap&quot;: &quot;round&quot;, &quot;lineJoin&quot;: &quot;round&quot;, &quot;noClip&quot;: false, &quot;opacity&quot;: 1.0, &quot;smoothFactor&quot;: 1.0, &quot;stroke&quot;: true, &quot;weight&quot;: 3}\n",
              "            ).addTo(map_73c9382e661a07509a356ebc830e6bc2);\n",
              "        \n",
              "    \n",
              "            var poly_line_8e41bc465c45c2d90f5d86f2265d58d4 = L.polyline(\n",
              "                [[12.9671086, 77.7118638], [12.96709, 77.71169]],\n",
              "                {&quot;bubblingMouseEvents&quot;: true, &quot;color&quot;: &quot;#3388ff&quot;, &quot;dashArray&quot;: null, &quot;dashOffset&quot;: null, &quot;fill&quot;: false, &quot;fillColor&quot;: &quot;#3388ff&quot;, &quot;fillOpacity&quot;: 0.2, &quot;fillRule&quot;: &quot;evenodd&quot;, &quot;lineCap&quot;: &quot;round&quot;, &quot;lineJoin&quot;: &quot;round&quot;, &quot;noClip&quot;: false, &quot;opacity&quot;: 1.0, &quot;smoothFactor&quot;: 1.0, &quot;stroke&quot;: true, &quot;weight&quot;: 3}\n",
              "            ).addTo(map_73c9382e661a07509a356ebc830e6bc2);\n",
              "        \n",
              "    \n",
              "            var poly_line_d0c43905d45991c047614ec2d5067224 = L.polyline(\n",
              "                [[12.96709, 77.71169], [12.96704, 77.71144]],\n",
              "                {&quot;bubblingMouseEvents&quot;: true, &quot;color&quot;: &quot;#3388ff&quot;, &quot;dashArray&quot;: null, &quot;dashOffset&quot;: null, &quot;fill&quot;: false, &quot;fillColor&quot;: &quot;#3388ff&quot;, &quot;fillOpacity&quot;: 0.2, &quot;fillRule&quot;: &quot;evenodd&quot;, &quot;lineCap&quot;: &quot;round&quot;, &quot;lineJoin&quot;: &quot;round&quot;, &quot;noClip&quot;: false, &quot;opacity&quot;: 1.0, &quot;smoothFactor&quot;: 1.0, &quot;stroke&quot;: true, &quot;weight&quot;: 3}\n",
              "            ).addTo(map_73c9382e661a07509a356ebc830e6bc2);\n",
              "        \n",
              "    \n",
              "            var poly_line_b7b32d90236d37593d45db0da660e67f = L.polyline(\n",
              "                [[12.96704, 77.71144], [12.96699, 77.71124]],\n",
              "                {&quot;bubblingMouseEvents&quot;: true, &quot;color&quot;: &quot;#3388ff&quot;, &quot;dashArray&quot;: null, &quot;dashOffset&quot;: null, &quot;fill&quot;: false, &quot;fillColor&quot;: &quot;#3388ff&quot;, &quot;fillOpacity&quot;: 0.2, &quot;fillRule&quot;: &quot;evenodd&quot;, &quot;lineCap&quot;: &quot;round&quot;, &quot;lineJoin&quot;: &quot;round&quot;, &quot;noClip&quot;: false, &quot;opacity&quot;: 1.0, &quot;smoothFactor&quot;: 1.0, &quot;stroke&quot;: true, &quot;weight&quot;: 3}\n",
              "            ).addTo(map_73c9382e661a07509a356ebc830e6bc2);\n",
              "        \n",
              "    \n",
              "            var poly_line_7d96d35165aa5952ff742ce53fe1fe95 = L.polyline(\n",
              "                [[12.96699, 77.71124], [12.96696, 77.71111]],\n",
              "                {&quot;bubblingMouseEvents&quot;: true, &quot;color&quot;: &quot;#3388ff&quot;, &quot;dashArray&quot;: null, &quot;dashOffset&quot;: null, &quot;fill&quot;: false, &quot;fillColor&quot;: &quot;#3388ff&quot;, &quot;fillOpacity&quot;: 0.2, &quot;fillRule&quot;: &quot;evenodd&quot;, &quot;lineCap&quot;: &quot;round&quot;, &quot;lineJoin&quot;: &quot;round&quot;, &quot;noClip&quot;: false, &quot;opacity&quot;: 1.0, &quot;smoothFactor&quot;: 1.0, &quot;stroke&quot;: true, &quot;weight&quot;: 3}\n",
              "            ).addTo(map_73c9382e661a07509a356ebc830e6bc2);\n",
              "        \n",
              "    \n",
              "            var poly_line_8a9a116caf9671db71c952296f28c3f3 = L.polyline(\n",
              "                [[12.96696, 77.71111], [12.96682, 77.71115]],\n",
              "                {&quot;bubblingMouseEvents&quot;: true, &quot;color&quot;: &quot;#3388ff&quot;, &quot;dashArray&quot;: null, &quot;dashOffset&quot;: null, &quot;fill&quot;: false, &quot;fillColor&quot;: &quot;#3388ff&quot;, &quot;fillOpacity&quot;: 0.2, &quot;fillRule&quot;: &quot;evenodd&quot;, &quot;lineCap&quot;: &quot;round&quot;, &quot;lineJoin&quot;: &quot;round&quot;, &quot;noClip&quot;: false, &quot;opacity&quot;: 1.0, &quot;smoothFactor&quot;: 1.0, &quot;stroke&quot;: true, &quot;weight&quot;: 3}\n",
              "            ).addTo(map_73c9382e661a07509a356ebc830e6bc2);\n",
              "        \n",
              "    \n",
              "            var poly_line_20de3c13b5e1f3a74ba56185431c1f20 = L.polyline(\n",
              "                [[12.96682, 77.71115], [12.96643, 77.71129]],\n",
              "                {&quot;bubblingMouseEvents&quot;: true, &quot;color&quot;: &quot;#3388ff&quot;, &quot;dashArray&quot;: null, &quot;dashOffset&quot;: null, &quot;fill&quot;: false, &quot;fillColor&quot;: &quot;#3388ff&quot;, &quot;fillOpacity&quot;: 0.2, &quot;fillRule&quot;: &quot;evenodd&quot;, &quot;lineCap&quot;: &quot;round&quot;, &quot;lineJoin&quot;: &quot;round&quot;, &quot;noClip&quot;: false, &quot;opacity&quot;: 1.0, &quot;smoothFactor&quot;: 1.0, &quot;stroke&quot;: true, &quot;weight&quot;: 3}\n",
              "            ).addTo(map_73c9382e661a07509a356ebc830e6bc2);\n",
              "        \n",
              "    \n",
              "            var poly_line_90b5aae6da4b3b7059b42d8d05e1f908 = L.polyline(\n",
              "                [[12.96643, 77.71129], [12.96608, 77.71141]],\n",
              "                {&quot;bubblingMouseEvents&quot;: true, &quot;color&quot;: &quot;#3388ff&quot;, &quot;dashArray&quot;: null, &quot;dashOffset&quot;: null, &quot;fill&quot;: false, &quot;fillColor&quot;: &quot;#3388ff&quot;, &quot;fillOpacity&quot;: 0.2, &quot;fillRule&quot;: &quot;evenodd&quot;, &quot;lineCap&quot;: &quot;round&quot;, &quot;lineJoin&quot;: &quot;round&quot;, &quot;noClip&quot;: false, &quot;opacity&quot;: 1.0, &quot;smoothFactor&quot;: 1.0, &quot;stroke&quot;: true, &quot;weight&quot;: 3}\n",
              "            ).addTo(map_73c9382e661a07509a356ebc830e6bc2);\n",
              "        \n",
              "    \n",
              "            var poly_line_c417ca8f8759d94337545f505e1c56a5 = L.polyline(\n",
              "                [[12.96608, 77.71141], [12.96598, 77.71148]],\n",
              "                {&quot;bubblingMouseEvents&quot;: true, &quot;color&quot;: &quot;#3388ff&quot;, &quot;dashArray&quot;: null, &quot;dashOffset&quot;: null, &quot;fill&quot;: false, &quot;fillColor&quot;: &quot;#3388ff&quot;, &quot;fillOpacity&quot;: 0.2, &quot;fillRule&quot;: &quot;evenodd&quot;, &quot;lineCap&quot;: &quot;round&quot;, &quot;lineJoin&quot;: &quot;round&quot;, &quot;noClip&quot;: false, &quot;opacity&quot;: 1.0, &quot;smoothFactor&quot;: 1.0, &quot;stroke&quot;: true, &quot;weight&quot;: 3}\n",
              "            ).addTo(map_73c9382e661a07509a356ebc830e6bc2);\n",
              "        \n",
              "    \n",
              "            var poly_line_fd01d0a30fc3e63754040d4d9d7bf145 = L.polyline(\n",
              "                [[12.96598, 77.71148], [12.96603, 77.71156]],\n",
              "                {&quot;bubblingMouseEvents&quot;: true, &quot;color&quot;: &quot;#3388ff&quot;, &quot;dashArray&quot;: null, &quot;dashOffset&quot;: null, &quot;fill&quot;: false, &quot;fillColor&quot;: &quot;#3388ff&quot;, &quot;fillOpacity&quot;: 0.2, &quot;fillRule&quot;: &quot;evenodd&quot;, &quot;lineCap&quot;: &quot;round&quot;, &quot;lineJoin&quot;: &quot;round&quot;, &quot;noClip&quot;: false, &quot;opacity&quot;: 1.0, &quot;smoothFactor&quot;: 1.0, &quot;stroke&quot;: true, &quot;weight&quot;: 3}\n",
              "            ).addTo(map_73c9382e661a07509a356ebc830e6bc2);\n",
              "        \n",
              "    \n",
              "            var poly_line_278bea263ed99a3910dd5163da0b2206 = L.polyline(\n",
              "                [[12.96603, 77.71156], [12.96612, 77.71179]],\n",
              "                {&quot;bubblingMouseEvents&quot;: true, &quot;color&quot;: &quot;#3388ff&quot;, &quot;dashArray&quot;: null, &quot;dashOffset&quot;: null, &quot;fill&quot;: false, &quot;fillColor&quot;: &quot;#3388ff&quot;, &quot;fillOpacity&quot;: 0.2, &quot;fillRule&quot;: &quot;evenodd&quot;, &quot;lineCap&quot;: &quot;round&quot;, &quot;lineJoin&quot;: &quot;round&quot;, &quot;noClip&quot;: false, &quot;opacity&quot;: 1.0, &quot;smoothFactor&quot;: 1.0, &quot;stroke&quot;: true, &quot;weight&quot;: 3}\n",
              "            ).addTo(map_73c9382e661a07509a356ebc830e6bc2);\n",
              "        \n",
              "    \n",
              "            var poly_line_51a2e6a4ddf14ad48343d69abcc3a24a = L.polyline(\n",
              "                [[12.96612, 77.71179], [12.9662, 77.71203]],\n",
              "                {&quot;bubblingMouseEvents&quot;: true, &quot;color&quot;: &quot;#3388ff&quot;, &quot;dashArray&quot;: null, &quot;dashOffset&quot;: null, &quot;fill&quot;: false, &quot;fillColor&quot;: &quot;#3388ff&quot;, &quot;fillOpacity&quot;: 0.2, &quot;fillRule&quot;: &quot;evenodd&quot;, &quot;lineCap&quot;: &quot;round&quot;, &quot;lineJoin&quot;: &quot;round&quot;, &quot;noClip&quot;: false, &quot;opacity&quot;: 1.0, &quot;smoothFactor&quot;: 1.0, &quot;stroke&quot;: true, &quot;weight&quot;: 3}\n",
              "            ).addTo(map_73c9382e661a07509a356ebc830e6bc2);\n",
              "        \n",
              "    \n",
              "            map_73c9382e661a07509a356ebc830e6bc2.fitBounds(\n",
              "                [[12.96598, 77.71111], [12.9671086, 77.71211]],\n",
              "                {}\n",
              "            );\n",
              "        \n",
              "&lt;/script&gt;\n",
              "&lt;/html&gt;\" style=\"position:absolute;width:100%;height:100%;left:0;top:0;border:none !important;\" allowfullscreen webkitallowfullscreen mozallowfullscreen></iframe></div></div>"
            ]
          },
          "metadata": {},
          "execution_count": 55
        }
      ]
    }
  ]
}